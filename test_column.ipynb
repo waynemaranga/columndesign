{
 "cells": [
  {
   "cell_type": "markdown",
   "metadata": {},
   "source": [
    "# Column - Pinned column using a non-slender UC"
   ]
  },
  {
   "cell_type": "markdown",
   "metadata": {},
   "source": [
    "P326: Steelwork design guide to BS 5950-1:2000 Volume 2: Worked examples\n",
    "Example No. 10"
   ]
  },
  {
   "cell_type": "markdown",
   "metadata": {},
   "source": [
    "#### Imports & Environment"
   ]
  },
  {
   "cell_type": "code",
   "execution_count": 72,
   "metadata": {},
   "outputs": [],
   "source": [
    "import handcalcs\n",
    "from handcalcs import render\n",
    "import forallpeople as si\n",
    "from modules.section import UniversalColumn"
   ]
  },
  {
   "cell_type": "code",
   "execution_count": 73,
   "metadata": {},
   "outputs": [],
   "source": [
    "# environments\n",
    "si.environment(\"structural\", top_level=True) # load SI units for structural eng. into the environment, top_level=True defines them in the top-level namespace (as vars)\n",
    "# -> Handcalcs environment settings for TeX rendering\n",
    "handcalcs.set_option(\"latex_block_start\", \"$\")\n",
    "handcalcs.set_option(\"latex_block_end\", \"$\")\n",
    "handcalcs.set_option(\"math_environment_start\", \"aligned\")\n",
    "handcalcs.set_option(\"math_environment_end\", \"aligned\")"
   ]
  },
  {
   "cell_type": "markdown",
   "metadata": {},
   "source": [
    "#### Params"
   ]
  },
  {
   "cell_type": "code",
   "execution_count": 74,
   "metadata": {},
   "outputs": [
    {
     "data": {
      "text/latex": [
       "$\n",
       "\\begin{aligned}\n",
       "L_{E} &= 6.0\\ \\mathrm{m} \\; \n",
       " &F_{c} &= 2.5\\ \\mathrm{MN} \\; \n",
       " &L_{Ex} &= 6.0\\ \\mathrm{m} \\; \n",
       "\\\\[10pt]\n",
       " L_{Ey} &= 6.0\\ \\mathrm{m} \\;\n",
       "\\end{aligned}\n",
       "$"
      ],
      "text/plain": [
       "<IPython.core.display.Latex object>"
      ]
     },
     "metadata": {},
     "output_type": "display_data"
    }
   ],
   "source": [
    "%%render params 1\n",
    "L_E = 6*m\n",
    "F_c = 2500 * kN\n",
    "\n",
    "# ...extras\n",
    "L_Ex = L_E\n",
    "L_Ey = L_E"
   ]
  },
  {
   "cell_type": "code",
   "execution_count": 75,
   "metadata": {},
   "outputs": [],
   "source": [
    "trial_section = UniversalColumn.create(designation=\"356x368x129\")"
   ]
  },
  {
   "cell_type": "code",
   "execution_count": 76,
   "metadata": {},
   "outputs": [
    {
     "data": {
      "text/latex": [
       "$\n",
       "\\begin{aligned}\n",
       "T &= 17.5\\ \\mathrm{mm} \\; \n",
       " &\\mathrm{bT} &= 10.5\\ \\mathrm{mm} \\; \n",
       " &\\mathrm{dt} &= 27.9\\ \\mathrm{mm} \\; \n",
       "\\\\[10pt]\n",
       " p_{y} &= 265.0\\ \\mathrm{MPa} \\; \n",
       " &r_{xx} &= 156.0\\ \\mathrm{mm} \\; \n",
       " &r_{yy} &= 94.3\\ \\mathrm{mm} \\; \n",
       "\\\\[10pt]\n",
       " A_{g} &= 16400.0\\ \\mathrm{mm}^{2} \\;\n",
       "\\end{aligned}\n",
       "$"
      ],
      "text/plain": [
       "<IPython.core.display.Latex object>"
      ]
     },
     "metadata": {},
     "output_type": "display_data"
    }
   ],
   "source": [
    "%%render params 1\n",
    "T = trial_section.T * mm\n",
    "bT = trial_section.b_T * mm\n",
    "dt = trial_section.d_t * mm\n",
    "# SteelGrade = 275 * MPa\n",
    "p_y = 265 * MPa\n",
    "\n",
    "r_xx = trial_section.r_xx * 10*mm\n",
    "r_yy = trial_section.r_yy * 10*mm\n",
    "A_g = trial_section.A * 100*mm**2"
   ]
  },
  {
   "cell_type": "code",
   "execution_count": 77,
   "metadata": {},
   "outputs": [
    {
     "data": {
      "text/latex": [
       "$\n",
       "\\begin{aligned}\n",
       "\\epsilon &= \\left( 275 \\cdot \\frac{ \\mathrm{MPa} }{ p_{y} } \\right) ^{ 0.5 }  = \\left( 275 \\cdot \\frac{ MPa }{ 265.00\\ \\mathrm{MPa} } \\right) ^{ 0.5 } &= 1.02  \n",
       "\\end{aligned}\n",
       "$"
      ],
      "text/plain": [
       "<IPython.core.display.Latex object>"
      ]
     },
     "metadata": {},
     "output_type": "display_data"
    }
   ],
   "source": [
    "%%render 2\n",
    "epsilon = (275*MPa / p_y)**0.5\n"
   ]
  },
  {
   "cell_type": "markdown",
   "metadata": {},
   "source": [
    "#### Slenderness"
   ]
  },
  {
   "cell_type": "code",
   "execution_count": 78,
   "metadata": {},
   "outputs": [
    {
     "data": {
      "text/latex": [
       "$\n",
       "\\begin{aligned}\n",
       "\\mathrm{lambda}_{x} &= \\frac{ L_{Ex} }{ r_{xx} }  = \\frac{ 6.00\\ \\mathrm{m} }{ 156.00\\ \\mathrm{mm} } &= 38.46  \n",
       "\\\\[10pt]\n",
       "\\mathrm{lambda}_{y} &= \\frac{ L_{Ey} }{ r_{yy} }  = \\frac{ 6.00\\ \\mathrm{m} }{ 94.30\\ \\mathrm{mm} } &= 63.63  \n",
       "\\end{aligned}\n",
       "$"
      ],
      "text/plain": [
       "<IPython.core.display.Latex object>"
      ]
     },
     "metadata": {},
     "output_type": "display_data"
    }
   ],
   "source": [
    "%%render 2\n",
    "lambda_x = L_Ex / r_xx\n",
    "lambda_y = L_Ey / r_yy"
   ]
  },
  {
   "cell_type": "markdown",
   "metadata": {},
   "source": [
    "#### Compression Resistance"
   ]
  },
  {
   "cell_type": "markdown",
   "metadata": {},
   "source": [
    "##### $p_{\\text{c}}$"
   ]
  },
  {
   "cell_type": "code",
   "execution_count": 79,
   "metadata": {},
   "outputs": [
    {
     "data": {
      "text/latex": [
       "$\n",
       "\\begin{aligned}\n",
       "p_{cx} &= 243.00\\ \\mathrm{MPa} \\; \n",
       " &p_{cy} &= 189.00\\ \\mathrm{MPa} \\; \n",
       " &p_{c} &= 189.00\\ \\mathrm{MPa} \\; \n",
       "\\\\[10pt]\n",
       "\\end{aligned}\n",
       "$"
      ],
      "text/plain": [
       "<IPython.core.display.Latex object>"
      ]
     },
     "metadata": {},
     "output_type": "display_data"
    }
   ],
   "source": [
    "%%render params 2\n",
    "p_cx = 243 * MPa\n",
    "p_cy = 189 * MPa\n",
    "p_c = min(p_cx, p_cy)"
   ]
  },
  {
   "cell_type": "markdown",
   "metadata": {},
   "source": [
    "##### $P_{\\text{c}}$"
   ]
  },
  {
   "cell_type": "code",
   "execution_count": 80,
   "metadata": {},
   "outputs": [
    {
     "data": {
      "text/latex": [
       "$\n",
       "\\begin{aligned}\n",
       "P_{c} &= A_{g} \\cdot p_{c}  = 16400.00\\ \\mathrm{mm}^{2} \\cdot 189.00\\ \\mathrm{MPa} &= 3.10\\ \\mathrm{MN}  \n",
       "\\\\[10pt]\n",
       "&\\text{Since, } F_{c} \\lt P_{c} \\rightarrow \\left( 2.50\\ \\mathrm{MN} \\lt 3.10\\ \\mathrm{MN} \\right) :   \\\\[10pt]\n",
       "\\mathrm{CompressionResistance} &= \\mathrm{OK} \\; \n",
       "\\end{aligned}\n",
       "$"
      ],
      "text/plain": [
       "<IPython.core.display.Latex object>"
      ]
     },
     "metadata": {},
     "output_type": "display_data"
    }
   ],
   "source": [
    "%%render 2\n",
    "P_c = A_g * p_c\n",
    "\n",
    "if F_c < P_c : CompressionResistance = \"OK\"\n",
    "if F_c >= P_c : CompressionResistance = \"INADEQUATE\""
   ]
  },
  {
   "cell_type": "markdown",
   "metadata": {},
   "source": []
  }
 ],
 "metadata": {
  "kernelspec": {
   "display_name": "tf",
   "language": "python",
   "name": "python3"
  },
  "language_info": {
   "codemirror_mode": {
    "name": "ipython",
    "version": 3
   },
   "file_extension": ".py",
   "mimetype": "text/x-python",
   "name": "python",
   "nbconvert_exporter": "python",
   "pygments_lexer": "ipython3",
   "version": "3.12.2"
  }
 },
 "nbformat": 4,
 "nbformat_minor": 2
}
