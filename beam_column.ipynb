{
 "cells": [
  {
   "cell_type": "markdown",
   "metadata": {},
   "source": [
    "# Column - Beam Column"
   ]
  },
  {
   "cell_type": "markdown",
   "metadata": {},
   "source": [
    "Example 4.11 Column resisting an axial load and bending (BS 5950)"
   ]
  },
  {
   "cell_type": "markdown",
   "metadata": {},
   "source": [
    "#### Imports & Environment"
   ]
  },
  {
   "cell_type": "code",
   "execution_count": 1,
   "metadata": {},
   "outputs": [],
   "source": [
    "import handcalcs\n",
    "from handcalcs import render\n",
    "import forallpeople as si\n",
    "from modules.section import UniversalColumn"
   ]
  },
  {
   "cell_type": "code",
   "execution_count": 2,
   "metadata": {},
   "outputs": [],
   "source": [
    "# environments\n",
    "si.environment(\"structural\", top_level=True) # load SI units for structural eng. into the environment, top_level=True defines them in the top-level namespace (as vars)\n",
    "# -> Handcalcs environment settings for TeX rendering\n",
    "handcalcs.set_option(\"latex_block_start\", \"$\")\n",
    "handcalcs.set_option(\"latex_block_end\", \"$\")\n",
    "handcalcs.set_option(\"math_environment_start\", \"aligned\")\n",
    "handcalcs.set_option(\"math_environment_end\", \"aligned\")"
   ]
  },
  {
   "cell_type": "markdown",
   "metadata": {},
   "source": [
    "#### Params"
   ]
  },
  {
   "cell_type": "code",
   "execution_count": 3,
   "metadata": {},
   "outputs": [
    {
     "data": {
      "text/latex": [
       "$\n",
       "\\begin{aligned}\n",
       "L_{E} &= 7.0\\ \\mathrm{m} \\; \n",
       " &F_{c} &= 2.0\\ \\mathrm{MN} \\; \n",
       " &M_{x} &= 100.0\\ \\mathrm{kN} \\cdot \\mathrm{m} \\; \n",
       "\\\\[10pt]\n",
       " M_{y} &= 20.0\\ \\mathrm{kN} \\cdot \\mathrm{m} \\; \n",
       " &L_{Ex} &= 7.0\\ \\mathrm{m} \\; \n",
       " &L_{Ey} &= 7.0\\ \\mathrm{m} \\; \n",
       "\\\\[10pt]\n",
       "\\end{aligned}\n",
       "$"
      ],
      "text/plain": [
       "<IPython.core.display.Latex object>"
      ]
     },
     "metadata": {},
     "output_type": "display_data"
    }
   ],
   "source": [
    "%%render params 1\n",
    "L_E = 7*m\n",
    "F_c = 2000 * kN\n",
    "M_x = 100 * kN * m\n",
    "M_y = 20 * kN * m\n",
    "\n",
    "# ...extras\n",
    "L_Ex = L_E\n",
    "L_Ey = L_E"
   ]
  },
  {
   "cell_type": "code",
   "execution_count": 4,
   "metadata": {},
   "outputs": [],
   "source": [
    "# trial_section = UniversalColumn.create(designation=\"305x305x118\") # Trial 1\n",
    "trial_section = UniversalColumn.create(designation=\"356x368x177\") # Trial 2"
   ]
  },
  {
   "cell_type": "code",
   "execution_count": 5,
   "metadata": {},
   "outputs": [
    {
     "data": {
      "text/latex": [
       "$\n",
       "\\begin{aligned}\n",
       "d &= 290.2\\ \\mathrm{mm} \\; \n",
       " &t &= 14.4\\ \\mathrm{mm} \\; \n",
       " &T &= 23.8\\ \\mathrm{mm} \\; \n",
       "\\\\[10pt]\n",
       " \\mathrm{bT} &= 7.8\\ \\mathrm{mm} \\; \n",
       " &\\mathrm{dt} &= 20.2\\ \\mathrm{mm} \\; \n",
       " &p_{y} &= 265.0\\ \\mathrm{MPa} \\; \n",
       "\\\\[10pt]\n",
       " S_{xx} &= 3460000.0\\ \\mathrm{mm}^{3} \\; \n",
       " &S_{yy} &= 1670000.0\\ \\mathrm{mm}^{3} \\; \n",
       " &Z_{xx} &= 3100000.0\\ \\mathrm{mm}^{3} \\; \n",
       "\\\\[10pt]\n",
       " Z_{yy} &= 1100000.0\\ \\mathrm{mm}^{3} \\; \n",
       " &r_{xx} &= 159.0\\ \\mathrm{mm} \\; \n",
       " &r_{yy} &= 95.4\\ \\mathrm{mm} \\; \n",
       "\\\\[10pt]\n",
       " A_{g} &= 22600.0\\ \\mathrm{mm}^{2} \\;\n",
       "\\end{aligned}\n",
       "$"
      ],
      "text/plain": [
       "<IPython.core.display.Latex object>"
      ]
     },
     "metadata": {},
     "output_type": "display_data"
    }
   ],
   "source": [
    "%%render params 1\n",
    "d = trial_section.d * mm\n",
    "t = trial_section.t * mm\n",
    "T = trial_section.T * mm\n",
    "bT = trial_section.b_T * mm\n",
    "dt = trial_section.d_t * mm\n",
    "# SteelGrade = 275 * MPa\n",
    "p_y = 265 * MPa\n",
    "\n",
    "S_xx = trial_section.S_xx * 1000*mm**3\n",
    "S_yy = trial_section.S_yy * 1000*mm**3\n",
    "Z_xx = trial_section.Z_xx * 1000*mm**3\n",
    "Z_yy = trial_section.Z_yy * 1000*mm**3\n",
    "r_xx = trial_section.r_xx * 10*mm\n",
    "r_yy = trial_section.r_yy * 10*mm\n",
    "A_g = trial_section.A * 100*mm**2"
   ]
  },
  {
   "cell_type": "code",
   "execution_count": 6,
   "metadata": {},
   "outputs": [
    {
     "data": {
      "text/latex": [
       "$\n",
       "\\begin{aligned}\n",
       "r_{1_{initial}} &= \\frac{ F_{c} }{ d \\cdot t \\cdot p_{y} }  = \\frac{ 2.00\\ \\mathrm{MN} }{ 290.20\\ \\mathrm{mm} \\cdot 14.40\\ \\mathrm{mm} \\cdot 265.00\\ \\mathrm{MPa} } &= 1.81  \n",
       "\\\\[10pt]\n",
       "&\\text{Since, } r_{1_{initial}} \\gt 1 \\rightarrow \\left( 1.81 \\gt 1 \\right) :   \\\\[10pt]\n",
       "r_{1} &= 1 \\; \n",
       "\\end{aligned}\n",
       "$"
      ],
      "text/plain": [
       "<IPython.core.display.Latex object>"
      ]
     },
     "metadata": {},
     "output_type": "display_data"
    }
   ],
   "source": [
    "%%render short 2\n",
    "r_1_initial = F_c / (d * t * p_y)\n",
    "\n",
    "if r_1_initial < -1 : r_1 = 1\n",
    "elif r_1_initial > 1: r_1 = 1\n",
    "elif -1 < r_1_initial < 1: r_1_initial = r_1"
   ]
  },
  {
   "cell_type": "code",
   "execution_count": 7,
   "metadata": {},
   "outputs": [
    {
     "data": {
      "text/latex": [
       "$\n",
       "\\begin{aligned}\n",
       "\\epsilon &= \\left( 275 \\cdot \\frac{ \\mathrm{MPa} }{ p_{y} } \\right) ^{ 0.5 }  = \\left( 275 \\cdot \\frac{ MPa }{ 265.00\\ \\mathrm{MPa} } \\right) ^{ 0.5 } &= 1.02  \n",
       "\\end{aligned}\n",
       "$"
      ],
      "text/plain": [
       "<IPython.core.display.Latex object>"
      ]
     },
     "metadata": {},
     "output_type": "display_data"
    }
   ],
   "source": [
    "%%render 2\n",
    "epsilon = (275*MPa / p_y)**0.5\n"
   ]
  },
  {
   "cell_type": "markdown",
   "metadata": {},
   "source": [
    "#### $M_{\\text{cx}}$ and $M_{\\text{cy}}$"
   ]
  },
  {
   "cell_type": "code",
   "execution_count": 8,
   "metadata": {},
   "outputs": [
    {
     "data": {
      "text/latex": [
       "$\n",
       "\\begin{aligned}\n",
       "M_{cx} &= p_{y} \\cdot S_{xx}  = 265.00\\ \\mathrm{MPa} \\cdot 3460000.00\\ \\mathrm{mm}^{3} &= 916.90\\ \\mathrm{kN} \\cdot \\mathrm{m}  \n",
       "\\\\[10pt]\n",
       "M_{cy} &= p_{y} \\cdot S_{yy}  = 265.00\\ \\mathrm{MPa} \\cdot 1670000.00\\ \\mathrm{mm}^{3} &= 442.55\\ \\mathrm{kN} \\cdot \\mathrm{m}  \n",
       "\\end{aligned}\n",
       "$"
      ],
      "text/plain": [
       "<IPython.core.display.Latex object>"
      ]
     },
     "metadata": {},
     "output_type": "display_data"
    }
   ],
   "source": [
    "%%render 2\n",
    "M_cx = p_y * S_xx\n",
    "M_cy = p_y * S_yy"
   ]
  },
  {
   "cell_type": "markdown",
   "metadata": {},
   "source": [
    "#### Cross-section capacity check"
   ]
  },
  {
   "cell_type": "code",
   "execution_count": 9,
   "metadata": {},
   "outputs": [
    {
     "data": {
      "text/latex": [
       "$\n",
       "\\begin{aligned}\n",
       "\\mathrm{CSCC}_{check} &= \\frac{ F_{c} }{ A_{g} \\cdot p_{y} } + \\frac{ M_{x} }{ M_{cx} } + \\frac{ M_{y} }{ M_{cy} }  = \\frac{ 2.000\\ \\mathrm{MN} }{ 22600.000\\ \\mathrm{mm}^{2} \\cdot 265.000\\ \\mathrm{MPa} } + \\frac{ 100.000\\ \\mathrm{kN} \\cdot \\mathrm{m} }{ 916.900\\ \\mathrm{kN} \\cdot \\mathrm{m} } + \\frac{ 20.000\\ \\mathrm{kN} \\cdot \\mathrm{m} }{ 442.550\\ \\mathrm{kN} \\cdot \\mathrm{m} } &= 0.488  \n",
       "\\\\[10pt]\n",
       "&\\text{Since, } \\mathrm{CSCC}_{check} \\lt 1 \\rightarrow \\left( 0.488 \\lt 1 \\right) :   \\\\[10pt]\n",
       "\\mathrm{CrossSectionCapacity} &= \\mathrm{OK} \\; \n",
       "\\end{aligned}\n",
       "$"
      ],
      "text/plain": [
       "<IPython.core.display.Latex object>"
      ]
     },
     "metadata": {},
     "output_type": "display_data"
    }
   ],
   "source": [
    "%%render 3\n",
    "CSCC_check = F_c/(A_g * p_y) + M_x/M_cx + M_y/M_cy\n",
    "\n",
    "if CSCC_check < 1: CrossSectionCapacity = \"OK\"\n",
    "elif CSCC_check >= 1: CrossSectionCapacity = \"INADEQUATE\""
   ]
  },
  {
   "cell_type": "markdown",
   "metadata": {},
   "source": [
    "#### Buckling Resistance"
   ]
  },
  {
   "cell_type": "markdown",
   "metadata": {},
   "source": [
    "##### In-plane Buckling"
   ]
  },
  {
   "cell_type": "code",
   "execution_count": 10,
   "metadata": {},
   "outputs": [
    {
     "data": {
      "text/latex": [
       "$\n",
       "\\begin{aligned}\n",
       "\\mathrm{lambda}_{x} &= \\frac{ L_{Ex} }{ r_{xx} }  = \\frac{ 7.00\\ \\mathrm{m} }{ 159.00\\ \\mathrm{mm} } &= 44.03  \n",
       "\\\\[10pt]\n",
       "\\mathrm{lambda}_{y} &= \\frac{ L_{Ey} }{ r_{yy} }  = \\frac{ 7.00\\ \\mathrm{m} }{ 95.40\\ \\mathrm{mm} } &= 73.38  \n",
       "\\\\[10pt]\n",
       "\\mathrm{lambda}_{eff} &= \\operatorname{max} { \\left( \\mathrm{lambda}_{x} ,\\  \\mathrm{lambda}_{y} \\right) }  = \\operatorname{max} { \\left( 44.03 ,\\  73.38 \\right) } &= 73.38  \n",
       "\\end{aligned}\n",
       "$"
      ],
      "text/plain": [
       "<IPython.core.display.Latex object>"
      ]
     },
     "metadata": {},
     "output_type": "display_data"
    }
   ],
   "source": [
    "%%render 2\n",
    "lambda_x = L_Ex / r_xx\n",
    "lambda_y = L_Ey / r_yy\n",
    "lambda_eff = max(lambda_x, lambda_y)"
   ]
  },
  {
   "cell_type": "code",
   "execution_count": 11,
   "metadata": {},
   "outputs": [
    {
     "data": {
      "text/latex": [
       "$\n",
       "\\begin{aligned}\n",
       "p_{cx} &= 157.00\\ \\mathrm{MPa} \\; \n",
       " &p_{cy} &= 139.00\\ \\mathrm{MPa} \\;\n",
       "\\end{aligned}\n",
       "$"
      ],
      "text/plain": [
       "<IPython.core.display.Latex object>"
      ]
     },
     "metadata": {},
     "output_type": "display_data"
    }
   ],
   "source": [
    "%%render params 2\n",
    "p_cx = 157 * MPa\n",
    "p_cy = 139 * MPa\n",
    "# p_c = min(p_cx, p_cy)"
   ]
  },
  {
   "cell_type": "code",
   "execution_count": 12,
   "metadata": {},
   "outputs": [
    {
     "data": {
      "text/latex": [
       "$\n",
       "\\begin{aligned}\n",
       "P_{cx} &= A_{g} \\cdot p_{cx}  = 22600.00\\ \\mathrm{mm}^{2} \\cdot 157.00\\ \\mathrm{MPa} &= 3.55\\ \\mathrm{MN}  \n",
       "\\\\[10pt]\n",
       "P_{cy} &= A_{g} \\cdot p_{cy}  = 22600.00\\ \\mathrm{mm}^{2} \\cdot 139.00\\ \\mathrm{MPa} &= 3.14\\ \\mathrm{MN}  \n",
       "\\\\[10pt]\n",
       "P_{c} &= \\operatorname{min} { \\left( P_{cx} ,\\  P_{cy} \\right) }  = \\operatorname{min} { \\left( 3.55\\ \\mathrm{MN} ,\\  3.14\\ \\mathrm{MN} \\right) } &= 3.14\\ \\mathrm{MN}  \n",
       "\\end{aligned}\n",
       "$"
      ],
      "text/plain": [
       "<IPython.core.display.Latex object>"
      ]
     },
     "metadata": {},
     "output_type": "display_data"
    }
   ],
   "source": [
    "%%render 2\n",
    "P_cx = A_g * p_cx\n",
    "P_cy = A_g * p_cy\n",
    "\n",
    "P_c = min(P_cx, P_cy)"
   ]
  },
  {
   "cell_type": "code",
   "execution_count": 13,
   "metadata": {},
   "outputs": [
    {
     "data": {
      "text/latex": [
       "$\n",
       "\\begin{aligned}\n",
       "\\beta &= 1 \\; \n",
       " &m_{x} &= 1 \\; \n",
       " &m_{y} &= 1 \\; \n",
       "\\\\[10pt]\n",
       "\\end{aligned}\n",
       "$"
      ],
      "text/plain": [
       "<IPython.core.display.Latex object>"
      ]
     },
     "metadata": {},
     "output_type": "display_data"
    }
   ],
   "source": [
    "%%render params 2\n",
    "beta = 1\n",
    "m_x = 1\n",
    "m_y = 1"
   ]
  },
  {
   "cell_type": "code",
   "execution_count": 14,
   "metadata": {},
   "outputs": [
    {
     "data": {
      "text/latex": [
       "$\n",
       "\\begin{aligned}\n",
       "\\mathrm{IPB}_{check} &= \\frac{ F_{c} }{ P_{c} } + \\frac{ m_{x} \\cdot M_{x} }{ p_{y} \\cdot Z_{xx} } + \\frac{ m_{y} \\cdot M_{y} }{ p_{y} \\cdot Z_{yy} } \\\\&= \\frac{ 2.00\\ \\mathrm{MN} }{ 3.14\\ \\mathrm{MN} } + \\frac{ 1 \\cdot 100.00\\ \\mathrm{kN} \\cdot \\mathrm{m} }{ 265.00\\ \\mathrm{MPa} \\cdot 3100000.00\\ \\mathrm{mm}^{3} } + \\frac{ 1 \\cdot 20.00\\ \\mathrm{kN} \\cdot \\mathrm{m} }{ 265.00\\ \\mathrm{MPa} \\cdot 1100000.00\\ \\mathrm{mm}^{3} } \\\\&= 0.83  \\\\[10pt]\n",
       "\\\\[10pt]\n",
       "&\\text{Since, } \\mathrm{IPB}_{check} \\lt 1 \\rightarrow \\left( 0.83 \\lt 1 \\right) :   \\\\[10pt]\n",
       "\\mathrm{InPlaneBuckling} &= \\mathrm{OK} \\; \n",
       "\\end{aligned}\n",
       "$"
      ],
      "text/plain": [
       "<IPython.core.display.Latex object>"
      ]
     },
     "metadata": {},
     "output_type": "display_data"
    }
   ],
   "source": [
    "%%render 2\n",
    "IPB_check = F_c/P_c + (m_x*M_x)/(p_y*Z_xx) + (m_y*M_y)/(p_y*Z_yy)\n",
    "\n",
    "if IPB_check < 1: InPlaneBuckling = \"OK\"\n",
    "elif IPB_check >= 1: InPlaneBuckling = \"INADEQUATE\""
   ]
  },
  {
   "cell_type": "markdown",
   "metadata": {},
   "source": [
    "##### Lateral torsional buckling"
   ]
  },
  {
   "cell_type": "code",
   "execution_count": 15,
   "metadata": {},
   "outputs": [
    {
     "data": {
      "text/latex": [
       "$\n",
       "\\begin{aligned}\n",
       "p_{b} &= 220.00\\ \\mathrm{MPa} \\; \n",
       " &\\beta &= 1 \\; \n",
       " &m_{LT} &= 1 \\; \n",
       "\\\\[10pt]\n",
       " M_{LT} &= 100.00\\ \\mathrm{kN} \\cdot \\mathrm{m} \\;\n",
       "\\end{aligned}\n",
       "$"
      ],
      "text/plain": [
       "<IPython.core.display.Latex object>"
      ]
     },
     "metadata": {},
     "output_type": "display_data"
    }
   ],
   "source": [
    "%%render params 2\n",
    "p_b = 220 * MPa\n",
    "beta = 1\n",
    "m_LT = 1\n",
    "M_LT = max(M_x, M_y)"
   ]
  },
  {
   "cell_type": "code",
   "execution_count": 16,
   "metadata": {},
   "outputs": [
    {
     "data": {
      "text/latex": [
       "$\n",
       "\\begin{aligned}\n",
       "M_{b} &= p_{b} \\cdot S_{xx} \\\\&= 220.00\\ \\mathrm{MPa} \\cdot 3460000.00\\ \\mathrm{mm}^{3} \\\\&= 761.20\\ \\mathrm{kN} \\cdot \\mathrm{m}  \\\\[10pt]\n",
       "\\\\[10pt]\n",
       "\\mathrm{LTB}_{check} &= \\frac{ F_{c} }{ P_{cy} } + \\frac{ m_{LT} \\cdot M_{LT} }{ M_{b} } + \\frac{ m_{y} \\cdot M_{y} }{ p_{y} \\cdot Z_{yy} } \\\\&= \\frac{ 2.00\\ \\mathrm{MN} }{ 3.14\\ \\mathrm{MN} } + \\frac{ 1 \\cdot 100.00\\ \\mathrm{kN} \\cdot \\mathrm{m} }{ 761.20\\ \\mathrm{kN} \\cdot \\mathrm{m} } + \\frac{ 1 \\cdot 20.00\\ \\mathrm{kN} \\cdot \\mathrm{m} }{ 265.00\\ \\mathrm{MPa} \\cdot 1100000.00\\ \\mathrm{mm}^{3} } \\\\&= 0.84  \\\\[10pt]\n",
       "\\\\[10pt]\n",
       "&\\text{Since, } \\mathrm{LTB}_{check} \\lt 1 \\rightarrow \\left( 0.84 \\lt 1 \\right) :   \\\\[10pt]\n",
       "\\mathrm{LateralTorsionalBuckling} &= \\mathrm{OK} \\; \n",
       "\\end{aligned}\n",
       "$"
      ],
      "text/plain": [
       "<IPython.core.display.Latex object>"
      ]
     },
     "metadata": {},
     "output_type": "display_data"
    }
   ],
   "source": [
    "%%render long 2\n",
    "M_b = p_b * S_xx\n",
    "LTB_check = F_c/P_cy + (m_LT*M_LT)/M_b + (m_y*M_y)/(p_y*Z_yy)\n",
    "\n",
    "if LTB_check < 1: LateralTorsionalBuckling = \"OK\"\n",
    "elif LTB_check >= 1: LateralTorsionalBuckling = \"INADEQUATE\""
   ]
  },
  {
   "cell_type": "markdown",
   "metadata": {},
   "source": []
  }
 ],
 "metadata": {
  "kernelspec": {
   "display_name": "tf",
   "language": "python",
   "name": "python3"
  },
  "language_info": {
   "codemirror_mode": {
    "name": "ipython",
    "version": 3
   },
   "file_extension": ".py",
   "mimetype": "text/x-python",
   "name": "python",
   "nbconvert_exporter": "python",
   "pygments_lexer": "ipython3",
   "version": "3.12.2"
  }
 },
 "nbformat": 4,
 "nbformat_minor": 2
}
