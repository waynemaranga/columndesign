{
 "cells": [
  {
   "cell_type": "code",
   "execution_count": 20,
   "metadata": {},
   "outputs": [],
   "source": [
    "import handcalcs\n",
    "import forallpeople as si\n",
    "import scipy\n",
    "from modules.section import UniversalColumn\n",
    "from handcalcs import render"
   ]
  },
  {
   "cell_type": "code",
   "execution_count": 21,
   "metadata": {},
   "outputs": [],
   "source": [
    "# environments\n",
    "si.environment(\"structural\", top_level=True) # load SI units for structural eng. into the environment, top_level=True defines them in the top-level namespace (as vars)\n",
    "# -> Handcalcs environment settings for TeX rendering\n",
    "handcalcs.set_option(\"latex_block_start\", \"$\")\n",
    "handcalcs.set_option(\"latex_block_end\", \"$\")\n",
    "handcalcs.set_option(\"math_environment_start\", \"aligned\")\n",
    "handcalcs.set_option(\"math_environment_end\", \"aligned\")"
   ]
  },
  {
   "cell_type": "code",
   "execution_count": 22,
   "metadata": {},
   "outputs": [],
   "source": [
    "# column_section = UniversalColumn.create(designation=\"254x254x73\") # PPM example 4\n",
    "column_section = UniversalColumn.create(designation=\"305x305x118\") # Arya example 4.15"
   ]
  },
  {
   "cell_type": "code",
   "execution_count": 23,
   "metadata": {},
   "outputs": [
    {
     "data": {
      "text/latex": [
       "$\n",
       "\\begin{aligned}\n",
       "F_{c} &= 3.00\\ \\mathrm{MN} \\; \\;\\textrm{(PPM)}\n",
       " &f_{cu} &= 30.00\\ \\mathrm{MPa} \\; \n",
       " &D &= 314.50\\ \\mathrm{mm} \\; \n",
       "\\\\[10pt]\n",
       " B &= 307.40\\ \\mathrm{mm} \\; \n",
       " &d &= 246.70\\ \\mathrm{mm} \\; \n",
       " &t &= 12.00\\ \\mathrm{mm} \\; \n",
       "\\\\[10pt]\n",
       " T &= 18.70\\ \\mathrm{mm} \\;\n",
       "\\end{aligned}\n",
       "$"
      ],
      "text/plain": [
       "<IPython.core.display.Latex object>"
      ]
     },
     "metadata": {},
     "output_type": "display_data"
    }
   ],
   "source": [
    "%%render params 2\n",
    "F_c = 3000 * kN # PPM\n",
    "# F_c = 3000 * kN\n",
    "f_cu = 30 * MPa\n",
    "\n",
    "# --> Section Data\n",
    "D = column_section.D * mm\n",
    "B = column_section.B * mm\n",
    "d = column_section.d * mm\n",
    "t = column_section.t * mm\n",
    "T = column_section.T * mm\n"
   ]
  },
  {
   "cell_type": "code",
   "execution_count": 18,
   "metadata": {},
   "outputs": [
    {
     "data": {
      "text/latex": [
       "$\n",
       "\\begin{aligned}\n",
       "A_{be_{limit}} &= \\frac{ F_{c} }{ 0.6 \\cdot f_{cu} }  = \\frac{ 3.00\\ \\mathrm{MN} }{ 0.6 \\cdot 30.00\\ \\mathrm{MPa} } &= 166666.67\\ \\mathrm{mm}^{2}  \n",
       "\\end{aligned}\n",
       "$"
      ],
      "text/plain": [
       "<IPython.core.display.Latex object>"
      ]
     },
     "metadata": {},
     "output_type": "display_data"
    }
   ],
   "source": [
    "%%render 2\n",
    "A_be_limit = F_c/(0.6 * f_cu)"
   ]
  },
  {
   "cell_type": "code",
   "execution_count": 19,
   "metadata": {},
   "outputs": [],
   "source": [
    "# %%render 2\n",
    "# A_be = 2 * (B * 2*c)*(T + 2*c) + ( (t +2*c) * (D - 2*(T + c)))"
   ]
  },
  {
   "cell_type": "code",
   "execution_count": null,
   "metadata": {},
   "outputs": [],
   "source": []
  }
 ],
 "metadata": {
  "kernelspec": {
   "display_name": "tf",
   "language": "python",
   "name": "python3"
  },
  "language_info": {
   "codemirror_mode": {
    "name": "ipython",
    "version": 3
   },
   "file_extension": ".py",
   "mimetype": "text/x-python",
   "name": "python",
   "nbconvert_exporter": "python",
   "pygments_lexer": "ipython3",
   "version": "3.12.2"
  }
 },
 "nbformat": 4,
 "nbformat_minor": 2
}
