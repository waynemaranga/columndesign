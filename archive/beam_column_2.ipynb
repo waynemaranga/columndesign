{
 "cells": [
  {
   "cell_type": "markdown",
   "metadata": {},
   "source": [
    "# Column - Beam Column"
   ]
  },
  {
   "cell_type": "markdown",
   "metadata": {},
   "source": [
    "Example 3 - Design of Beam-Columns"
   ]
  },
  {
   "cell_type": "markdown",
   "metadata": {},
   "source": [
    "#### Imports & Environment"
   ]
  },
  {
   "cell_type": "code",
   "execution_count": 1,
   "metadata": {},
   "outputs": [
    {
     "ename": "ModuleNotFoundError",
     "evalue": "No module named 'modules'",
     "output_type": "error",
     "traceback": [
      "\u001b[0;31m---------------------------------------------------------------------------\u001b[0m",
      "\u001b[0;31mModuleNotFoundError\u001b[0m                       Traceback (most recent call last)",
      "Cell \u001b[0;32mIn[1], line 4\u001b[0m\n\u001b[1;32m      2\u001b[0m \u001b[38;5;28;01mfrom\u001b[39;00m \u001b[38;5;21;01mhandcalcs\u001b[39;00m \u001b[38;5;28;01mimport\u001b[39;00m render\n\u001b[1;32m      3\u001b[0m \u001b[38;5;28;01mimport\u001b[39;00m \u001b[38;5;21;01mforallpeople\u001b[39;00m \u001b[38;5;28;01mas\u001b[39;00m \u001b[38;5;21;01msi\u001b[39;00m\n\u001b[0;32m----> 4\u001b[0m \u001b[38;5;28;01mfrom\u001b[39;00m \u001b[38;5;21;01mmodules\u001b[39;00m\u001b[38;5;21;01m.\u001b[39;00m\u001b[38;5;21;01msection\u001b[39;00m \u001b[38;5;28;01mimport\u001b[39;00m UniversalColumn\n",
      "\u001b[0;31mModuleNotFoundError\u001b[0m: No module named 'modules'"
     ]
    }
   ],
   "source": [
    "import handcalcs\n",
    "from handcalcs import render\n",
    "import forallpeople as si\n",
    "from modules.section import UniversalColumn"
   ]
  },
  {
   "cell_type": "code",
   "execution_count": null,
   "metadata": {},
   "outputs": [],
   "source": [
    "# environments\n",
    "si.environment(\"structural\", top_level=True) # load SI units for structural eng. into the environment, top_level=True defines them in the top-level namespace (as vars)\n",
    "# -> Handcalcs environment settings for TeX rendering\n",
    "handcalcs.set_option(\"latex_block_start\", \"$\")\n",
    "handcalcs.set_option(\"latex_block_end\", \"$\")\n",
    "handcalcs.set_option(\"math_environment_start\", \"aligned\")\n",
    "handcalcs.set_option(\"math_environment_end\", \"aligned\")"
   ]
  },
  {
   "cell_type": "markdown",
   "metadata": {},
   "source": [
    "#### Params"
   ]
  },
  {
   "cell_type": "code",
   "execution_count": null,
   "metadata": {},
   "outputs": [],
   "source": [
    "%%render params 1\n",
    "L_E = 7*m\n",
    "F_c = 150 * kN\n",
    "M_x = 149.8 * kN * m\n",
    "M_y = 20 * kN * m\n",
    "\n",
    "# ...extras\n",
    "L_Ex = L_E\n",
    "L_Ey = L_E"
   ]
  },
  {
   "cell_type": "code",
   "execution_count": null,
   "metadata": {},
   "outputs": [],
   "source": [
    "# trial_section = UniversalColumn.create(designation=\"356x171x45\") #! UB Section, not UC\n",
    "trial_section = UniversalColumn.create(designation=\"356x368x129\")"
   ]
  },
  {
   "cell_type": "code",
   "execution_count": null,
   "metadata": {},
   "outputs": [],
   "source": [
    "%%render params 1\n",
    "D = trial_section.D * mm\n",
    "d = trial_section.d * mm\n",
    "t = trial_section.t * mm\n",
    "T = trial_section.T * mm\n",
    "bT = trial_section.b_T * mm\n",
    "dt = trial_section.d_t * mm\n",
    "# SteelGrade = 275 * MPa\n",
    "p_y = 265 * MPa\n",
    "\n",
    "S_xx = trial_section.S_xx * 1000*mm**3\n",
    "S_yy = trial_section.S_yy * 1000*mm**3\n",
    "Z_xx = trial_section.Z_xx * 1000*mm**3\n",
    "Z_yy = trial_section.Z_yy * 1000*mm**3\n",
    "r_xx = trial_section.r_xx * 10*mm\n",
    "r_yy = trial_section.r_yy * 10*mm\n",
    "A_g = trial_section.A * 100*mm**2"
   ]
  },
  {
   "cell_type": "markdown",
   "metadata": {},
   "source": [
    "#### Alternative Method"
   ]
  },
  {
   "cell_type": "code",
   "execution_count": null,
   "metadata": {},
   "outputs": [],
   "source": [
    "%%render 2\n",
    "A = A_g\n",
    "n_init = F_c / (A_g * p_y)\n",
    "n_lim = t * (D - 2*T)/A\n",
    "\n",
    "if n_init <= n_lim: n = n_init\n",
    "elif n_init > n_lim: n = n_lim\n",
    "\n",
    "S_rxx = S_xx - (A**2 / (4*t))*n**2\n",
    "M_rxx = p_y * S_rxx"
   ]
  },
  {
   "cell_type": "markdown",
   "metadata": {},
   "source": [
    "#### Regular Method"
   ]
  },
  {
   "cell_type": "code",
   "execution_count": null,
   "metadata": {},
   "outputs": [],
   "source": [
    "%%render short 2\n",
    "r_1_initial = F_c / (d * t * p_y)\n",
    "\n",
    "if r_1_initial < -1 : r_1 = 1\n",
    "elif r_1_initial > 1: r_1 = 1\n",
    "elif -1 < r_1_initial < 1: r_1 = r_1_initial"
   ]
  },
  {
   "cell_type": "code",
   "execution_count": null,
   "metadata": {},
   "outputs": [],
   "source": [
    "%%render 2\n",
    "epsilon = (275*MPa / p_y)**0.5\n"
   ]
  },
  {
   "cell_type": "markdown",
   "metadata": {},
   "source": [
    "#### $M_{\\text{cx}}$ and $M_{\\text{cy}}$"
   ]
  },
  {
   "cell_type": "code",
   "execution_count": null,
   "metadata": {},
   "outputs": [],
   "source": [
    "%%render 2\n",
    "M_cx = p_y * S_xx\n",
    "M_cx_lim = 1.2 * p_y * Z_xx\n",
    "M_cy = p_y * S_yy"
   ]
  },
  {
   "cell_type": "markdown",
   "metadata": {},
   "source": [
    "#### Cross-section capacity check"
   ]
  },
  {
   "cell_type": "code",
   "execution_count": null,
   "metadata": {},
   "outputs": [],
   "source": [
    "%%render 3\n",
    "CSCC_check = F_c/(A_g * p_y) + M_x/M_cx + M_y/M_cy\n",
    "\n",
    "if CSCC_check < 1: CrossSectionCapacity = \"OK\"\n",
    "elif CSCC_check >= 1: CrossSectionCapacity = \"INADEQUATE\""
   ]
  },
  {
   "cell_type": "markdown",
   "metadata": {},
   "source": [
    "#### Buckling Resistance"
   ]
  },
  {
   "cell_type": "markdown",
   "metadata": {},
   "source": [
    "##### In-plane Buckling"
   ]
  },
  {
   "cell_type": "code",
   "execution_count": null,
   "metadata": {},
   "outputs": [],
   "source": [
    "%%render 2\n",
    "lamb_x = L_Ex / r_xx\n",
    "lamb_y = L_Ey / r_yy\n",
    "lamb_eff = max(lamb_x, lamb_y)"
   ]
  },
  {
   "cell_type": "code",
   "execution_count": null,
   "metadata": {},
   "outputs": [],
   "source": [
    "%%render params 2\n",
    "p_cx = 157 * MPa\n",
    "p_cy = 139 * MPa\n",
    "# p_c = min(p_cx, p_cy)"
   ]
  },
  {
   "cell_type": "code",
   "execution_count": null,
   "metadata": {},
   "outputs": [],
   "source": [
    "%%render 2\n",
    "P_cx = A_g * p_cx\n",
    "P_cy = A_g * p_cy\n",
    "\n",
    "P_c = min(P_cx, P_cy)"
   ]
  },
  {
   "cell_type": "code",
   "execution_count": null,
   "metadata": {},
   "outputs": [],
   "source": [
    "%%render params 2\n",
    "beta = 1\n",
    "m_x = 1\n",
    "m_y = 1"
   ]
  },
  {
   "cell_type": "code",
   "execution_count": null,
   "metadata": {},
   "outputs": [],
   "source": [
    "%%render 2\n",
    "IPB_check = F_c/P_c + (m_x*M_x)/(p_y*Z_xx) + (m_y*M_y)/(p_y*Z_yy)\n",
    "\n",
    "if IPB_check < 1: InPlaneBuckling = \"OK\"\n",
    "elif IPB_check >= 1: InPlaneBuckling = \"INADEQUATE\""
   ]
  },
  {
   "cell_type": "markdown",
   "metadata": {},
   "source": [
    "##### Lateral torsional buckling"
   ]
  },
  {
   "cell_type": "code",
   "execution_count": null,
   "metadata": {},
   "outputs": [],
   "source": [
    "%%render params 2\n",
    "p_b = 220 * MPa\n",
    "beta = 1\n",
    "m_LT = 1\n",
    "M_LT = max(M_x, M_y)"
   ]
  },
  {
   "cell_type": "code",
   "execution_count": null,
   "metadata": {},
   "outputs": [],
   "source": [
    "%%render long 2\n",
    "M_b = p_b * S_xx\n",
    "LTB_check = F_c/P_cy + (m_LT*M_LT)/M_b + (m_y*M_y)/(p_y*Z_yy)\n",
    "\n",
    "if LTB_check < 1: LateralTorsionalBuckling = \"OK\"\n",
    "elif LTB_check >= 1: LateralTorsionalBuckling = \"INADEQUATE\""
   ]
  },
  {
   "cell_type": "markdown",
   "metadata": {},
   "source": []
  }
 ],
 "metadata": {
  "kernelspec": {
   "display_name": "tf",
   "language": "python",
   "name": "python3"
  },
  "language_info": {
   "codemirror_mode": {
    "name": "ipython",
    "version": 3
   },
   "file_extension": ".py",
   "mimetype": "text/x-python",
   "name": "python",
   "nbconvert_exporter": "python",
   "pygments_lexer": "ipython3",
   "version": "3.12.2"
  }
 },
 "nbformat": 4,
 "nbformat_minor": 2
}
