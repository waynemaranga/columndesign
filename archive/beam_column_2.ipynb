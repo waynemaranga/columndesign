{
 "cells": [
  {
   "cell_type": "markdown",
   "metadata": {},
   "source": [
    "# Column - Beam Column"
   ]
  },
  {
   "cell_type": "markdown",
   "metadata": {},
   "source": [
    "Example 3 - Design of Beam-Columns"
   ]
  },
  {
   "cell_type": "markdown",
   "metadata": {},
   "source": [
    "#### Imports & Environment"
   ]
  },
  {
   "cell_type": "code",
   "execution_count": 72,
   "metadata": {},
   "outputs": [],
   "source": [
    "import handcalcs\n",
    "from handcalcs import render\n",
    "import forallpeople as si\n",
    "from modules.section import UniversalColumn"
   ]
  },
  {
   "cell_type": "code",
   "execution_count": 73,
   "metadata": {},
   "outputs": [],
   "source": [
    "# environments\n",
    "si.environment(\"structural\", top_level=True) # load SI units for structural eng. into the environment, top_level=True defines them in the top-level namespace (as vars)\n",
    "# -> Handcalcs environment settings for TeX rendering\n",
    "handcalcs.set_option(\"latex_block_start\", \"$\")\n",
    "handcalcs.set_option(\"latex_block_end\", \"$\")\n",
    "handcalcs.set_option(\"math_environment_start\", \"aligned\")\n",
    "handcalcs.set_option(\"math_environment_end\", \"aligned\")"
   ]
  },
  {
   "cell_type": "markdown",
   "metadata": {},
   "source": [
    "#### Params"
   ]
  },
  {
   "cell_type": "code",
   "execution_count": 74,
   "metadata": {},
   "outputs": [
    {
     "data": {
      "text/latex": [
       "$\n",
       "\\begin{aligned}\n",
       "L_{E} &= 7.0\\ \\mathrm{m} \\; \n",
       " &F_{c} &= 150.0\\ \\mathrm{kN} \\; \n",
       " &M_{x} &= 149.8\\ \\mathrm{kN} \\cdot \\mathrm{m} \\; \n",
       "\\\\[10pt]\n",
       " M_{y} &= 20.0\\ \\mathrm{kN} \\cdot \\mathrm{m} \\; \n",
       " &L_{Ex} &= 7.0\\ \\mathrm{m} \\; \n",
       " &L_{Ey} &= 7.0\\ \\mathrm{m} \\; \n",
       "\\\\[10pt]\n",
       "\\end{aligned}\n",
       "$"
      ],
      "text/plain": [
       "<IPython.core.display.Latex object>"
      ]
     },
     "metadata": {},
     "output_type": "display_data"
    }
   ],
   "source": [
    "%%render params 1\n",
    "L_E = 7*m\n",
    "F_c = 150 * kN\n",
    "M_x = 149.8 * kN * m\n",
    "M_y = 20 * kN * m\n",
    "\n",
    "# ...extras\n",
    "L_Ex = L_E\n",
    "L_Ey = L_E"
   ]
  },
  {
   "cell_type": "code",
   "execution_count": 75,
   "metadata": {},
   "outputs": [],
   "source": [
    "# trial_section = UniversalColumn.create(designation=\"356x171x45\") #! UB Section, not UC\n",
    "trial_section = UniversalColumn.create(designation=\"356x368x129\")"
   ]
  },
  {
   "cell_type": "code",
   "execution_count": 76,
   "metadata": {},
   "outputs": [
    {
     "data": {
      "text/latex": [
       "$\n",
       "\\begin{aligned}\n",
       "D &= 355.6\\ \\mathrm{mm} \\; \n",
       " &d &= 290.2\\ \\mathrm{mm} \\; \n",
       " &t &= 10.4\\ \\mathrm{mm} \\; \n",
       "\\\\[10pt]\n",
       " T &= 17.5\\ \\mathrm{mm} \\; \n",
       " &\\mathrm{bT} &= 10.5\\ \\mathrm{mm} \\; \n",
       " &\\mathrm{dt} &= 27.9\\ \\mathrm{mm} \\; \n",
       "\\\\[10pt]\n",
       " p_{y} &= 265.0\\ \\mathrm{MPa} \\; \n",
       " &S_{xx} &= 2480000.0\\ \\mathrm{mm}^{3} \\; \n",
       " &S_{yy} &= 1200000.0\\ \\mathrm{mm}^{3} \\; \n",
       "\\\\[10pt]\n",
       " Z_{xx} &= 2260000.0\\ \\mathrm{mm}^{3} \\; \n",
       " &Z_{yy} &= 793000.0\\ \\mathrm{mm}^{3} \\; \n",
       " &r_{xx} &= 156.0\\ \\mathrm{mm} \\; \n",
       "\\\\[10pt]\n",
       " r_{yy} &= 94.3\\ \\mathrm{mm} \\; \n",
       " &A_{g} &= 16400.0\\ \\mathrm{mm}^{2} \\;\n",
       "\\end{aligned}\n",
       "$"
      ],
      "text/plain": [
       "<IPython.core.display.Latex object>"
      ]
     },
     "metadata": {},
     "output_type": "display_data"
    }
   ],
   "source": [
    "%%render params 1\n",
    "D = trial_section.D * mm\n",
    "d = trial_section.d * mm\n",
    "t = trial_section.t * mm\n",
    "T = trial_section.T * mm\n",
    "bT = trial_section.b_T * mm\n",
    "dt = trial_section.d_t * mm\n",
    "# SteelGrade = 275 * MPa\n",
    "p_y = 265 * MPa\n",
    "\n",
    "S_xx = trial_section.S_xx * 1000*mm**3\n",
    "S_yy = trial_section.S_yy * 1000*mm**3\n",
    "Z_xx = trial_section.Z_xx * 1000*mm**3\n",
    "Z_yy = trial_section.Z_yy * 1000*mm**3\n",
    "r_xx = trial_section.r_xx * 10*mm\n",
    "r_yy = trial_section.r_yy * 10*mm\n",
    "A_g = trial_section.A * 100*mm**2"
   ]
  },
  {
   "cell_type": "markdown",
   "metadata": {},
   "source": [
    "#### Alternative Method"
   ]
  },
  {
   "cell_type": "code",
   "execution_count": 77,
   "metadata": {},
   "outputs": [
    {
     "data": {
      "text/latex": [
       "$\n",
       "\\begin{aligned}\n",
       "A &= 16400.00\\ \\mathrm{mm}^{2} \\; \n",
       "\\\\[10pt]\n",
       "n_{init} &= \\frac{ F_{c} }{ A_{g} \\cdot p_{y} }  = \\frac{ 150.00\\ \\mathrm{kN} }{ 16400.00\\ \\mathrm{mm}^{2} \\cdot 265.00\\ \\mathrm{MPa} } &= 0.03  \n",
       "\\\\[10pt]\n",
       "n_{lim} &= t \\cdot \\frac{ D - 2 \\cdot T }{ A }  = 10.40\\ \\mathrm{mm} \\cdot \\frac{ 355.60\\ \\mathrm{mm} - 2 \\cdot 17.50\\ \\mathrm{mm} }{ 16400.00\\ \\mathrm{mm}^{2} } &= 0.20  \n",
       "\\\\[10pt]\n",
       "&\\text{Since, } n_{init} \\leq n_{lim} \\rightarrow \\left( 0.03 \\leq 0.20 \\right) :   \\\\[10pt]\n",
       "n &= 0.03 \\; \n",
       "\\\\[10pt]\n",
       "S_{rxx} &= S_{xx} - \\left( \\frac{ \\left( A \\right) ^{ 2 } }{ 4 \\cdot t } \\right) \\cdot \\left( n \\right) ^{ 2 } \\\\&= 2480000.00\\ \\mathrm{mm}^{3} - \\left( \\frac{ \\left( 16400.00\\ \\mathrm{mm}^{2} \\right) ^{ 2 } }{ 4 \\cdot 10.40\\ \\mathrm{mm} } \\right) \\cdot \\left( 0.03 \\right) ^{ 2 } \\\\&= 2472298.11\\ \\mathrm{mm}^{3}  \\\\[10pt]\n",
       "\\\\[10pt]\n",
       "M_{rxx} &= p_{y} \\cdot S_{rxx}  = 265.00\\ \\mathrm{MPa} \\cdot 2472298.11\\ \\mathrm{mm}^{3} &= 655.16\\ \\mathrm{kN} \\cdot \\mathrm{m}  \n",
       "\\end{aligned}\n",
       "$"
      ],
      "text/plain": [
       "<IPython.core.display.Latex object>"
      ]
     },
     "metadata": {},
     "output_type": "display_data"
    }
   ],
   "source": [
    "%%render 2\n",
    "A = A_g\n",
    "n_init = F_c / (A_g * p_y)\n",
    "n_lim = t * (D - 2*T)/A\n",
    "\n",
    "if n_init <= n_lim: n = n_init\n",
    "elif n_init > n_lim: n = n_lim\n",
    "\n",
    "S_rxx = S_xx - (A**2 / (4*t))*n**2\n",
    "M_rxx = p_y * S_rxx"
   ]
  },
  {
   "cell_type": "markdown",
   "metadata": {},
   "source": [
    "#### Regular Method"
   ]
  },
  {
   "cell_type": "code",
   "execution_count": 78,
   "metadata": {},
   "outputs": [
    {
     "data": {
      "text/latex": [
       "$\n",
       "\\begin{aligned}\n",
       "r_{1_{initial}} &= \\frac{ F_{c} }{ d \\cdot t \\cdot p_{y} }  = \\frac{ 150.00\\ \\mathrm{kN} }{ 290.20\\ \\mathrm{mm} \\cdot 10.40\\ \\mathrm{mm} \\cdot 265.00\\ \\mathrm{MPa} } &= 0.19  \n",
       "\\\\[10pt]\n",
       "&\\text{Since, } \\left( - 1 \\right) \\lt r_{1_{initial}} \\lt 1 \\rightarrow \\left( \\left( - 1 \\right) \\lt 0.19 \\lt 1 \\right) :   \\\\[10pt]\n",
       "r_{1} &= 0.19 \\; \n",
       "\\end{aligned}\n",
       "$"
      ],
      "text/plain": [
       "<IPython.core.display.Latex object>"
      ]
     },
     "metadata": {},
     "output_type": "display_data"
    }
   ],
   "source": [
    "%%render short 2\n",
    "r_1_initial = F_c / (d * t * p_y)\n",
    "\n",
    "if r_1_initial < -1 : r_1 = 1\n",
    "elif r_1_initial > 1: r_1 = 1\n",
    "elif -1 < r_1_initial < 1: r_1 = r_1_initial"
   ]
  },
  {
   "cell_type": "code",
   "execution_count": 79,
   "metadata": {},
   "outputs": [
    {
     "data": {
      "text/latex": [
       "$\n",
       "\\begin{aligned}\n",
       "\\epsilon &= \\left( 275 \\cdot \\frac{ \\mathrm{MPa} }{ p_{y} } \\right) ^{ 0.5 }  = \\left( 275 \\cdot \\frac{ MPa }{ 265.00\\ \\mathrm{MPa} } \\right) ^{ 0.5 } &= 1.02  \n",
       "\\end{aligned}\n",
       "$"
      ],
      "text/plain": [
       "<IPython.core.display.Latex object>"
      ]
     },
     "metadata": {},
     "output_type": "display_data"
    }
   ],
   "source": [
    "%%render 2\n",
    "epsilon = (275*MPa / p_y)**0.5\n"
   ]
  },
  {
   "cell_type": "markdown",
   "metadata": {},
   "source": [
    "#### $M_{\\text{cx}}$ and $M_{\\text{cy}}$"
   ]
  },
  {
   "cell_type": "code",
   "execution_count": 80,
   "metadata": {},
   "outputs": [
    {
     "data": {
      "text/latex": [
       "$\n",
       "\\begin{aligned}\n",
       "M_{cx} &= p_{y} \\cdot S_{xx}  = 265.00\\ \\mathrm{MPa} \\cdot 2480000.00\\ \\mathrm{mm}^{3} &= 657.20\\ \\mathrm{kN} \\cdot \\mathrm{m}  \n",
       "\\\\[10pt]\n",
       "M_{cx_{lim}} &= 1.2 \\cdot p_{y} \\cdot Z_{xx}  = 1.2 \\cdot 265.00\\ \\mathrm{MPa} \\cdot 2260000.00\\ \\mathrm{mm}^{3} &= 718.68\\ \\mathrm{kN} \\cdot \\mathrm{m}  \n",
       "\\\\[10pt]\n",
       "M_{cy} &= p_{y} \\cdot S_{yy}  = 265.00\\ \\mathrm{MPa} \\cdot 1200000.00\\ \\mathrm{mm}^{3} &= 318.00\\ \\mathrm{kN} \\cdot \\mathrm{m}  \n",
       "\\end{aligned}\n",
       "$"
      ],
      "text/plain": [
       "<IPython.core.display.Latex object>"
      ]
     },
     "metadata": {},
     "output_type": "display_data"
    }
   ],
   "source": [
    "%%render 2\n",
    "M_cx = p_y * S_xx\n",
    "M_cx_lim = 1.2 * p_y * Z_xx\n",
    "M_cy = p_y * S_yy"
   ]
  },
  {
   "cell_type": "markdown",
   "metadata": {},
   "source": [
    "#### Cross-section capacity check"
   ]
  },
  {
   "cell_type": "code",
   "execution_count": 81,
   "metadata": {},
   "outputs": [
    {
     "data": {
      "text/latex": [
       "$\n",
       "\\begin{aligned}\n",
       "\\mathrm{CSCC}_{check} &= \\frac{ F_{c} }{ A_{g} \\cdot p_{y} } + \\frac{ M_{x} }{ M_{cx} } + \\frac{ M_{y} }{ M_{cy} }  = \\frac{ 150.000\\ \\mathrm{kN} }{ 16400.000\\ \\mathrm{mm}^{2} \\cdot 265.000\\ \\mathrm{MPa} } + \\frac{ 149.800\\ \\mathrm{kN} \\cdot \\mathrm{m} }{ 657.200\\ \\mathrm{kN} \\cdot \\mathrm{m} } + \\frac{ 20.000\\ \\mathrm{kN} \\cdot \\mathrm{m} }{ 318.000\\ \\mathrm{kN} \\cdot \\mathrm{m} } &= 0.325  \n",
       "\\\\[10pt]\n",
       "&\\text{Since, } \\mathrm{CSCC}_{check} \\lt 1 \\rightarrow \\left( 0.325 \\lt 1 \\right) :   \\\\[10pt]\n",
       "\\mathrm{CrossSectionCapacity} &= \\mathrm{OK} \\; \n",
       "\\end{aligned}\n",
       "$"
      ],
      "text/plain": [
       "<IPython.core.display.Latex object>"
      ]
     },
     "metadata": {},
     "output_type": "display_data"
    }
   ],
   "source": [
    "%%render 3\n",
    "CSCC_check = F_c/(A_g * p_y) + M_x/M_cx + M_y/M_cy\n",
    "\n",
    "if CSCC_check < 1: CrossSectionCapacity = \"OK\"\n",
    "elif CSCC_check >= 1: CrossSectionCapacity = \"INADEQUATE\""
   ]
  },
  {
   "cell_type": "markdown",
   "metadata": {},
   "source": [
    "#### Buckling Resistance"
   ]
  },
  {
   "cell_type": "markdown",
   "metadata": {},
   "source": [
    "##### In-plane Buckling"
   ]
  },
  {
   "cell_type": "code",
   "execution_count": 82,
   "metadata": {},
   "outputs": [
    {
     "data": {
      "text/latex": [
       "$\n",
       "\\begin{aligned}\n",
       "\\mathrm{lambda}_{x} &= \\frac{ L_{Ex} }{ r_{xx} }  = \\frac{ 7.00\\ \\mathrm{m} }{ 156.00\\ \\mathrm{mm} } &= 44.87  \n",
       "\\\\[10pt]\n",
       "\\mathrm{lambda}_{y} &= \\frac{ L_{Ey} }{ r_{yy} }  = \\frac{ 7.00\\ \\mathrm{m} }{ 94.30\\ \\mathrm{mm} } &= 74.23  \n",
       "\\\\[10pt]\n",
       "\\mathrm{lambda}_{eff} &= \\operatorname{max} { \\left( \\mathrm{lambda}_{x} ,\\  \\mathrm{lambda}_{y} \\right) }  = \\operatorname{max} { \\left( 44.87 ,\\  74.23 \\right) } &= 74.23  \n",
       "\\end{aligned}\n",
       "$"
      ],
      "text/plain": [
       "<IPython.core.display.Latex object>"
      ]
     },
     "metadata": {},
     "output_type": "display_data"
    }
   ],
   "source": [
    "%%render 2\n",
    "lambda_x = L_Ex / r_xx\n",
    "lambda_y = L_Ey / r_yy\n",
    "lambda_eff = max(lambda_x, lambda_y)"
   ]
  },
  {
   "cell_type": "code",
   "execution_count": 83,
   "metadata": {},
   "outputs": [
    {
     "data": {
      "text/latex": [
       "$\n",
       "\\begin{aligned}\n",
       "p_{cx} &= 157.00\\ \\mathrm{MPa} \\; \n",
       " &p_{cy} &= 139.00\\ \\mathrm{MPa} \\;\n",
       "\\end{aligned}\n",
       "$"
      ],
      "text/plain": [
       "<IPython.core.display.Latex object>"
      ]
     },
     "metadata": {},
     "output_type": "display_data"
    }
   ],
   "source": [
    "%%render params 2\n",
    "p_cx = 157 * MPa\n",
    "p_cy = 139 * MPa\n",
    "# p_c = min(p_cx, p_cy)"
   ]
  },
  {
   "cell_type": "code",
   "execution_count": 84,
   "metadata": {},
   "outputs": [
    {
     "data": {
      "text/latex": [
       "$\n",
       "\\begin{aligned}\n",
       "P_{cx} &= A_{g} \\cdot p_{cx}  = 16400.00\\ \\mathrm{mm}^{2} \\cdot 157.00\\ \\mathrm{MPa} &= 2.57\\ \\mathrm{MN}  \n",
       "\\\\[10pt]\n",
       "P_{cy} &= A_{g} \\cdot p_{cy}  = 16400.00\\ \\mathrm{mm}^{2} \\cdot 139.00\\ \\mathrm{MPa} &= 2.28\\ \\mathrm{MN}  \n",
       "\\\\[10pt]\n",
       "P_{c} &= \\operatorname{min} { \\left( P_{cx} ,\\  P_{cy} \\right) }  = \\operatorname{min} { \\left( 2.57\\ \\mathrm{MN} ,\\  2.28\\ \\mathrm{MN} \\right) } &= 2.28\\ \\mathrm{MN}  \n",
       "\\end{aligned}\n",
       "$"
      ],
      "text/plain": [
       "<IPython.core.display.Latex object>"
      ]
     },
     "metadata": {},
     "output_type": "display_data"
    }
   ],
   "source": [
    "%%render 2\n",
    "P_cx = A_g * p_cx\n",
    "P_cy = A_g * p_cy\n",
    "\n",
    "P_c = min(P_cx, P_cy)"
   ]
  },
  {
   "cell_type": "code",
   "execution_count": 85,
   "metadata": {},
   "outputs": [
    {
     "data": {
      "text/latex": [
       "$\n",
       "\\begin{aligned}\n",
       "\\beta &= 1 \\; \n",
       " &m_{x} &= 1 \\; \n",
       " &m_{y} &= 1 \\; \n",
       "\\\\[10pt]\n",
       "\\end{aligned}\n",
       "$"
      ],
      "text/plain": [
       "<IPython.core.display.Latex object>"
      ]
     },
     "metadata": {},
     "output_type": "display_data"
    }
   ],
   "source": [
    "%%render params 2\n",
    "beta = 1\n",
    "m_x = 1\n",
    "m_y = 1"
   ]
  },
  {
   "cell_type": "code",
   "execution_count": 86,
   "metadata": {},
   "outputs": [
    {
     "data": {
      "text/latex": [
       "$\n",
       "\\begin{aligned}\n",
       "\\mathrm{IPB}_{check} &= \\frac{ F_{c} }{ P_{c} } + \\frac{ m_{x} \\cdot M_{x} }{ p_{y} \\cdot Z_{xx} } + \\frac{ m_{y} \\cdot M_{y} }{ p_{y} \\cdot Z_{yy} } \\\\&= \\frac{ 150.00\\ \\mathrm{kN} }{ 2.28\\ \\mathrm{MN} } + \\frac{ 1 \\cdot 149.80\\ \\mathrm{kN} \\cdot \\mathrm{m} }{ 265.00\\ \\mathrm{MPa} \\cdot 2260000.00\\ \\mathrm{mm}^{3} } + \\frac{ 1 \\cdot 20.00\\ \\mathrm{kN} \\cdot \\mathrm{m} }{ 265.00\\ \\mathrm{MPa} \\cdot 793000.00\\ \\mathrm{mm}^{3} } \\\\&= 0.41  \\\\[10pt]\n",
       "\\\\[10pt]\n",
       "&\\text{Since, } \\mathrm{IPB}_{check} \\lt 1 \\rightarrow \\left( 0.41 \\lt 1 \\right) :   \\\\[10pt]\n",
       "\\mathrm{InPlaneBuckling} &= \\mathrm{OK} \\; \n",
       "\\end{aligned}\n",
       "$"
      ],
      "text/plain": [
       "<IPython.core.display.Latex object>"
      ]
     },
     "metadata": {},
     "output_type": "display_data"
    }
   ],
   "source": [
    "%%render 2\n",
    "IPB_check = F_c/P_c + (m_x*M_x)/(p_y*Z_xx) + (m_y*M_y)/(p_y*Z_yy)\n",
    "\n",
    "if IPB_check < 1: InPlaneBuckling = \"OK\"\n",
    "elif IPB_check >= 1: InPlaneBuckling = \"INADEQUATE\""
   ]
  },
  {
   "cell_type": "markdown",
   "metadata": {},
   "source": [
    "##### Lateral torsional buckling"
   ]
  },
  {
   "cell_type": "code",
   "execution_count": 87,
   "metadata": {},
   "outputs": [
    {
     "data": {
      "text/latex": [
       "$\n",
       "\\begin{aligned}\n",
       "p_{b} &= 220.00\\ \\mathrm{MPa} \\; \n",
       " &\\beta &= 1 \\; \n",
       " &m_{LT} &= 1 \\; \n",
       "\\\\[10pt]\n",
       " M_{LT} &= 149.80\\ \\mathrm{kN} \\cdot \\mathrm{m} \\;\n",
       "\\end{aligned}\n",
       "$"
      ],
      "text/plain": [
       "<IPython.core.display.Latex object>"
      ]
     },
     "metadata": {},
     "output_type": "display_data"
    }
   ],
   "source": [
    "%%render params 2\n",
    "p_b = 220 * MPa\n",
    "beta = 1\n",
    "m_LT = 1\n",
    "M_LT = max(M_x, M_y)"
   ]
  },
  {
   "cell_type": "code",
   "execution_count": 88,
   "metadata": {},
   "outputs": [
    {
     "data": {
      "text/latex": [
       "$\n",
       "\\begin{aligned}\n",
       "M_{b} &= p_{b} \\cdot S_{xx} \\\\&= 220.00\\ \\mathrm{MPa} \\cdot 2480000.00\\ \\mathrm{mm}^{3} \\\\&= 545.60\\ \\mathrm{kN} \\cdot \\mathrm{m}  \\\\[10pt]\n",
       "\\\\[10pt]\n",
       "\\mathrm{LTB}_{check} &= \\frac{ F_{c} }{ P_{cy} } + \\frac{ m_{LT} \\cdot M_{LT} }{ M_{b} } + \\frac{ m_{y} \\cdot M_{y} }{ p_{y} \\cdot Z_{yy} } \\\\&= \\frac{ 150.00\\ \\mathrm{kN} }{ 2.28\\ \\mathrm{MN} } + \\frac{ 1 \\cdot 149.80\\ \\mathrm{kN} \\cdot \\mathrm{m} }{ 545.60\\ \\mathrm{kN} \\cdot \\mathrm{m} } + \\frac{ 1 \\cdot 20.00\\ \\mathrm{kN} \\cdot \\mathrm{m} }{ 265.00\\ \\mathrm{MPa} \\cdot 793000.00\\ \\mathrm{mm}^{3} } \\\\&= 0.44  \\\\[10pt]\n",
       "\\\\[10pt]\n",
       "&\\text{Since, } \\mathrm{LTB}_{check} \\lt 1 \\rightarrow \\left( 0.44 \\lt 1 \\right) :   \\\\[10pt]\n",
       "\\mathrm{LateralTorsionalBuckling} &= \\mathrm{OK} \\; \n",
       "\\end{aligned}\n",
       "$"
      ],
      "text/plain": [
       "<IPython.core.display.Latex object>"
      ]
     },
     "metadata": {},
     "output_type": "display_data"
    }
   ],
   "source": [
    "%%render long 2\n",
    "M_b = p_b * S_xx\n",
    "LTB_check = F_c/P_cy + (m_LT*M_LT)/M_b + (m_y*M_y)/(p_y*Z_yy)\n",
    "\n",
    "if LTB_check < 1: LateralTorsionalBuckling = \"OK\"\n",
    "elif LTB_check >= 1: LateralTorsionalBuckling = \"INADEQUATE\""
   ]
  },
  {
   "cell_type": "markdown",
   "metadata": {},
   "source": []
  }
 ],
 "metadata": {
  "kernelspec": {
   "display_name": "tf",
   "language": "python",
   "name": "python3"
  },
  "language_info": {
   "codemirror_mode": {
    "name": "ipython",
    "version": 3
   },
   "file_extension": ".py",
   "mimetype": "text/x-python",
   "name": "python",
   "nbconvert_exporter": "python",
   "pygments_lexer": "ipython3",
   "version": "3.12.2"
  }
 },
 "nbformat": 4,
 "nbformat_minor": 2
}
