{
 "cells": [
  {
   "cell_type": "markdown",
   "metadata": {},
   "source": [
    "# Struts"
   ]
  },
  {
   "cell_type": "markdown",
   "metadata": {},
   "source": [
    "Subtitle"
   ]
  },
  {
   "cell_type": "markdown",
   "metadata": {},
   "source": [
    "## Setup"
   ]
  },
  {
   "cell_type": "markdown",
   "metadata": {},
   "source": [
    "### Imports & Env. Settings"
   ]
  },
  {
   "cell_type": "code",
   "execution_count": 1,
   "metadata": {},
   "outputs": [],
   "source": [
    "# Imports\n",
    "import handcalcs # https://github.com/connorferster/handcalcs/wiki\n",
    "from handcalcs import render # https://github.com/connorferster/handcalcs?tab=readme-ov-file#basic-usage-1-as-a-jupyter-cell-magic-render\n",
    "import forallpeople as si # https://connorferster.github.io/forallpeople/basic_usage.html\n",
    "from modules.section import UniversalColumn\n",
    "from modules.strength import design_strength"
   ]
  },
  {
   "cell_type": "code",
   "execution_count": 2,
   "metadata": {},
   "outputs": [],
   "source": [
    "# Environment config.\n",
    "# --> SI units structural env ( https://connorferster.github.io/forallpeople/environments.html#Environments )\n",
    "si.environment(\"structural\", top_level=True) # load SI units for structural eng. into the environment, top_level=True defines them in the top-level namespace (as vars)\n",
    "# -> Handcalcs environment settings for TeX rendering\n",
    "handcalcs.set_option(\"latex_block_start\", \"$\")\n",
    "handcalcs.set_option(\"latex_block_end\", \"$\")\n",
    "handcalcs.set_option(\"math_environment_start\", \"aligned\")\n",
    "handcalcs.set_option(\"math_environment_end\", \"aligned\")"
   ]
  },
  {
   "cell_type": "markdown",
   "metadata": {},
   "source": [
    "### Question Data"
   ]
  },
  {
   "cell_type": "code",
   "execution_count": 3,
   "metadata": {},
   "outputs": [
    {
     "data": {
      "text/latex": [
       "$\n",
       "\\begin{aligned}\n",
       "F_{c} &= 3.00\\ \\mathrm{MN} \\; \n",
       " &L &= 5.00\\ \\mathrm{m} \\; \n",
       " &p_{y} &= 275.00\\ \\mathrm{MPa} \\; \n",
       "\\\\[10pt]\n",
       "\\end{aligned}\n",
       "$"
      ],
      "text/plain": [
       "<IPython.core.display.Latex object>"
      ]
     },
     "metadata": {},
     "output_type": "display_data"
    }
   ],
   "source": [
    "%%render params 2 # Loads/Moments, lengths, qn. params\n",
    "# Actions\n",
    "F_c = 3000 * kN\n",
    "\n",
    "# Dimensions\n",
    "L = 5 * m\n",
    "\n",
    "# Strengths\n",
    "p_y = 275 * MPa"
   ]
  },
  {
   "cell_type": "markdown",
   "metadata": {},
   "source": [
    "### Trial Section"
   ]
  },
  {
   "cell_type": "code",
   "execution_count": 4,
   "metadata": {},
   "outputs": [],
   "source": [
    "trial_section = UniversalColumn.create(designation=\"254x254x107\")\n",
    "# ... UB not implemented, should be in rework of sections module"
   ]
  },
  {
   "cell_type": "code",
   "execution_count": 5,
   "metadata": {},
   "outputs": [
    {
     "data": {
      "text/latex": [
       "$\n",
       "\\begin{aligned}\n",
       "D &= 266.7\\ \\mathrm{mm} \\; \n",
       " &B &= 258.8\\ \\mathrm{mm} \\; \n",
       " &d &= 200.3\\ \\mathrm{mm} \\; \n",
       "\\\\[10pt]\n",
       " t &= 12.8\\ \\mathrm{mm} \\; \n",
       " &T &= 20.5\\ \\mathrm{mm} \\; \n",
       " &S_{xx} &= 1480000.0\\ \\mathrm{mm}^{3} \\; \n",
       "\\\\[10pt]\n",
       " S_{yy} &= 697000.0\\ \\mathrm{mm}^{3} \\; \n",
       " &Z_{xx} &= 1310000.0\\ \\mathrm{mm}^{3} \\; \n",
       " &Z_{yy} &= 458000.0\\ \\mathrm{mm}^{3} \\; \n",
       "\\\\[10pt]\n",
       " r_{xx} &= 113.0\\ \\mathrm{mm} \\; \n",
       " &r_{yy} &= 65.9\\ \\mathrm{mm} \\; \n",
       " &A &= 13600.0\\ \\mathrm{mm}^{2} \\; \n",
       "\\\\[10pt]\n",
       "\\end{aligned}\n",
       "$"
      ],
      "text/plain": [
       "<IPython.core.display.Latex object>"
      ]
     },
     "metadata": {},
     "output_type": "display_data"
    }
   ],
   "source": [
    "%%render params 1 # BS Notation\n",
    "D = trial_section.D * mm\n",
    "B = trial_section.B * mm\n",
    "d = trial_section.d * mm\n",
    "t = trial_section.t * mm\n",
    "T = trial_section.T * mm\n",
    "\n",
    "S_xx = trial_section.S_xx * 1000*mm**3\n",
    "S_yy = trial_section.S_yy * 1000*mm**3\n",
    "Z_xx = trial_section.Z_xx * 1000*mm**3\n",
    "Z_yy = trial_section.Z_yy * 1000*mm**3\n",
    "r_xx = trial_section.r_xx * 10*mm\n",
    "r_yy = trial_section.r_yy * 10*mm\n",
    "A = trial_section.A * 100*mm**2"
   ]
  },
  {
   "cell_type": "code",
   "execution_count": 6,
   "metadata": {},
   "outputs": [
    {
     "data": {
      "text/latex": [
       "$\n",
       "\\begin{aligned}\n",
       "h &= 266.7\\ \\mathrm{mm} \\; \n",
       " &b &= 258.8\\ \\mathrm{mm} \\; \n",
       " &t_{w} &= 12.8\\ \\mathrm{mm} \\; \n",
       "\\\\[10pt]\n",
       " t_{f} &= 20.5\\ \\mathrm{mm} \\; \n",
       " &W_{ply} &= 1480000.0\\ \\mathrm{mm}^{3} \\; \n",
       " &W_{plz} &= 697000.0\\ \\mathrm{mm}^{3} \\; \n",
       "\\\\[10pt]\n",
       " W_{ely} &= 1310000.0\\ \\mathrm{mm}^{3} \\; \n",
       " &W_{elz} &= 458000.0\\ \\mathrm{mm}^{3} \\; \n",
       " &i_{yy} &= 113.0\\ \\mathrm{mm} \\; \n",
       "\\\\[10pt]\n",
       " i_{zz} &= 65.9\\ \\mathrm{mm} \\; \n",
       " &A &= 13600.0\\ \\mathrm{mm}^{2} \\;\n",
       "\\end{aligned}\n",
       "$"
      ],
      "text/plain": [
       "<IPython.core.display.Latex object>"
      ]
     },
     "metadata": {},
     "output_type": "display_data"
    }
   ],
   "source": [
    "%%render params 1 # EC3 Notation\n",
    "h = D\n",
    "b = B\n",
    "t_w = t\n",
    "t_f = T\n",
    "\n",
    "W_ply = S_xx\n",
    "W_plz = S_yy\n",
    "W_ely = Z_xx\n",
    "W_elz = Z_yy\n",
    "i_yy = r_xx\n",
    "i_zz = r_yy\n",
    "A = trial_section.A * 100*mm**2"
   ]
  },
  {
   "cell_type": "markdown",
   "metadata": {},
   "source": [
    "<!-- ### Classification -->"
   ]
  },
  {
   "cell_type": "markdown",
   "metadata": {},
   "source": [
    "### Effective Length $L_{\\text{E}}$ / $L_{\\text{Cr}}$"
   ]
  },
  {
   "cell_type": "markdown",
   "metadata": {},
   "source": [
    "Table 22 BS 5950\n",
    "_ENV 1993-1-1:2004_"
   ]
  },
  {
   "cell_type": "code",
   "execution_count": 7,
   "metadata": {},
   "outputs": [
    {
     "data": {
      "text/latex": [
       "$\n",
       "\\begin{aligned}\n",
       "L_{E} &= 1.0 \\cdot L \\\\&= 1.0 \\cdot 5.00\\ \\mathrm{m} \\\\&= 5.00\\ \\mathrm{m}  \\\\[10pt]\n",
       "\\end{aligned}\n",
       "$"
      ],
      "text/plain": [
       "<IPython.core.display.Latex object>"
      ]
     },
     "metadata": {},
     "output_type": "display_data"
    }
   ],
   "source": [
    "%%render short 2 # Uncomment correct value, defaults to 1.0 L\n",
    "# L_E = 0.7 * L\n",
    "# L_E = 0.85 * L\n",
    "L_E = 1.0 * L\n",
    "# L_E = 1.2 * L\n",
    "# L_E = 1.5 * L\n",
    "# L_E = 2.0 * L\n",
    "\n",
    "# L_Cr = L_E"
   ]
  },
  {
   "cell_type": "markdown",
   "metadata": {},
   "source": []
  },
  {
   "cell_type": "markdown",
   "metadata": {},
   "source": [
    "## BS 5950"
   ]
  },
  {
   "cell_type": "markdown",
   "metadata": {},
   "source": [
    "### Classification"
   ]
  },
  {
   "cell_type": "code",
   "execution_count": 8,
   "metadata": {},
   "outputs": [
    {
     "name": "stdout",
     "output_type": "stream",
     "text": [
      "Thickness: 20.5 mm\n",
      "Design strength: 265 MPa\n"
     ]
    }
   ],
   "source": [
    "# Strength class (Defaults to S275) Table 9 BS\n",
    "thickest = max(trial_section.t, trial_section.T)\n",
    "p_y = design_strength(thickness=thickest, steel_grade=275)\n",
    "print(f\"Thickness: {thickest} mm\")\n",
    "print(f\"Design strength: {p_y} MPa\")"
   ]
  },
  {
   "cell_type": "code",
   "execution_count": 9,
   "metadata": {},
   "outputs": [],
   "source": [
    "# Section Class Table 11 BS"
   ]
  },
  {
   "cell_type": "markdown",
   "metadata": {},
   "source": [
    "### Slenderness Ratio $\\lambda$ "
   ]
  },
  {
   "cell_type": "code",
   "execution_count": 10,
   "metadata": {},
   "outputs": [
    {
     "data": {
      "text/latex": [
       "$\n",
       "\\begin{aligned}\n",
       "\\lambda &= \\frac{ L_{E} }{ r_{yy} }  = \\frac{ 5.00\\ \\mathrm{m} }{ 65.90\\ \\mathrm{mm} } &= 75.87  \n",
       "\\end{aligned}\n",
       "$"
      ],
      "text/plain": [
       "<IPython.core.display.Latex object>"
      ]
     },
     "metadata": {},
     "output_type": "display_data"
    }
   ],
   "source": [
    "%%render 2 # Slenderness ratio, Cl 4.7.2\n",
    "lamb = L_E / r_yy"
   ]
  },
  {
   "cell_type": "markdown",
   "metadata": {},
   "source": [
    "### Slenderness check"
   ]
  },
  {
   "cell_type": "code",
   "execution_count": 11,
   "metadata": {},
   "outputs": [
    {
     "data": {
      "text/latex": [
       "$\n",
       "\\begin{aligned}\n",
       "\\mathrm{bT} &= 6.31 \\; \\;\\textrm{(b/T)}\n",
       " &\\mathrm{dt} &= 15.60 \\; \\;\\textrm{(d/t)}\n",
       "\\end{aligned}\n",
       "$"
      ],
      "text/plain": [
       "<IPython.core.display.Latex object>"
      ]
     },
     "metadata": {},
     "output_type": "display_data"
    }
   ],
   "source": [
    "%%render params 2 # b/T and d/t\n",
    "bT = trial_section.b_T # b/T\n",
    "dt = trial_section.d_t # d/t"
   ]
  },
  {
   "cell_type": "code",
   "execution_count": 12,
   "metadata": {},
   "outputs": [],
   "source": [
    "# %%render short 3 # too much work and irrelevant\n",
    "# epsilon = (275 / p_y)**0.5\n",
    "\n",
    "# if bT < 15*epsilon: SLENDERWEB = False\n",
    "# if dt < 40*epsilon: SLENDERFLANGE = False"
   ]
  },
  {
   "cell_type": "markdown",
   "metadata": {},
   "source": [
    "### $p_{\\text{c}}$"
   ]
  },
  {
   "cell_type": "markdown",
   "metadata": {},
   "source": [
    "Read off or interpolate values of "
   ]
  },
  {
   "cell_type": "code",
   "execution_count": 13,
   "metadata": {},
   "outputs": [
    {
     "data": {
      "text/latex": [
       "$\n",
       "\\begin{aligned}\n",
       "p_{c} &= 208.000000000000000000000000\\ \\mathrm{MPa} \\;\n",
       "\\end{aligned}\n",
       "$"
      ],
      "text/plain": [
       "<IPython.core.display.Latex object>"
      ]
     },
     "metadata": {},
     "output_type": "display_data"
    }
   ],
   "source": [
    "%%render params 2 # compressive strength pc, Table 24\n",
    "# %%render params short 2 # ... checking rendering error\n",
    "p_c = 208.0 * MPa"
   ]
  },
  {
   "cell_type": "markdown",
   "metadata": {},
   "source": [
    "### $P_{\\text{c}}$"
   ]
  },
  {
   "cell_type": "code",
   "execution_count": 14,
   "metadata": {},
   "outputs": [
    {
     "data": {
      "text/latex": [
       "$\n",
       "\\begin{aligned}\n",
       "P_{c} &= A \\cdot p_{c}  = 13600.000\\ \\mathrm{mm}^{2} \\cdot 208.000\\ \\mathrm{MPa} &= 2.829\\ \\mathrm{MN}  \n",
       "\\\\[10pt]\n",
       "&\\text{Since, } F_{c} \\geq P_{c} \\rightarrow \\left( 3.000\\ \\mathrm{MN} \\geq 2.829\\ \\mathrm{MN} \\right) :   \\\\[10pt]\n",
       "\\mathrm{CompressionCapacity} &= \\mathrm{INADEQUATE🚫} \\; \n",
       "\\end{aligned}\n",
       "$"
      ],
      "text/plain": [
       "<IPython.core.display.Latex object>"
      ]
     },
     "metadata": {},
     "output_type": "display_data"
    }
   ],
   "source": [
    "%%render 3 # Compression resistance, Cl 4.7.4, and Fc < Pc\n",
    "P_c = A * p_c\n",
    "\n",
    "if F_c < P_c: CompressionCapacity = \"OK✅\"\n",
    "elif F_c >= P_c: CompressionCapacity = \"INADEQUATE🚫\""
   ]
  },
  {
   "cell_type": "markdown",
   "metadata": {},
   "source": [
    "## Eurocode 3"
   ]
  },
  {
   "cell_type": "markdown",
   "metadata": {},
   "source": [
    "### Equivalent params"
   ]
  },
  {
   "cell_type": "code",
   "execution_count": 15,
   "metadata": {},
   "outputs": [
    {
     "data": {
      "text/latex": [
       "$\n",
       "\\begin{aligned}\n",
       "N_{Ed} &= 3.00\\ \\mathrm{MN} \\; \n",
       " &L_{Cr} &= 5.00\\ \\mathrm{m} \\; \n",
       " &f_{y} &= 265.00\\ \\mathrm{MPa} \\; \n",
       "\\\\[10pt]\n",
       " E &= 210.00\\ \\mathrm{GPa} \\; \n",
       " &\\gamma_{m_{0}} &= 1.00 \\; \n",
       " &\\gamma_{m_{1}} &= 1.00 \\; \n",
       "\\\\[10pt]\n",
       " \\pi &= 3.14 \\;\n",
       "\\end{aligned}\n",
       "$"
      ],
      "text/plain": [
       "<IPython.core.display.Latex object>"
      ]
     },
     "metadata": {},
     "output_type": "display_data"
    }
   ],
   "source": [
    "%%render params 2\n",
    "N_Ed = F_c\n",
    "L_Cr = L_E\n",
    "f_y = p_y * MPa\n",
    "\n",
    "E = 210 * GPa\n",
    "gamma_m_0 = 1.0\n",
    "gamma_m_1 = 1.0\n",
    "pi = 3.14159265359"
   ]
  },
  {
   "cell_type": "markdown",
   "metadata": {},
   "source": [
    "### $N_{\\text{c,Rd}}$"
   ]
  },
  {
   "cell_type": "code",
   "execution_count": 16,
   "metadata": {},
   "outputs": [
    {
     "data": {
      "text/latex": [
       "$\n",
       "\\begin{aligned}\n",
       "N_{cRd} &= A \\cdot \\frac{ f_{y} }{ \\gamma_{m_{0}} }  = 13600.00\\ \\mathrm{mm}^{2} \\cdot \\frac{ 265.00\\ \\mathrm{MPa} }{ 1.00 } &= 3.60\\ \\mathrm{MN}  \n",
       "\\end{aligned}\n",
       "$"
      ],
      "text/plain": [
       "<IPython.core.display.Latex object>"
      ]
     },
     "metadata": {},
     "output_type": "display_data"
    }
   ],
   "source": [
    "%%render short 2 # Cross ... Cl.\n",
    "N_cRd = A * f_y / gamma_m_0"
   ]
  },
  {
   "cell_type": "markdown",
   "metadata": {},
   "source": [
    "### $\\lambda_{\\text{1}}$ and $\\lambda_{\\text{z}}$"
   ]
  },
  {
   "cell_type": "code",
   "execution_count": 17,
   "metadata": {},
   "outputs": [
    {
     "data": {
      "text/latex": [
       "$\n",
       "\\begin{aligned}\n",
       "\\lambda_{1} &= \\pi \\cdot \\left( \\frac{ E }{ f_{y} } \\right) ^{ 0.5 }  = 3.14 \\cdot \\left( \\frac{ 210.00\\ \\mathrm{GPa} }{ 265.00\\ \\mathrm{MPa} } \\right) ^{ 0.5 } &= 88.44  \n",
       "\\end{aligned}\n",
       "$"
      ],
      "text/plain": [
       "<IPython.core.display.Latex object>"
      ]
     },
     "metadata": {},
     "output_type": "display_data"
    }
   ],
   "source": [
    "%%render short 2 # Slenderness\n",
    "lamb_1 = pi * (E / f_y)**0.5"
   ]
  },
  {
   "cell_type": "code",
   "execution_count": 18,
   "metadata": {},
   "outputs": [
    {
     "data": {
      "text/latex": [
       "$\n",
       "\\begin{aligned}\n",
       "\\lambda_{z} &= \\left( \\frac{ L_{Cr} }{ i_{zz} } \\right) \\cdot \\left( \\frac{ 1 }{ \\lambda_{1} } \\right)  = \\left( \\frac{ 5.00\\ \\mathrm{m} }{ 65.90\\ \\mathrm{mm} } \\right) \\cdot \\left( \\frac{ 1 }{ 88.44 } \\right) &= 0.86  \n",
       "\\end{aligned}\n",
       "$"
      ],
      "text/plain": [
       "<IPython.core.display.Latex object>"
      ]
     },
     "metadata": {},
     "output_type": "display_data"
    }
   ],
   "source": [
    "%%render short 2 # Relative Slenderness\n",
    "lamb_z = (L_Cr/i_zz) * (1/lamb_1)\n",
    "# lamb_z = L_Cr/i_zz * 1/lamb_1"
   ]
  },
  {
   "cell_type": "markdown",
   "metadata": {},
   "source": [
    "### Buckling Curve"
   ]
  },
  {
   "cell_type": "code",
   "execution_count": 19,
   "metadata": {},
   "outputs": [
    {
     "data": {
      "text/latex": [
       "$\n",
       "\\begin{aligned}\n",
       "\\mathrm{hb} &= \\frac{ h }{ b }  = \\frac{ 266.700\\ \\mathrm{mm} }{ 258.800\\ \\mathrm{mm} } &= 1.031 \\; \\;\\textrm{(h/b)}\n",
       "\\\\[10pt]\n",
       "t_{f} &= 20.500\\ \\mathrm{mm} \\; \n",
       "\\end{aligned}\n",
       "$"
      ],
      "text/plain": [
       "<IPython.core.display.Latex object>"
      ]
     },
     "metadata": {},
     "output_type": "display_data"
    }
   ],
   "source": [
    "%%render short 3 # Select buckling curve ...\n",
    "hb = h / b # h/b\n",
    "t_f"
   ]
  },
  {
   "cell_type": "markdown",
   "metadata": {},
   "source": [
    "### $\\Phi$ and $\\chi$"
   ]
  },
  {
   "cell_type": "code",
   "execution_count": 20,
   "metadata": {},
   "outputs": [
    {
     "data": {
      "text/latex": [
       "$\n",
       "\\begin{aligned}\n",
       "\\alpha &= 0.49 \\; \n",
       "\\\\[10pt]\n",
       "\\Phi &= 0.5 \\cdot \\left( 1 + \\alpha \\cdot \\left( \\lambda_{z} - 0.2 \\right) + \\left( \\lambda_{z} \\right) ^{ 2 } \\right)  = 0.5 \\cdot \\left( 1 + 0.49 \\cdot \\left( 0.86 - 0.2 \\right) + \\left( 0.86 \\right) ^{ 2 } \\right) &= 1.03  \n",
       "\\\\[10pt]\n",
       "\\chi &= \\frac{ 1 }{ \\Phi + \\left( \\left( \\Phi \\right) ^{ 2 } - \\left( \\lambda_{z} \\right) ^{ 2 } \\right) ^{ 0.5 } }  = \\frac{ 1 }{ 1.03 + \\left( \\left( 1.03 \\right) ^{ 2 } - \\left( 0.86 \\right) ^{ 2 } \\right) ^{ 0.5 } } &= 0.63  \n",
       "\\end{aligned}\n",
       "$"
      ],
      "text/plain": [
       "<IPython.core.display.Latex object>"
      ]
     },
     "metadata": {},
     "output_type": "display_data"
    }
   ],
   "source": [
    "%%render short 2 # having selected alpha from ...\n",
    "alpha = 0.49\n",
    "Phi = 0.5 * (1 + alpha*(lamb_z -0.2) + lamb_z**2)\n",
    "chi = 1 / (Phi + (Phi**2 - lamb_z**2)**0.5)"
   ]
  },
  {
   "cell_type": "markdown",
   "metadata": {},
   "source": [
    "### $N_{\\text{b,Rd}}$"
   ]
  },
  {
   "cell_type": "code",
   "execution_count": 22,
   "metadata": {},
   "outputs": [
    {
     "data": {
      "text/latex": [
       "$\n",
       "\\begin{aligned}\n",
       "N_{bRd} &= \\chi \\cdot A \\cdot \\frac{ f_{y} }{ \\gamma_{m_{1}} }  = 0.63 \\cdot 13600.00\\ \\mathrm{mm}^{2} \\cdot \\frac{ 265.00\\ \\mathrm{MPa} }{ 1.00 } &= 2.26\\ \\mathrm{MN}  \n",
       "\\\\[10pt]\n",
       "&\\text{Since, } N_{Ed} \\geq N_{bRd} \\rightarrow \\left( 3.00\\ \\mathrm{MN} \\geq 2.26\\ \\mathrm{MN} \\right) :   \\\\[10pt]\n",
       "\\mathrm{CompressionResistance} &= \\mathrm{INADEQUATE🚫} \\; \n",
       "\\end{aligned}\n",
       "$"
      ],
      "text/plain": [
       "<IPython.core.display.Latex object>"
      ]
     },
     "metadata": {},
     "output_type": "display_data"
    }
   ],
   "source": [
    "%%render short 2 ##\n",
    "N_bRd = chi * A * f_y / gamma_m_1\n",
    "\n",
    "if N_Ed < N_bRd: CompressionResistance = \"OK✅\"\n",
    "elif N_Ed >= N_bRd: CompressionResistance = \"INADEQUATE🚫\""
   ]
  },
  {
   "cell_type": "code",
   "execution_count": null,
   "metadata": {},
   "outputs": [],
   "source": []
  }
 ],
 "metadata": {
  "kernelspec": {
   "display_name": "tf",
   "language": "python",
   "name": "python3"
  },
  "language_info": {
   "codemirror_mode": {
    "name": "ipython",
    "version": 3
   },
   "file_extension": ".py",
   "mimetype": "text/x-python",
   "name": "python",
   "nbconvert_exporter": "python",
   "pygments_lexer": "ipython3",
   "version": "3.12.2"
  }
 },
 "nbformat": 4,
 "nbformat_minor": 2
}
