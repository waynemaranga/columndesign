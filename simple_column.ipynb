{
 "cells": [
  {
   "cell_type": "markdown",
   "metadata": {},
   "source": [
    "# Steel column in ‘simple’ construction"
   ]
  },
  {
   "cell_type": "markdown",
   "metadata": {},
   "source": [
    "Example 4.12 Design of a steel column in ‘simple’ construction (BS 5950)"
   ]
  },
  {
   "cell_type": "markdown",
   "metadata": {},
   "source": [
    "#### Imports & Env."
   ]
  },
  {
   "cell_type": "code",
   "execution_count": 1,
   "metadata": {},
   "outputs": [],
   "source": [
    "import handcalcs\n",
    "from handcalcs import render\n",
    "import forallpeople as si\n",
    "from modules.section import UniversalColumn"
   ]
  },
  {
   "cell_type": "code",
   "execution_count": 2,
   "metadata": {},
   "outputs": [],
   "source": [
    "# environments\n",
    "si.environment(\"structural\", top_level=True) # load SI units for structural eng. into the environment, top_level=True defines them in the top-level namespace (as vars)\n",
    "# -> Handcalcs environment settings for TeX rendering\n",
    "handcalcs.set_option(\"latex_block_start\", \"$\")\n",
    "handcalcs.set_option(\"latex_block_end\", \"$\")\n",
    "handcalcs.set_option(\"math_environment_start\", \"aligned\")\n",
    "handcalcs.set_option(\"math_environment_end\", \"aligned\")"
   ]
  },
  {
   "cell_type": "markdown",
   "metadata": {},
   "source": [
    "#### Qn. Params"
   ]
  },
  {
   "cell_type": "code",
   "execution_count": 3,
   "metadata": {},
   "outputs": [
    {
     "data": {
      "text/latex": [
       "$\n",
       "\\begin{aligned}\n",
       "L &= 7.00\\ \\mathrm{m} \\; \n",
       " &R_{A} &= 200.00\\ \\mathrm{kN} \\; \\;\\textrm{(Reaction from Beam A, in major axis)}\n",
       " &R_{B} &= 75.00\\ \\mathrm{kN} \\; \\;\\textrm{(Reaction from Beam B, in minor axis)}\n",
       "\\\\[10pt]\n",
       "\\end{aligned}\n",
       "$"
      ],
      "text/plain": [
       "<IPython.core.display.Latex object>"
      ]
     },
     "metadata": {},
     "output_type": "display_data"
    }
   ],
   "source": [
    "%%render params 2\n",
    "L = 7 * m\n",
    "R_A = 200 * kN # Reaction from Beam A, in major axis\n",
    "R_B = 75 * kN # Reaction from Beam B, in minor axis\n"
   ]
  },
  {
   "cell_type": "markdown",
   "metadata": {},
   "source": [
    "#### Trial Section"
   ]
  },
  {
   "cell_type": "code",
   "execution_count": 4,
   "metadata": {},
   "outputs": [],
   "source": [
    "# trial_section = UniversalColumn(\"203 × 203 × 52\")\n",
    "trial_section = UniversalColumn(\"203x203x52\")"
   ]
  },
  {
   "cell_type": "code",
   "execution_count": 5,
   "metadata": {},
   "outputs": [
    {
     "data": {
      "text/latex": [
       "$\n",
       "\\begin{aligned}\n",
       "D &= 206.2\\ \\mathrm{mm} \\; \n",
       " &d &= 160.8\\ \\mathrm{mm} \\; \n",
       " &t &= 7.9\\ \\mathrm{mm} \\; \n",
       "\\\\[10pt]\n",
       " T &= 12.5\\ \\mathrm{mm} \\; \n",
       " &\\mathrm{bT} &= 8.2\\ \\mathrm{mm} \\; \n",
       " &\\mathrm{dt} &= 20.4\\ \\mathrm{mm} \\; \n",
       "\\\\[10pt]\n",
       " p_{y} &= 265.0\\ \\mathrm{MPa} \\; \n",
       " &S_{xx} &= 567000.0\\ \\mathrm{mm}^{3} \\; \n",
       " &S_{yy} &= 264000.0\\ \\mathrm{mm}^{3} \\; \n",
       "\\\\[10pt]\n",
       " Z_{xx} &= 510000.0\\ \\mathrm{mm}^{3} \\; \n",
       " &Z_{yy} &= 174000.0\\ \\mathrm{mm}^{3} \\; \n",
       " &r_{xx} &= 89.1\\ \\mathrm{mm} \\; \n",
       "\\\\[10pt]\n",
       " r_{yy} &= 51.8\\ \\mathrm{mm} \\; \n",
       " &A_{g} &= 6630.0\\ \\mathrm{mm}^{2} \\;\n",
       "\\end{aligned}\n",
       "$"
      ],
      "text/plain": [
       "<IPython.core.display.Latex object>"
      ]
     },
     "metadata": {},
     "output_type": "display_data"
    }
   ],
   "source": [
    "%%render params 1\n",
    "D = trial_section.D * mm\n",
    "d = trial_section.d * mm\n",
    "t = trial_section.t * mm\n",
    "T = trial_section.T * mm\n",
    "bT = trial_section.b_T * mm\n",
    "dt = trial_section.d_t * mm\n",
    "# SteelGrade = 275 * MPa\n",
    "p_y = 265 * MPa\n",
    "\n",
    "S_xx = trial_section.S_xx * 1000*mm**3\n",
    "S_yy = trial_section.S_yy * 1000*mm**3\n",
    "Z_xx = trial_section.Z_xx * 1000*mm**3\n",
    "Z_yy = trial_section.Z_yy * 1000*mm**3\n",
    "r_xx = trial_section.r_xx * 10*mm\n",
    "r_yy = trial_section.r_yy * 10*mm\n",
    "A_g = trial_section.A * 100*mm**2"
   ]
  },
  {
   "cell_type": "markdown",
   "metadata": {},
   "source": [
    "#### Design Loading and Moments"
   ]
  },
  {
   "cell_type": "code",
   "execution_count": 6,
   "metadata": {},
   "outputs": [
    {
     "data": {
      "text/latex": [
       "$\n",
       "\\begin{aligned}\n",
       "F &= R_{A} + R_{B} + 5 \\cdot \\mathrm{kN}  = 200.00\\ \\mathrm{kN} + 75.00\\ \\mathrm{kN} + 5 \\cdot kN &= 280.00\\ \\mathrm{kN}  \n",
       "\\\\[10pt]\n",
       "e_{x} &= \\frac{ D }{ 2 } + 100 \\cdot \\mathrm{mm}  = \\frac{ 206.20\\ \\mathrm{mm} }{ 2 } + 100 \\cdot mm &= 203.10\\ \\mathrm{mm}  \n",
       "\\\\[10pt]\n",
       "e_{y} &= \\frac{ t }{ 2 } + 100 \\cdot \\mathrm{mm}  = \\frac{ 7.90\\ \\mathrm{mm} }{ 2 } + 100 \\cdot mm &= 103.95\\ \\mathrm{mm}  \n",
       "\\\\[10pt]\n",
       "M_{x} &= R_{A} \\cdot e_{x}  = 200.00\\ \\mathrm{kN} \\cdot 203.10\\ \\mathrm{mm} &= 40.62\\ \\mathrm{kN} \\cdot \\mathrm{m} \\; \\;\\textrm{(Moment due to Beam A)}\n",
       "\\\\[10pt]\n",
       "M_{y} &= R_{B} \\cdot e_{y}  = 75.00\\ \\mathrm{kN} \\cdot 103.95\\ \\mathrm{mm} &= 7.80\\ \\mathrm{kN} \\cdot \\mathrm{m} \\; \\;\\textrm{(Moment due to Beam B)}\n",
       "\\end{aligned}\n",
       "$"
      ],
      "text/plain": [
       "<IPython.core.display.Latex object>"
      ]
     },
     "metadata": {},
     "output_type": "display_data"
    }
   ],
   "source": [
    "%%render 2\n",
    "F = R_A + R_B + 5*kN\n",
    "e_x = D/2 + 100*mm\n",
    "e_y = t/2 + 100*mm\n",
    "M_x = R_A * e_x # Moment due to Beam A\n",
    "M_y = R_B * e_y # Moment due to Beam B"
   ]
  },
  {
   "cell_type": "markdown",
   "metadata": {},
   "source": [
    "#### Effective Length"
   ]
  },
  {
   "cell_type": "code",
   "execution_count": 7,
   "metadata": {},
   "outputs": [
    {
     "data": {
      "text/latex": [
       "$\n",
       "\\begin{aligned}\n",
       "L_{E} &= 0.85 \\cdot L  = 0.85 \\cdot 7.0000\\ \\mathrm{m} &= 5.9500\\ \\mathrm{m}  \n",
       "\\end{aligned}\n",
       "$"
      ],
      "text/plain": [
       "<IPython.core.display.Latex object>"
      ]
     },
     "metadata": {},
     "output_type": "display_data"
    }
   ],
   "source": [
    "%%render 4\n",
    "L_E = 0.85 * L"
   ]
  },
  {
   "cell_type": "markdown",
   "metadata": {},
   "source": [
    "#### Bending Strength"
   ]
  },
  {
   "cell_type": "code",
   "execution_count": 8,
   "metadata": {},
   "outputs": [
    {
     "data": {
      "text/latex": [
       "$\n",
       "\\begin{aligned}\n",
       "\\mathrm{lambda}_{x} &= \\frac{ L_{E} }{ r_{xx} }  = \\frac{ 5.95\\ \\mathrm{m} }{ 89.10\\ \\mathrm{mm} } &= 66.78  \n",
       "\\\\[10pt]\n",
       "\\mathrm{lambda}_{y} &= \\frac{ L_{E} }{ r_{yy} }  = \\frac{ 5.95\\ \\mathrm{m} }{ 51.80\\ \\mathrm{mm} } &= 114.86  \n",
       "\\\\[10pt]\n",
       "p_{cx} &= 208 \\cdot \\mathrm{MPa}  = 208 \\cdot MPa &= 208.00\\ \\mathrm{MPa}  \n",
       "\\\\[10pt]\n",
       "p_{cy} &= 103 \\cdot \\mathrm{MPa}  = 103 \\cdot MPa &= 103.00\\ \\mathrm{MPa}  \n",
       "\\\\[10pt]\n",
       "p_{c} &= \\operatorname{min} { \\left( p_{cx} ,\\  p_{cy} \\right) }  = \\operatorname{min} { \\left( 208.00\\ \\mathrm{MPa} ,\\  103.00\\ \\mathrm{MPa} \\right) } &= 103.00\\ \\mathrm{MPa}  \n",
       "\\end{aligned}\n",
       "$"
      ],
      "text/plain": [
       "<IPython.core.display.Latex object>"
      ]
     },
     "metadata": {},
     "output_type": "display_data"
    }
   ],
   "source": [
    "%%render 2\n",
    "lambda_x = L_E / r_xx\n",
    "lambda_y = L_E / r_yy\n",
    "\n",
    "# ...read from Table-24(b) (X-axis) and Table-24(c) (Y-axis)\n",
    "p_cx = 208 * MPa\n",
    "p_cy = 103 * MPa\n",
    "p_c = min(p_cx, p_cy)"
   ]
  },
  {
   "cell_type": "markdown",
   "metadata": {},
   "source": [
    "#### Buckling Resistance"
   ]
  },
  {
   "cell_type": "code",
   "execution_count": 9,
   "metadata": {},
   "outputs": [
    {
     "data": {
      "text/latex": [
       "$\n",
       "\\begin{aligned}\n",
       "\\mathrm{lambda}_{LT} &= \\frac{ 0.5 \\cdot L }{ r_{yy} }  = \\frac{ 0.5 \\cdot 7.00\\ \\mathrm{m} }{ 51.80\\ \\mathrm{mm} } &= 67.57  \n",
       "\\\\[10pt]\n",
       "p_{b} &= 193 \\cdot \\mathrm{MPa}  = 193 \\cdot MPa &= 193.00\\ \\mathrm{MPa}  \n",
       "\\\\[10pt]\n",
       "M_{b} &= p_{b} \\cdot S_{xx}  = 193.00\\ \\mathrm{MPa} \\cdot 567000.00\\ \\mathrm{mm}^{3} &= 109.43\\ \\mathrm{kN} \\cdot \\mathrm{m}  \n",
       "\\\\[10pt]\n",
       "F_{c} &= 280.00\\ \\mathrm{kN} \\; \n",
       "\\end{aligned}\n",
       "$"
      ],
      "text/plain": [
       "<IPython.core.display.Latex object>"
      ]
     },
     "metadata": {},
     "output_type": "display_data"
    }
   ],
   "source": [
    "%%render short 2\n",
    "lambda_LT = (0.5 * L) / r_yy\n",
    "\n",
    "# ... from Table\n",
    "p_b = 193 * MPa\n",
    "M_b = p_b * S_xx\n",
    "F_c = F\n"
   ]
  },
  {
   "cell_type": "code",
   "execution_count": 10,
   "metadata": {},
   "outputs": [
    {
     "data": {
      "text/latex": [
       "$\n",
       "\\begin{aligned}\n",
       "P_{c} &= A_{g} \\cdot p_{c}  = 6630.00\\ \\mathrm{mm}^{2} \\cdot 103.00\\ \\mathrm{MPa} &= 682.89\\ \\mathrm{kN}  \n",
       "\\\\[10pt]\n",
       "\\mathrm{Buckling}_{check} &= \\frac{ F_{c} }{ P_{c} } + \\frac{ M_{x} }{ M_{b} } + \\frac{ M_{y} }{ p_{y} \\cdot Z_{yy} }  = \\frac{ 280.00\\ \\mathrm{kN} }{ 682.89\\ \\mathrm{kN} } + \\frac{ 40.62\\ \\mathrm{kN} \\cdot \\mathrm{m} }{ 109.43\\ \\mathrm{kN} \\cdot \\mathrm{m} } + \\frac{ 7.80\\ \\mathrm{kN} \\cdot \\mathrm{m} }{ 265.00\\ \\mathrm{MPa} \\cdot 174000.00\\ \\mathrm{mm}^{3} } &= 0.95  \n",
       "\\\\[10pt]\n",
       "&\\text{Since, } \\mathrm{Buckling}_{check} \\leq 1 \\rightarrow \\left( 0.95 \\leq 1 \\right) :   \\\\[10pt]\n",
       "\\mathrm{BucklingResistance} &= \\mathrm{OK} \\; \n",
       "\\end{aligned}\n",
       "$"
      ],
      "text/plain": [
       "<IPython.core.display.Latex object>"
      ]
     },
     "metadata": {},
     "output_type": "display_data"
    }
   ],
   "source": [
    "%%render 2\n",
    "# Clause 4.7.4\n",
    "P_c = A_g * p_c\n",
    "\n",
    "Buckling_check = F_c/P_c + M_x/M_b + M_y/(p_y * Z_yy)\n",
    "\n",
    "if Buckling_check <= 1: BucklingResistance = \"OK\"\n",
    "elif Buckling_check > 1: BucklingResistance = \"INADEQUATE\""
   ]
  }
 ],
 "metadata": {
  "kernelspec": {
   "display_name": "tf",
   "language": "python",
   "name": "python3"
  },
  "language_info": {
   "codemirror_mode": {
    "name": "ipython",
    "version": 3
   },
   "file_extension": ".py",
   "mimetype": "text/x-python",
   "name": "python",
   "nbconvert_exporter": "python",
   "pygments_lexer": "ipython3",
   "version": "3.12.2"
  }
 },
 "nbformat": 4,
 "nbformat_minor": 2
}
