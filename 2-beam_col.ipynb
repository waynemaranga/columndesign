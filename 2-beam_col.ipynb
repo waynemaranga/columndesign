{
 "cells": [
  {
   "cell_type": "markdown",
   "metadata": {},
   "source": [
    "# Beam-Column"
   ]
  },
  {
   "cell_type": "markdown",
   "metadata": {},
   "source": [
    "TODO: Uniaxial vs Biaxial"
   ]
  },
  {
   "cell_type": "markdown",
   "metadata": {},
   "source": [
    "## Setup"
   ]
  },
  {
   "cell_type": "markdown",
   "metadata": {},
   "source": [
    "### Imports & Env. Settings"
   ]
  },
  {
   "cell_type": "code",
   "execution_count": 38,
   "metadata": {},
   "outputs": [],
   "source": [
    "# Imports\n",
    "import handcalcs # https://github.com/connorferster/handcalcs/wiki\n",
    "from handcalcs import render # https://github.com/connorferster/handcalcs?tab=readme-ov-file#basic-usage-1-as-a-jupyter-cell-magic-render\n",
    "import forallpeople as si # https://connorferster.github.io/forallpeople/basic_usage.html\n",
    "from modules.section import UniversalColumn, UniversalBeam"
   ]
  },
  {
   "cell_type": "code",
   "execution_count": 39,
   "metadata": {},
   "outputs": [],
   "source": [
    "# Environment config.\n",
    "# --> SI units structural env ( https://connorferster.github.io/forallpeople/environments.html#Environments )\n",
    "si.environment(\"structural\", top_level=True) # load SI units for structural eng. into the environment, top_level=True defines them in the top-level namespace (as vars)\n",
    "# -> Handcalcs environment settings for TeX rendering\n",
    "handcalcs.set_option(\"latex_block_start\", \"$\")\n",
    "handcalcs.set_option(\"latex_block_end\", \"$\")\n",
    "handcalcs.set_option(\"math_environment_start\", \"aligned\")\n",
    "handcalcs.set_option(\"math_environment_end\", \"aligned\")"
   ]
  },
  {
   "cell_type": "markdown",
   "metadata": {},
   "source": [
    "### Question Data"
   ]
  },
  {
   "cell_type": "code",
   "execution_count": 40,
   "metadata": {},
   "outputs": [
    {
     "data": {
      "text/latex": [
       "$\n",
       "\\begin{aligned}\n",
       "F_{c} &= 2.00\\ \\mathrm{MN} \\; \n",
       " &M_{x} &= 100.00\\ \\mathrm{kN} \\; \n",
       " &M_{y} &= 20.00\\ \\mathrm{kN} \\; \n",
       "\\\\[10pt]\n",
       " L &= 10.00 \\;\n",
       "\\end{aligned}\n",
       "$"
      ],
      "text/plain": [
       "<IPython.core.display.Latex object>"
      ]
     },
     "metadata": {},
     "output_type": "display_data"
    }
   ],
   "source": [
    "%%render params 2 # Loads/Moments, lengths, qn. params\n",
    "# Actions\n",
    "F_c = 2000 * kN\n",
    "M_x = 100 * kN * m\n",
    "M_y = 20 * kN * m\n",
    "\n",
    "# Dimensions\n",
    "L = 10 * m\n"
   ]
  },
  {
   "cell_type": "markdown",
   "metadata": {},
   "source": [
    "### Trial Section"
   ]
  },
  {
   "cell_type": "code",
   "execution_count": 41,
   "metadata": {},
   "outputs": [],
   "source": [
    "trial_section = UniversalColumn.create(designation=\"305x305x137\")\n",
    "# trial_section = UniversalColumn.create(designation=\"305x305x118\")\n",
    "# trial_section = UniversalBeam.create(designation=\"\")"
   ]
  },
  {
   "cell_type": "code",
   "execution_count": 42,
   "metadata": {},
   "outputs": [
    {
     "data": {
      "text/latex": [
       "$\n",
       "\\begin{aligned}\n",
       "D &= 320.5\\ \\mathrm{mm} \\; \n",
       " &B &= 309.2\\ \\mathrm{mm} \\; \n",
       " &d &= 246.7\\ \\mathrm{mm} \\; \n",
       "\\\\[10pt]\n",
       " t &= 13.8\\ \\mathrm{mm} \\; \n",
       " &T &= 21.7\\ \\mathrm{mm} \\; \n",
       " &S_{xx} &= 2300000.0\\ \\mathrm{mm}^{3} \\; \n",
       "\\\\[10pt]\n",
       " S_{yy} &= 1050000.0\\ \\mathrm{mm}^{3} \\; \n",
       " &Z_{xx} &= 2050000.0\\ \\mathrm{mm}^{3} \\; \n",
       " &Z_{yy} &= 692000.0\\ \\mathrm{mm}^{3} \\; \n",
       "\\\\[10pt]\n",
       " r_{xx} &= 137.0\\ \\mathrm{mm} \\; \n",
       " &r_{yy} &= 78.3\\ \\mathrm{mm} \\; \n",
       " &u &= 0.9 \\; \n",
       "\\\\[10pt]\n",
       " x &= 14.1 \\; \n",
       " &A &= 17400.0\\ \\mathrm{mm}^{2} \\;\n",
       "\\end{aligned}\n",
       "$"
      ],
      "text/plain": [
       "<IPython.core.display.Latex object>"
      ]
     },
     "metadata": {},
     "output_type": "display_data"
    }
   ],
   "source": [
    "%%render params 1 # BS Notation\n",
    "D = trial_section.D * mm\n",
    "B = trial_section.B * mm\n",
    "d = trial_section.d * mm\n",
    "t = trial_section.t * mm\n",
    "T = trial_section.T * mm\n",
    "\n",
    "S_xx = trial_section.S_xx * 1000*mm**3\n",
    "S_yy = trial_section.S_yy * 1000*mm**3\n",
    "Z_xx = trial_section.Z_xx * 1000*mm**3\n",
    "Z_yy = trial_section.Z_yy * 1000*mm**3\n",
    "r_xx = trial_section.r_xx * 10*mm\n",
    "r_yy = trial_section.r_yy * 10*mm\n",
    "u = trial_section.u\n",
    "x = trial_section.x\n",
    "A = trial_section.A * 100*mm**2"
   ]
  },
  {
   "cell_type": "markdown",
   "metadata": {},
   "source": [
    "<!-- ### Classification -->"
   ]
  },
  {
   "cell_type": "markdown",
   "metadata": {},
   "source": [
    "### Effective Length $L_{\\text{E}}$ / $L_{\\text{Cr}}$"
   ]
  },
  {
   "cell_type": "markdown",
   "metadata": {},
   "source": [
    "Table 22 BS 5950\n",
    "_ENV 1993-1-1:2004_"
   ]
  },
  {
   "cell_type": "code",
   "execution_count": 43,
   "metadata": {},
   "outputs": [
    {
     "data": {
      "text/latex": [
       "$\n",
       "\\begin{aligned}\n",
       "L_{E} &= 0.7 \\cdot L  = 0.7 \\cdot 10.0000000000000000000000 &= 7.0000000000000000000000 \\; \\;\\textrm{(📝)}\n",
       "\\end{aligned}\n",
       "$"
      ],
      "text/plain": [
       "<IPython.core.display.Latex object>"
      ]
     },
     "metadata": {},
     "output_type": "display_data"
    }
   ],
   "source": [
    "%%render short 2 # Table 22 BS\n",
    "L_E = 0.7 * L # 📝\n",
    "# L_E = 0.85 * L\n",
    "# L_E = 1.0 * L\n",
    "# L_E = 1.2 * L\n",
    "# L_E = 1.5 * L\n",
    "# L_E = 2.0 * L\n",
    "\n",
    "# L_Cr = L_E"
   ]
  },
  {
   "cell_type": "markdown",
   "metadata": {},
   "source": [
    "## BS 5950"
   ]
  },
  {
   "cell_type": "markdown",
   "metadata": {},
   "source": [
    "### Classification"
   ]
  },
  {
   "cell_type": "code",
   "execution_count": 44,
   "metadata": {},
   "outputs": [
    {
     "data": {
      "text/latex": [
       "$\n",
       "\\begin{aligned}\n",
       "T &= 21.700000000\\ \\mathrm{mm} \\; \n",
       "\\\\[10pt]\n",
       "p_{y} &= 265 \\cdot \\mathrm{MPa}  = 265 \\cdot MPa &= 265.000000000\\ \\mathrm{MPa} \\; \\;\\textrm{(📝)}\n",
       "\\end{aligned}\n",
       "$"
      ],
      "text/plain": [
       "<IPython.core.display.Latex object>"
      ]
     },
     "metadata": {},
     "output_type": "display_data"
    }
   ],
   "source": [
    "%%render short 2 # Strength Classification, Table 9 BS\n",
    "T\n",
    "p_y = 265 * MPa # 📝"
   ]
  },
  {
   "cell_type": "code",
   "execution_count": 45,
   "metadata": {},
   "outputs": [],
   "source": [
    "# Section Class Table 11 BS,"
   ]
  },
  {
   "cell_type": "markdown",
   "metadata": {},
   "source": [
    "### Local Capacity"
   ]
  },
  {
   "cell_type": "code",
   "execution_count": 46,
   "metadata": {},
   "outputs": [
    {
     "data": {
      "text/latex": [
       "$\n",
       "\\begin{aligned}\n",
       "P_{c} &= A \\cdot p_{y}  = 17400.000\\ \\mathrm{mm}^{2} \\cdot 265.000\\ \\mathrm{MPa} &= 4.611\\ \\mathrm{MN}  \n",
       "\\\\[10pt]\n",
       "M_{cx} &= S_{xx} \\cdot p_{y}  = 2300000.000\\ \\mathrm{mm}^{3} \\cdot 265.000\\ \\mathrm{MPa} &= 609.500\\ \\mathrm{kN} \\cdot \\mathrm{m}  \n",
       "\\\\[10pt]\n",
       "M_{cy} &= S_{yy} \\cdot p_{y}  = 1050000.000\\ \\mathrm{mm}^{3} \\cdot 265.000\\ \\mathrm{MPa} &= 278.250\\ \\mathrm{kN} \\cdot \\mathrm{m}  \n",
       "\\end{aligned}\n",
       "$"
      ],
      "text/plain": [
       "<IPython.core.display.Latex object>"
      ]
     },
     "metadata": {},
     "output_type": "display_data"
    }
   ],
   "source": [
    "%%render short 3 # Capacities Pc, Mcx and Mcy\n",
    "P_c = A * p_y\n",
    "M_cx = S_xx * p_y\n",
    "M_cy = S_yy * p_y"
   ]
  },
  {
   "cell_type": "code",
   "execution_count": 47,
   "metadata": {},
   "outputs": [
    {
     "data": {
      "text/latex": [
       "$\n",
       "\\begin{aligned}\n",
       "\\mathrm{util} &= \\frac{ F_{c} }{ P_{c} } + \\frac{ M_{x} }{ M_{cx} } + \\frac{ M_{y} }{ M_{cy} }  = \\frac{ 2.00\\ \\mathrm{MN} }{ 4.61\\ \\mathrm{MN} } + \\frac{ 100.00\\ \\mathrm{kN} }{ 609.50\\ \\mathrm{kN} \\cdot \\mathrm{m} } + \\frac{ 20.00\\ \\mathrm{kN} }{ 278.25\\ \\mathrm{kN} \\cdot \\mathrm{m} } &= 0.67\\ \\mathrm{m}^{-1}  \n",
       "\\end{aligned}\n",
       "$"
      ],
      "text/plain": [
       "<IPython.core.display.Latex object>"
      ]
     },
     "metadata": {},
     "output_type": "display_data"
    }
   ],
   "source": [
    "%%render short 2 # Local Capacity Check, Cl. 4.8.3.2\n",
    "# util is utilisation ratio\n",
    "util = F_c/P_c + M_x/M_cx + M_y/M_cy\n",
    "# util = (F_c/P_c) + (M_x/M_cx) + (M_y/M_cy)\n",
    "\n",
    "\n",
    "\n",
    "# ... raw\n",
    "# if F_c/P_c + M_x/M_cx + M_y/M_cy < 1: LocalCapacity = \"OK✅\"\n",
    "# elif F_c/P_c + M_x/M_cx + M_y/M_cy >= 1: LocalCapacity = \"INADEQUATE🚫\""
   ]
  },
  {
   "cell_type": "code",
   "execution_count": 48,
   "metadata": {},
   "outputs": [
    {
     "data": {
      "text/latex": [
       "$\n",
       "\\begin{aligned}\n",
       "&\\text{Since, } \\mathrm{util} \\lt 1 \\rightarrow \\left( 0.67\\ \\mathrm{m}^{-1} \\lt 1 \\right) :   \\\\[10pt]\n",
       "\\mathrm{LocalCapacity} &= \\mathrm{OK✅} \\; \n",
       "\\end{aligned}\n",
       "$"
      ],
      "text/plain": [
       "<IPython.core.display.Latex object>"
      ]
     },
     "metadata": {},
     "output_type": "display_data"
    }
   ],
   "source": [
    "%%render short 2\n",
    "if util < 1: LocalCapacity = \"OK✅\"\n",
    "elif util >= 1: LocalCapacity = \"INADEQUATE🚫\""
   ]
  },
  {
   "cell_type": "markdown",
   "metadata": {},
   "source": [
    "### In-Plane (Flexural) Buckling"
   ]
  },
  {
   "cell_type": "markdown",
   "metadata": {},
   "source": [
    "#### $\\lambda$, Strut Curve and $p_{\\text{cx}}$ & $p_{\\text{cy}}$"
   ]
  },
  {
   "cell_type": "code",
   "execution_count": 49,
   "metadata": {},
   "outputs": [
    {
     "data": {
      "text/latex": [
       "$\n",
       "\\begin{aligned}\n",
       "L_{E} &= 7.00 \\; \n",
       " &r_{yy} &= 78.30\\ \\mathrm{mm} \\; \n",
       " &\\lambda &= 0.09\\ \\mathrm{mm}^{-1} \\; \n",
       "\\\\[10pt]\n",
       " p_{c} &= 139.00\\ \\mathrm{MPa} \\; \\;\\textrm{(📝)}\n",
       "\\end{aligned}\n",
       "$"
      ],
      "text/plain": [
       "<IPython.core.display.Latex object>"
      ]
     },
     "metadata": {},
     "output_type": "display_data"
    }
   ],
   "source": [
    "%%render params 2\n",
    "L_E\n",
    "r_yy\n",
    "lamb = L_E / r_yy\n",
    "\n",
    "# ... read off pcx and pcy from table 24\n",
    "p_c = 139 * MPa # 📝"
   ]
  },
  {
   "cell_type": "markdown",
   "metadata": {},
   "source": [
    "#### $P_{\\text{c}}$"
   ]
  },
  {
   "cell_type": "code",
   "execution_count": 50,
   "metadata": {},
   "outputs": [
    {
     "data": {
      "text/latex": [
       "$\n",
       "\\begin{aligned}\n",
       "P_{c} &= A \\cdot p_{c}  = 17400.000\\ \\mathrm{mm}^{2} \\cdot 139.000\\ \\mathrm{MPa} &= 2.419\\ \\mathrm{MN}  \n",
       "\\end{aligned}\n",
       "$"
      ],
      "text/plain": [
       "<IPython.core.display.Latex object>"
      ]
     },
     "metadata": {},
     "output_type": "display_data"
    }
   ],
   "source": [
    "%%render short 3 # \n",
    "P_c = A * p_c"
   ]
  },
  {
   "cell_type": "markdown",
   "metadata": {},
   "source": [
    "#### $m$"
   ]
  },
  {
   "cell_type": "code",
   "execution_count": 51,
   "metadata": {},
   "outputs": [
    {
     "data": {
      "text/latex": [
       "$\n",
       "\\begin{aligned}\n",
       "m &= 1.0 \\; \\;\\textrm{(📝)}\n",
       " &m_{x} &= 1.0 \\; \\;\\textrm{(📝)}\n",
       " &m_{y} &= 1.0 \\; \\;\\textrm{(📝)}\n",
       "\\\\[10pt]\n",
       "\\end{aligned}\n",
       "$"
      ],
      "text/plain": [
       "<IPython.core.display.Latex object>"
      ]
     },
     "metadata": {},
     "output_type": "display_data"
    }
   ],
   "source": [
    "%%render params 2 # r.... defaults to 1\n",
    "m = 1.0 # 📝\n",
    "m_x = m # 📝\n",
    "m_y = m # 📝"
   ]
  },
  {
   "cell_type": "markdown",
   "metadata": {},
   "source": [
    "#### $M_{\\text{cx}}$ and $M_{\\text{cy}}$"
   ]
  },
  {
   "cell_type": "code",
   "execution_count": 52,
   "metadata": {},
   "outputs": [
    {
     "data": {
      "text/latex": [
       "$\n",
       "\\begin{aligned}\n",
       "M_{cx_{ip}} &= p_{y} \\cdot Z_{xx}  = 265.00\\ \\mathrm{MPa} \\cdot 2050000.00\\ \\mathrm{mm}^{3} &= 543.25\\ \\mathrm{kN} \\cdot \\mathrm{m}  \n",
       "\\\\[10pt]\n",
       "M_{cy_{ip}} &= p_{y} \\cdot Z_{yy}  = 265.00\\ \\mathrm{MPa} \\cdot 692000.00\\ \\mathrm{mm}^{3} &= 183.38\\ \\mathrm{kN} \\cdot \\mathrm{m}  \n",
       "\\end{aligned}\n",
       "$"
      ],
      "text/plain": [
       "<IPython.core.display.Latex object>"
      ]
     },
     "metadata": {},
     "output_type": "display_data"
    }
   ],
   "source": [
    "%%render short 2 # unnec. for check; check calcs. products\n",
    "# M_cx_ip viz. in-plane, != M_cx (local) i.e plastic vs elastic moduli\n",
    "M_cx_ip = p_y * Z_xx\n",
    "M_cy_ip = p_y * Z_yy"
   ]
  },
  {
   "cell_type": "markdown",
   "metadata": {},
   "source": [
    "#### Check"
   ]
  },
  {
   "cell_type": "code",
   "execution_count": 53,
   "metadata": {},
   "outputs": [
    {
     "data": {
      "text/latex": [
       "$\n",
       "\\begin{aligned}\n",
       "\\mathrm{util}_{ipb} &= \\frac{ F_{c} }{ P_{c} } + \\frac{ m_{x} \\cdot M_{x} }{ p_{y} \\cdot Z_{xx} } + \\frac{ m_{y} \\cdot M_{y} }{ p_{y} \\cdot Z_{yy} }  = \\frac{ 2.00\\ \\mathrm{MN} }{ 2.42\\ \\mathrm{MN} } + \\frac{ 1.00 \\cdot 100.00\\ \\mathrm{kN} }{ 265.00\\ \\mathrm{MPa} \\cdot 2050000.00\\ \\mathrm{mm}^{3} } + \\frac{ 1.00 \\cdot 20.00\\ \\mathrm{kN} }{ 265.00\\ \\mathrm{MPa} \\cdot 692000.00\\ \\mathrm{mm}^{3} } &= 0.00\\ \\mathrm{mm}^{-1}  \n",
       "\\end{aligned}\n",
       "$"
      ],
      "text/plain": [
       "<IPython.core.display.Latex object>"
      ]
     },
     "metadata": {},
     "output_type": "display_data"
    }
   ],
   "source": [
    "%%render short 2 # In-Plane Buckling Check, Cl. 4.\n",
    "# util_ipb is utilisation ratio for in-plane buckling\n",
    "util_ipb = F_c/P_c + (m_x*M_x)/(p_y*Z_xx) + (m_y*M_y)/(p_y*Z_yy)\n",
    "# util_ipb = (F_c/P_c) + ((m_x*M_x)/(p_y*Z_xx)) + ((m_y*M_y)/(p_y*Z_yy))\n",
    "\n",
    "# if util_ipb < 1: InPlaneBucklingCapacity = \"OK✅\"\n",
    "# elif util_ipb >= 1: InPlaneBucklingCapacity = \"INADEQUATE🚫\"\n",
    "\n",
    "# ... raw\n",
    "# if F_c/P_c + (m_x*M_x)/(p_y*Z_xx) + (m_y*M_y)/(p_y*Z_yy) < 1: InPlaneBucklingCapacity = \"OK✅\"\n",
    "# elif F_c/P_c + M_x/(p_y*Z_xx) + M_y/(p_y*Z_yy) >= 1: InPlaneBucklingCapacity = \"INADEQUATE🚫\""
   ]
  },
  {
   "cell_type": "code",
   "execution_count": 54,
   "metadata": {},
   "outputs": [
    {
     "data": {
      "text/latex": [
       "$\n",
       "\\begin{aligned}\n",
       "&\\text{Since, } \\mathrm{util}_{ipb} \\geq 1 \\rightarrow \\left( 0.00\\ \\mathrm{mm}^{-1} \\geq 1 \\right) :   \\\\[10pt]\n",
       "\\mathrm{InPlaneBucklingCapacity} &= \\mathrm{INADEQUATE🚫} \\; \n",
       "\\end{aligned}\n",
       "$"
      ],
      "text/plain": [
       "<IPython.core.display.Latex object>"
      ]
     },
     "metadata": {},
     "output_type": "display_data"
    }
   ],
   "source": [
    "%%render short 2\n",
    "if util_ipb < 1: InPlaneBucklingCapacity = \"OK✅\"\n",
    "elif util_ipb >= 1: InPlaneBucklingCapacity = \"INADEQUATE🚫\""
   ]
  },
  {
   "cell_type": "markdown",
   "metadata": {},
   "source": [
    "### Lateral-Torsional Buckling"
   ]
  },
  {
   "cell_type": "markdown",
   "metadata": {},
   "source": [
    "#### $\\nu$ and $\\lambda_{\\text{LT}}$"
   ]
  },
  {
   "cell_type": "code",
   "execution_count": 55,
   "metadata": {},
   "outputs": [
    {
     "data": {
      "text/latex": [
       "$\n",
       "\\begin{aligned}\n",
       "\\beta &= 1.00 \\; \n",
       " &u &= 0.85 \\;\n",
       "\\end{aligned}\n",
       "$"
      ],
      "text/plain": [
       "<IPython.core.display.Latex object>"
      ]
     },
     "metadata": {},
     "output_type": "display_data"
    }
   ],
   "source": [
    "%%render params 2\n",
    "beta = 1.0 \n",
    "u"
   ]
  },
  {
   "cell_type": "code",
   "execution_count": 56,
   "metadata": {},
   "outputs": [
    {
     "data": {
      "text/latex": [
       "$\n",
       "\\begin{aligned}\n",
       "\\nu &= \\frac{ 1 }{ \\left( 1 + 0.05 \\cdot \\left( \\frac{ \\lambda }{ x } \\right) ^{ 2 } \\right) ^{ 0.25 } }  = \\frac{ 1 }{ \\left( 1 + 0.05 \\cdot \\left( \\frac{ 0.089\\ \\mathrm{mm}^{-1} }{ 14.100 } \\right) ^{ 2 } \\right) ^{ 0.25 } } &= 24.008\\ \\mathrm{mm}^{0.5}  \n",
       "\\\\[10pt]\n",
       "\\lambda_{LT} &= u \\cdot \\nu \\cdot \\lambda \\cdot \\left( \\beta \\right) ^{ 0.5 }  = 0.852 \\cdot 24.008\\ \\mathrm{mm}^{0.5} \\cdot 0.089\\ \\mathrm{mm}^{-1} \\cdot \\left( 1.000 \\right) ^{ 0.5 } &= 0.058\\ \\mathrm{μm}^{-0.5}  \n",
       "\\end{aligned}\n",
       "$"
      ],
      "text/plain": [
       "<IPython.core.display.Latex object>"
      ]
     },
     "metadata": {},
     "output_type": "display_data"
    }
   ],
   "source": [
    "%%render short 3\n",
    "nu = 1/( (1 + 0.05 * (lamb/x)**2)**(0.25) )\n",
    "lamb_LT = u * nu * lamb * beta**0.5"
   ]
  },
  {
   "cell_type": "markdown",
   "metadata": {},
   "source": [
    "#### $p_{\\text{b}}$"
   ]
  },
  {
   "cell_type": "code",
   "execution_count": 57,
   "metadata": {},
   "outputs": [
    {
     "data": {
      "text/latex": [
       "$\n",
       "\\begin{aligned}\n",
       "p_{b} &= 196.00\\ \\mathrm{MPa} \\; \\;\\textrm{(📝)}\n",
       "\\end{aligned}\n",
       "$"
      ],
      "text/plain": [
       "<IPython.core.display.Latex object>"
      ]
     },
     "metadata": {},
     "output_type": "display_data"
    }
   ],
   "source": [
    "%%render params 2\n",
    "p_b = 196 * MPa # 📝"
   ]
  },
  {
   "cell_type": "markdown",
   "metadata": {},
   "source": [
    "#### $m_{\\text{LT}}$ and $M_{\\text{LT}}$"
   ]
  },
  {
   "cell_type": "code",
   "execution_count": 58,
   "metadata": {},
   "outputs": [
    {
     "data": {
      "text/latex": [
       "$\n",
       "\\begin{aligned}\n",
       "m_{LT} &= 1.00 \\; \\;\\textrm{(📝)}\n",
       "\\\\[10pt]\n",
       "M_{LT} &= 100.00\\ \\mathrm{kN} \\; \n",
       "\\end{aligned}\n",
       "$"
      ],
      "text/plain": [
       "<IPython.core.display.Latex object>"
      ]
     },
     "metadata": {},
     "output_type": "display_data"
    }
   ],
   "source": [
    "%%render params 2 # m_LT read from table 18; M_LT is either Mx or max(Mx, My)\n",
    "m_LT = 1.0 # 📝\n",
    "M_LT = M_x\n",
    "# M_LT = max(M_x, M_y)"
   ]
  },
  {
   "cell_type": "markdown",
   "metadata": {},
   "source": [
    "#### $M_{\\text{b}}$"
   ]
  },
  {
   "cell_type": "code",
   "execution_count": 59,
   "metadata": {},
   "outputs": [
    {
     "data": {
      "text/latex": [
       "$\n",
       "\\begin{aligned}\n",
       "M_{b} &= S_{xx} \\cdot p_{b}  = 2300000.00\\ \\mathrm{mm}^{3} \\cdot 196.00\\ \\mathrm{MPa} &= 450.80\\ \\mathrm{kN} \\cdot \\mathrm{m}  \n",
       "\\end{aligned}\n",
       "$"
      ],
      "text/plain": [
       "<IPython.core.display.Latex object>"
      ]
     },
     "metadata": {},
     "output_type": "display_data"
    }
   ],
   "source": [
    "%%render short 2\n",
    "M_b = S_xx * p_b"
   ]
  },
  {
   "cell_type": "markdown",
   "metadata": {},
   "source": [
    "### Check..."
   ]
  },
  {
   "cell_type": "code",
   "execution_count": 60,
   "metadata": {},
   "outputs": [
    {
     "data": {
      "text/latex": [
       "$\n",
       "\\begin{aligned}\n",
       "\\mathrm{util}_{ltb} &= \\frac{ F_{c} }{ P_{c} } + \\frac{ m_{LT} \\cdot M_{LT} }{ M_{b} } + \\frac{ M_{y} }{ p_{y} \\cdot Z_{yy} }  = \\frac{ 2.00\\ \\mathrm{MN} }{ 2.42\\ \\mathrm{MN} } + \\frac{ 1.00 \\cdot 100.00\\ \\mathrm{kN} }{ 450.80\\ \\mathrm{kN} \\cdot \\mathrm{m} } + \\frac{ 20.00\\ \\mathrm{kN} }{ 265.00\\ \\mathrm{MPa} \\cdot 692000.00\\ \\mathrm{mm}^{3} } &= 0.00\\ \\mathrm{mm}^{-1}  \n",
       "\\end{aligned}\n",
       "$"
      ],
      "text/plain": [
       "<IPython.core.display.Latex object>"
      ]
     },
     "metadata": {},
     "output_type": "display_data"
    }
   ],
   "source": [
    "%%render short 2 # LTB Capacity Check, Cl. 4.8.3.2\n",
    "# util_ltb is utilisation ratio\n",
    "util_ltb = F_c/P_c + (m_LT*M_LT)/M_b + M_y/(p_y*Z_yy)\n",
    "# util_ltb = (F_c/P_c) + ((m_LT*M_LT)/M_b) + (M_y/(p_y*Z_yy))\n",
    "\n",
    "\n",
    "# ... raw\n",
    "# if F_c/P_c + (m_LT*M_LT)/M_b + M_y/(p_y*Z_yy)< 1: LTBucklingCapacity = \"OK✅\"\n",
    "# elif F_c/P_c + (m_LT*M_LT)/M_b + M_y/(p_y*Z_yy) >= 1: LTBucklingCapacity = \"INADEQUATE🚫\""
   ]
  },
  {
   "cell_type": "code",
   "execution_count": 61,
   "metadata": {},
   "outputs": [
    {
     "data": {
      "text/latex": [
       "$\n",
       "\\begin{aligned}\n",
       "&\\text{Since, } \\mathrm{util}_{ltb} \\geq 1 \\rightarrow \\left( 0.00\\ \\mathrm{mm}^{-1} \\geq 1 \\right) :   \\\\[10pt]\n",
       "\\mathrm{LTBucklingCapacity} &= \\mathrm{INADEQUATE🚫} \\; \n",
       "\\end{aligned}\n",
       "$"
      ],
      "text/plain": [
       "<IPython.core.display.Latex object>"
      ]
     },
     "metadata": {},
     "output_type": "display_data"
    }
   ],
   "source": [
    "%%render short 2\n",
    "if util_ltb < 1: LTBucklingCapacity = \"OK✅\"\n",
    "elif util_ltb >= 1: LTBucklingCapacity = \"INADEQUATE🚫\"\n"
   ]
  },
  {
   "cell_type": "markdown",
   "metadata": {},
   "source": [
    "## Eurocode 3"
   ]
  },
  {
   "cell_type": "markdown",
   "metadata": {},
   "source": [
    "### Params"
   ]
  },
  {
   "cell_type": "code",
   "execution_count": 62,
   "metadata": {},
   "outputs": [
    {
     "data": {
      "text/latex": [
       "$\n",
       "\\begin{aligned}\n",
       "h &= 320.5\\ \\mathrm{mm} \\; \n",
       " &b &= 309.2\\ \\mathrm{mm} \\; \n",
       " &t_{w} &= 13.8\\ \\mathrm{mm} \\; \n",
       "\\\\[10pt]\n",
       " t_{f} &= 21.7\\ \\mathrm{mm} \\; \n",
       " &W_{ply} &= 2300000.0\\ \\mathrm{mm}^{3} \\; \n",
       " &W_{plz} &= 1050000.0\\ \\mathrm{mm}^{3} \\; \n",
       "\\\\[10pt]\n",
       " W_{ely} &= 2050000.0\\ \\mathrm{mm}^{3} \\; \n",
       " &W_{elz} &= 692000.0\\ \\mathrm{mm}^{3} \\; \n",
       " &i_{yy} &= 137.0\\ \\mathrm{mm} \\; \n",
       "\\\\[10pt]\n",
       " i_{zz} &= 78.3\\ \\mathrm{mm} \\; \n",
       " &U &= 0.9 \\; \n",
       " &X &= 14.1 \\; \n",
       "\\\\[10pt]\n",
       " A &= 17400.0\\ \\mathrm{mm}^{2} \\; \n",
       " &I_{yy} &= 328000000.0\\ \\mathrm{mm}^{4} \\; \n",
       " &I_{zz} &= 107000000.0\\ \\mathrm{mm}^{4} \\; \n",
       "\\\\[10pt]\n",
       " \\pi &= 3.1 \\; \n",
       " &E &= 210.0\\ \\mathrm{GPa} \\; \n",
       " &G &= 81.0\\ \\mathrm{GPa} \\; \n",
       "\\\\[10pt]\n",
       " I_{zz} &= 107000000.0\\ \\mathrm{mm}^{4} \\; \n",
       " &I_{w} &= 2390000.0\\ \\mathrm{mm}^{6} \\; \n",
       " &I_{T} &= 2490000.0\\ \\mathrm{mm}^{4} \\; \n",
       "\\\\[10pt]\n",
       " \\gamma_{m_{0}} &= 1.0 \\; \n",
       " &\\gamma_{m_{1}} &= 1.0 \\;\n",
       "\\end{aligned}\n",
       "$"
      ],
      "text/plain": [
       "<IPython.core.display.Latex object>"
      ]
     },
     "metadata": {},
     "output_type": "display_data"
    }
   ],
   "source": [
    "%%render params 1 # EC3 Notation\n",
    "h = D\n",
    "b = B\n",
    "t_w = t\n",
    "t_f = T\n",
    "\n",
    "W_ply = S_xx\n",
    "W_plz = S_yy\n",
    "W_ely = Z_xx\n",
    "W_elz = Z_yy\n",
    "i_yy = r_xx\n",
    "i_zz = r_yy\n",
    "U = u\n",
    "X = x\n",
    "A = trial_section.A * 100*mm**2\n",
    "I_yy = trial_section.I_xx * 10000*mm**4\n",
    "I_zz = trial_section.I_yy * 10000*mm**4\n",
    "\n",
    "pi = 3.14159265359\n",
    "E = 210 * GPa\n",
    "G = 81 * GPa\n",
    "I_zz = trial_section.I_yy * 10000*mm**4\n",
    "I_w = trial_section.H *1000000 * mm**6\n",
    "I_T = trial_section.J * 10000 *mm**4\n",
    "gamma_m_0 = 1.0\n",
    "gamma_m_1 = 1.0"
   ]
  },
  {
   "cell_type": "code",
   "execution_count": 63,
   "metadata": {},
   "outputs": [
    {
     "data": {
      "text/latex": [
       "$\n",
       "\\begin{aligned}\n",
       "N_{Ed} &= 2.00\\ \\mathrm{MN} \\; \n",
       " &M_{yEd} &= 100.00\\ \\mathrm{kN} \\; \n",
       " &M_{zEd} &= 20.00\\ \\mathrm{kN} \\; \n",
       "\\\\[10pt]\n",
       " f_{y} &= 265.00\\ \\mathrm{MPa} \\; \n",
       " &E &= 210.00\\ \\mathrm{GPa} \\; \n",
       " &\\gamma_{m_{0}} &= 1.00 \\; \n",
       "\\\\[10pt]\n",
       " \\gamma_{m_{1}} &= 1.00 \\; \n",
       " &\\pi &= 3.14 \\;\n",
       "\\end{aligned}\n",
       "$"
      ],
      "text/plain": [
       "<IPython.core.display.Latex object>"
      ]
     },
     "metadata": {},
     "output_type": "display_data"
    }
   ],
   "source": [
    "%%render params 2 # ...TODO: check, incl. fy\n",
    "N_Ed = F_c\n",
    "M_yEd = M_x\n",
    "M_zEd = M_y\n",
    "f_y = p_y\n",
    "\n",
    "# --\n",
    "E = 210 * GPa\n",
    "gamma_m_0 = 1.0\n",
    "gamma_m_1 = 1.0\n",
    "pi = 3.14159265359"
   ]
  },
  {
   "cell_type": "markdown",
   "metadata": {},
   "source": [
    "### $M_{\\text{N,Rd}}$"
   ]
  },
  {
   "cell_type": "markdown",
   "metadata": {},
   "source": [
    "#### $N_{\\text{Ed}}$ vs $0.25N_{\\text{pl,Rd}}$ & $0.5h_{\\text{w}}t_{\\text{w}}f_{\\text{y}}$"
   ]
  },
  {
   "cell_type": "code",
   "execution_count": 64,
   "metadata": {},
   "outputs": [
    {
     "data": {
      "text/latex": [
       "$\n",
       "\\begin{aligned}\n",
       "N_{plRd} &= A \\cdot \\frac{ f_{y} }{ \\gamma_{m_{0}} }  = 17400.00\\ \\mathrm{mm}^{2} \\cdot \\frac{ 265.00\\ \\mathrm{MPa} }{ 1.00 } &= 4.61\\ \\mathrm{MN}  \n",
       "\\\\[10pt]\n",
       "h_{w} &= h - 2 \\cdot t_{f}  = 320.50\\ \\mathrm{mm} - 2 \\cdot 21.70\\ \\mathrm{mm} &= 277.10\\ \\mathrm{mm}  \n",
       "\\\\[10pt]\n",
       "N_{webaxial} &= h_{w} \\cdot t_{w} \\cdot \\frac{ f_{y} }{ \\gamma_{m_{0}} }  = 277.10\\ \\mathrm{mm} \\cdot 13.80\\ \\mathrm{mm} \\cdot \\frac{ 265.00\\ \\mathrm{MPa} }{ 1.00 } &= 1.01\\ \\mathrm{MN}  \n",
       "\\\\[10pt]\n",
       "N' &= \\operatorname{min} { \\left( 0.25 \\cdot N_{plRd} ,\\  0.5 \\cdot h_{w} \\cdot t_{w} \\cdot f_{y} \\right) }  = \\operatorname{min} { \\left( 0.25 \\cdot 4.61\\ \\mathrm{MN} ,\\  0.5 \\cdot 277.10\\ \\mathrm{mm} \\cdot 13.80\\ \\mathrm{mm} \\cdot 265.00\\ \\mathrm{MPa} \\right) } &= 506.68\\ \\mathrm{kN}  \n",
       "\\end{aligned}\n",
       "$"
      ],
      "text/plain": [
       "<IPython.core.display.Latex object>"
      ]
     },
     "metadata": {},
     "output_type": "display_data"
    }
   ],
   "source": [
    "%%render  2 # reduce NEd is less than the smaller of 0.25NplRd or half the web's plastic tension resistance\n",
    "N_plRd = A * f_y / gamma_m_0\n",
    "h_w = h - 2*t_f\n",
    "N_webaxial = h_w * t_w * f_y / gamma_m_0\n",
    "\n",
    "# ... safer\n",
    "# N_prime_prime_1 = 0.25 * N_plRd\n",
    "# N_prime_prime_2 = 0.5 * N_webaxial\n",
    "# # N_prime = min(N_prime_prime_1, N_prime_prime_2)\n",
    "\n",
    "# ... raw\n",
    "N_prime = min(0.25*N_plRd, 0.5*h_w*t_w*f_y)"
   ]
  },
  {
   "cell_type": "markdown",
   "metadata": {},
   "source": [
    "#### $n$, $a$, $M_{\\text{pl,y,Rd}}$ and $M_{\\text{pl,z,Rd}}$"
   ]
  },
  {
   "cell_type": "code",
   "execution_count": 65,
   "metadata": {},
   "outputs": [
    {
     "data": {
      "text/latex": [
       "$\n",
       "\\begin{aligned}\n",
       "n &= \\frac{ N_{Ed} }{ N_{plRd} }  = \\frac{ 2.000\\ \\mathrm{MN} }{ 4.611\\ \\mathrm{MN} } &= 0.434  \n",
       "\\\\[10pt]\n",
       "a &= \\frac{ A - 2 \\cdot b \\cdot t_{f} }{ A }  = \\frac{ 17400.000\\ \\mathrm{mm}^{2} - 2 \\cdot 309.200\\ \\mathrm{mm} \\cdot 21.700\\ \\mathrm{mm} }{ 17400.000\\ \\mathrm{mm}^{2} } &= 0.229 \\; \\;\\textrm{(📝 or ifelse for a<=0.5)}\n",
       "\\\\[10pt]\n",
       "M_{plyRd} &= W_{ply} \\cdot \\frac{ f_{y} }{ \\gamma_{m_{0}} }  = 2300000.000\\ \\mathrm{mm}^{3} \\cdot \\frac{ 265.000\\ \\mathrm{MPa} }{ 1.000 } &= 609.500\\ \\mathrm{kN} \\cdot \\mathrm{m}  \n",
       "\\\\[10pt]\n",
       "M_{plzRd} &= W_{plz} \\cdot \\frac{ f_{y} }{ \\gamma_{m_{0}} }  = 1050000.000\\ \\mathrm{mm}^{3} \\cdot \\frac{ 265.000\\ \\mathrm{MPa} }{ 1.000 } &= 278.250\\ \\mathrm{kN} \\cdot \\mathrm{m}  \n",
       "\\end{aligned}\n",
       "$"
      ],
      "text/plain": [
       "<IPython.core.display.Latex object>"
      ]
     },
     "metadata": {},
     "output_type": "display_data"
    }
   ],
   "source": [
    "%%render short 3\n",
    "n = N_Ed / N_plRd\n",
    "a = (A - 2 * b * t_f)/A # 📝 or ifelse for a<=0.5\n",
    "M_plyRd = W_ply * f_y / gamma_m_0\n",
    "M_plzRd = W_plz * f_y / gamma_m_0"
   ]
  },
  {
   "cell_type": "markdown",
   "metadata": {},
   "source": [
    "#### $M_{\\text{N,y,Rd}}$ and $M_{\\text{N,z,Rd}}$"
   ]
  },
  {
   "cell_type": "code",
   "execution_count": 66,
   "metadata": {},
   "outputs": [
    {
     "data": {
      "text/latex": [
       "$\n",
       "\\begin{aligned}\n",
       "&\\text{Since, } N_{Ed} \\geq N' \\rightarrow \\left( 2.00\\ \\mathrm{MN} \\geq 506.68\\ \\mathrm{kN} \\right) :   \\\\[10pt]\n",
       "M_{NyRd} &= M_{plyRd} \\cdot \\frac{ 1 - n }{ 1 - 0.5 \\cdot a }  = 609.50\\ \\mathrm{kN} \\cdot \\mathrm{m} \\cdot \\frac{ 1 - 0.43 }{ 1 - 0.5 \\cdot 0.23 } &= 389.71\\ \\mathrm{kN} \\cdot \\mathrm{m}  \n",
       "\\end{aligned}\n",
       "$"
      ],
      "text/plain": [
       "<IPython.core.display.Latex object>"
      ]
     },
     "metadata": {},
     "output_type": "display_data"
    }
   ],
   "source": [
    "%%render short 2 # \n",
    "if N_Ed < N_prime: M_NyRd = M_plyRd\n",
    "elif N_Ed >= N_prime: M_NyRd = M_plyRd * (1 - n)/(1 - 0.5*a)"
   ]
  },
  {
   "cell_type": "code",
   "execution_count": 67,
   "metadata": {},
   "outputs": [],
   "source": [
    "# %%render short 2 #! INCOMPLETE check logic for N_Ed > Nweb\n",
    "# # if N_Ed <= (h_w * t_w * f_y): M_NzRd = M_plzRd #! KeyError\n",
    "# if N_Ed < N_webaxial: M_NzRd = M_plzRd"
   ]
  },
  {
   "cell_type": "code",
   "execution_count": 68,
   "metadata": {},
   "outputs": [
    {
     "data": {
      "text/latex": [
       "$\n",
       "\\begin{aligned}\n",
       "&\\text{Since, } N_{Ed} \\geq N_{webaxial} \\rightarrow \\left( 2.00\\ \\mathrm{MN} \\geq 1.01\\ \\mathrm{MN} \\right) :   \\\\[10pt]\n",
       "\\mathrm{check}_{n_{a}} &= True \\; \n",
       "\\\\[10pt]\n",
       "&\\text{Since, } n \\gt a \\rightarrow \\left( 0.43 \\gt 0.23 \\right) :   \\\\[10pt]\n",
       "M_{NzRd} &= M_{plzRd} \\cdot \\left( 1 - \\left( \\frac{ n - a }{ 1 - a } \\right) ^{ 2 } \\right)  = 278.25\\ \\mathrm{kN} \\cdot \\mathrm{m} \\cdot \\left( 1 - \\left( \\frac{ 0.43 - 0.23 }{ 1 - 0.23 } \\right) ^{ 2 } \\right) &= 258.60\\ \\mathrm{kN} \\cdot \\mathrm{m}  \n",
       "\\end{aligned}\n",
       "$"
      ],
      "text/plain": [
       "<IPython.core.display.Latex object>"
      ]
     },
     "metadata": {},
     "output_type": "display_data"
    }
   ],
   "source": [
    "%%render short 2  #! INCOMPLETE check logic for N_Ed > Nweb and M_NzRd < MplRd as max. val.\n",
    "# # if N_Ed <= (h_w * t_w * f_y): M_NzRd = M_plzRd\n",
    "# M_NzRd = 1 # 🩹 hotfix for KeyError, quite weird...\n",
    "if N_Ed < N_webaxial: M_NzRd = M_plzRd \n",
    "elif N_Ed >= N_webaxial: check_n_a = True\n",
    "\n",
    "if n <= a: M_NzRd = M_plzRd\n",
    "elif n > a: M_NzRd = M_plzRd * (1 - ( (n-a)/(1-a) )**2)"
   ]
  },
  {
   "cell_type": "markdown",
   "metadata": {},
   "source": [
    "### $M_{\\text{b,Rd}}$"
   ]
  },
  {
   "cell_type": "markdown",
   "metadata": {},
   "source": [
    "#### $N_{\\text{Cry}}$ and $\\lambda_{\\text{y}}$"
   ]
  },
  {
   "cell_type": "code",
   "execution_count": 69,
   "metadata": {},
   "outputs": [
    {
     "data": {
      "text/latex": [
       "$\n",
       "\\begin{aligned}\n",
       "L_{Crz} &= 5.00\\ \\mathrm{m} \\; \\;\\textrm{(read off 📝)}\n",
       " &L_{Cry} &= 5.00\\ \\mathrm{m} \\;\n",
       "\\end{aligned}\n",
       "$"
      ],
      "text/plain": [
       "<IPython.core.display.Latex object>"
      ]
     },
     "metadata": {},
     "output_type": "display_data"
    }
   ],
   "source": [
    "%%render params 2\n",
    "# L_Cr = 5 * m # 📝  \n",
    "# L_Cry = 5 * m # 📝\n",
    "L_Crz = 5000 * mm # read off 📝\n",
    "\n",
    "L_Cry = 5000 * mm"
   ]
  },
  {
   "cell_type": "code",
   "execution_count": 70,
   "metadata": {},
   "outputs": [
    {
     "data": {
      "text/latex": [
       "$\n",
       "\\begin{aligned}\n",
       "N_{Cry} &= \\frac{ \\left( \\pi \\right) ^{ 2 } \\cdot E \\cdot I_{yy} }{ \\left( L_{Cry} \\right) ^{ 2 } }  = \\frac{ \\left( 3.14 \\right) ^{ 2 } \\cdot 210.00\\ \\mathrm{GPa} \\cdot 328000000.00\\ \\mathrm{mm}^{4} }{ \\left( 5.00\\ \\mathrm{m} \\right) ^{ 2 } } &= 27.19\\ \\mathrm{MN}  \n",
       "\\\\[10pt]\n",
       "\\lambda'_{y} &= \\left( \\frac{ A \\cdot f_{y} }{ N_{Cry} } \\right) ^{ 0.5 }  = \\left( \\frac{ 17400.00\\ \\mathrm{mm}^{2} \\cdot 265.00\\ \\mathrm{MPa} }{ 27.19\\ \\mathrm{MN} } \\right) ^{ 0.5 } &= 0.41  \n",
       "\\\\[10pt]\n",
       "\\mathrm{hoverb} &= \\frac{ h }{ b }  = \\frac{ 320.50\\ \\mathrm{mm} }{ 309.20\\ \\mathrm{mm} } &= 1.04  \n",
       "\\\\[10pt]\n",
       "t_{f} &= 21.70\\ \\mathrm{mm} \\; \n",
       "\\end{aligned}\n",
       "$"
      ],
      "text/plain": [
       "<IPython.core.display.Latex object>"
      ]
     },
     "metadata": {},
     "output_type": "display_data"
    }
   ],
   "source": [
    "%%render short 2\n",
    "N_Cry = (pi**2 * E * I_yy)/(L_Cry**2)\n",
    "lamb_prime_y = ( (A*f_y)/N_Cry )**0.5\n",
    "hoverb = h / b\n",
    "t_f"
   ]
  },
  {
   "cell_type": "markdown",
   "metadata": {},
   "source": [
    "### $\\Phi_{\\text{y}}$ and $\\chi_{\\text{y}}$"
   ]
  },
  {
   "cell_type": "code",
   "execution_count": 71,
   "metadata": {},
   "outputs": [
    {
     "data": {
      "text/latex": [
       "$\n",
       "\\begin{aligned}\n",
       "\\alpha &= 0.49 \\; \\;\\textrm{(📝)}\n",
       "\\\\[10pt]\n",
       "\\Phi_{y} &= 0.5 \\cdot \\left( 1 + \\alpha \\cdot \\left( \\lambda'_{y} - 0.2 \\right) + \\left( \\lambda'_{y} \\right) ^{ 2 } \\right)  = 0.5 \\cdot \\left( 1 + 0.49 \\cdot \\left( 0.41 - 0.2 \\right) + \\left( 0.41 \\right) ^{ 2 } \\right) &= 0.64  \n",
       "\\\\[10pt]\n",
       "\\chi_{y} &= \\frac{ 1 }{ \\Phi_{y} + \\left( \\left( \\Phi_{y} \\right) ^{ 2 } - \\left( \\lambda'_{y} \\right) ^{ 2 } \\right) ^{ 0.5 } }  = \\frac{ 1 }{ 0.64 + \\left( \\left( 0.64 \\right) ^{ 2 } - \\left( 0.41 \\right) ^{ 2 } \\right) ^{ 0.5 } } &= 0.89  \n",
       "\\end{aligned}\n",
       "$"
      ],
      "text/plain": [
       "<IPython.core.display.Latex object>"
      ]
     },
     "metadata": {},
     "output_type": "display_data"
    }
   ],
   "source": [
    "%%render short 2 # having selected alpha from ...\n",
    "alpha = 0.49 # 📝\n",
    "Phi_y = 0.5 * (1 + alpha*(lamb_prime_y -0.2) + lamb_prime_y**2)\n",
    "chi_y = 1 / (Phi_y + (Phi_y**2 - lamb_prime_y**2)**0.5)"
   ]
  },
  {
   "cell_type": "markdown",
   "metadata": {},
   "source": [
    "### $\\Phi_{\\text{z}}$ and $\\chi_{\\text{z}}$"
   ]
  },
  {
   "cell_type": "code",
   "execution_count": 72,
   "metadata": {},
   "outputs": [
    {
     "data": {
      "text/latex": [
       "$\n",
       "\\begin{aligned}\n",
       "N_{Crz} &= \\frac{ \\left( \\pi \\right) ^{ 2 } \\cdot E \\cdot I_{zz} }{ \\left( L_{Crz} \\right) ^{ 2 } }  = \\frac{ \\left( 3.14 \\right) ^{ 2 } \\cdot 210.00\\ \\mathrm{GPa} \\cdot 107000000.00\\ \\mathrm{mm}^{4} }{ \\left( 5.00\\ \\mathrm{m} \\right) ^{ 2 } } &= 8.87\\ \\mathrm{MN}  \n",
       "\\\\[10pt]\n",
       "\\lambda'_{z} &= \\left( \\frac{ A \\cdot f_{y} }{ N_{Crz} } \\right) ^{ 0.5 }  = \\left( \\frac{ 17400.00\\ \\mathrm{mm}^{2} \\cdot 265.00\\ \\mathrm{MPa} }{ 8.87\\ \\mathrm{MN} } \\right) ^{ 0.5 } &= 0.72  \n",
       "\\end{aligned}\n",
       "$"
      ],
      "text/plain": [
       "<IPython.core.display.Latex object>"
      ]
     },
     "metadata": {},
     "output_type": "display_data"
    }
   ],
   "source": [
    "%%render short 2\n",
    "N_Crz = (pi**2 * E * I_zz)/(L_Crz**2)\n",
    "lamb_prime_z = ( (A*f_y)/N_Crz )**0.5"
   ]
  },
  {
   "cell_type": "code",
   "execution_count": 73,
   "metadata": {},
   "outputs": [
    {
     "data": {
      "text/latex": [
       "$\n",
       "\\begin{aligned}\n",
       "\\alpha &= 0.49 \\; \\;\\textrm{(📝)}\n",
       "\\\\[10pt]\n",
       "\\Phi_{z} &= 0.5 \\cdot \\left( 1 + \\alpha \\cdot \\left( \\lambda'_{z} - 0.2 \\right) + \\left( \\lambda'_{z} \\right) ^{ 2 } \\right)  = 0.5 \\cdot \\left( 1 + 0.49 \\cdot \\left( 0.72 - 0.2 \\right) + \\left( 0.72 \\right) ^{ 2 } \\right) &= 0.89  \n",
       "\\\\[10pt]\n",
       "\\chi_{z} &= \\frac{ 1 }{ \\Phi_{z} + \\left( \\left( \\Phi_{z} \\right) ^{ 2 } - \\left( \\lambda'_{z} \\right) ^{ 2 } \\right) ^{ 0.5 } }  = \\frac{ 1 }{ 0.89 + \\left( \\left( 0.89 \\right) ^{ 2 } - \\left( 0.72 \\right) ^{ 2 } \\right) ^{ 0.5 } } &= 0.71  \n",
       "\\end{aligned}\n",
       "$"
      ],
      "text/plain": [
       "<IPython.core.display.Latex object>"
      ]
     },
     "metadata": {},
     "output_type": "display_data"
    }
   ],
   "source": [
    "%%render short 2 # having selected alpha from ...\n",
    "alpha = 0.49 # 📝\n",
    "Phi_z = 0.5 * (1 + alpha*(lamb_prime_z -0.2) + lamb_prime_z**2)\n",
    "chi_z = 1 / (Phi_z + (Phi_z**2 - lamb_prime_z**2)**0.5)"
   ]
  },
  {
   "cell_type": "markdown",
   "metadata": {},
   "source": [
    "#### $M_{\\text{y,Rk}}$"
   ]
  },
  {
   "cell_type": "code",
   "execution_count": 74,
   "metadata": {},
   "outputs": [
    {
     "data": {
      "text/latex": [
       "$\n",
       "\\begin{aligned}\n",
       "M_{yRk} &= W_{ply} \\cdot f_{y}  = 2300000.00\\ \\mathrm{mm}^{3} \\cdot 265.00\\ \\mathrm{MPa} &= 609.50\\ \\mathrm{kN} \\cdot \\mathrm{m}  \n",
       "\\end{aligned}\n",
       "$"
      ],
      "text/plain": [
       "<IPython.core.display.Latex object>"
      ]
     },
     "metadata": {},
     "output_type": "display_data"
    }
   ],
   "source": [
    "%%render short 2\n",
    "M_yRk = W_ply * f_y\n",
    "# M_cr = ( (pi**2 * E * I_zz)/L_Cry**2 ) * ( ((I_w)/(I_zz)) + ((G * I_T* L_Cry**2)/(E * I_zz * pi**2)) )**0.5\n"
   ]
  },
  {
   "cell_type": "code",
   "execution_count": 75,
   "metadata": {},
   "outputs": [
    {
     "data": {
      "text/latex": [
       "$\n",
       "\\begin{aligned}\n",
       "M_{cr} &= \\left( \\frac{ \\left( \\pi \\right) ^{ 2 } \\cdot E \\cdot I_{zz} }{ \\left( L_{Cry} \\right) ^{ 2 } } \\right) \\cdot \\left( \\left( \\frac{ I_{w} }{ I_{zz} } \\right) + \\left( \\frac{ G \\cdot I_{T} \\cdot \\left( L_{Cry} \\right) ^{ 2 } }{ E \\cdot I_{zz} \\cdot \\left( \\pi \\right) ^{ 2 } } \\right) \\right) ^{ 0.5 } \\\\&= \\left( \\frac{ \\left( 3.14 \\right) ^{ 2 } \\cdot 210.00\\ \\mathrm{GPa} \\cdot 107000000.00\\ \\mathrm{mm}^{4} }{ \\left( 5.00\\ \\mathrm{m} \\right) ^{ 2 } } \\right) \\cdot \\left( \\left( \\frac{ 2390000.00\\ \\mathrm{mm}^{6} }{ 107000000.00\\ \\mathrm{mm}^{4} } \\right) + \\left( \\frac{ 81.00\\ \\mathrm{GPa} \\cdot 2490000.00\\ \\mathrm{mm}^{4} \\cdot \\left( 5.00\\ \\mathrm{m} \\right) ^{ 2 } }{ 210.00\\ \\mathrm{GPa} \\cdot 107000000.00\\ \\mathrm{mm}^{4} \\cdot \\left( 3.14 \\right) ^{ 2 } } \\right) \\right) ^{ 0.5 } \\\\&= 1.34\\ \\mathrm{MN} \\cdot \\mathrm{m}  \\\\[10pt]\n",
       "\\end{aligned}\n",
       "$"
      ],
      "text/plain": [
       "<IPython.core.display.Latex object>"
      ]
     },
     "metadata": {},
     "output_type": "display_data"
    }
   ],
   "source": [
    "%%render long 2\n",
    "M_cr = ( (pi**2 * E * I_zz)/L_Cry**2 ) * ( ((I_w)/(I_zz)) + ((G * I_T* L_Cry**2)/(E * I_zz * pi**2)) )**0.5\n"
   ]
  },
  {
   "cell_type": "code",
   "execution_count": null,
   "metadata": {},
   "outputs": [],
   "source": [
    "%%render short 2\n",
    "lamb_LT = (W_ply * f_y / M_cr)**0.5\n"
   ]
  }
 ],
 "metadata": {
  "kernelspec": {
   "display_name": "tf",
   "language": "python",
   "name": "python3"
  },
  "language_info": {
   "codemirror_mode": {
    "name": "ipython",
    "version": 3
   },
   "file_extension": ".py",
   "mimetype": "text/x-python",
   "name": "python",
   "nbconvert_exporter": "python",
   "pygments_lexer": "ipython3",
   "version": "3.12.2"
  }
 },
 "nbformat": 4,
 "nbformat_minor": 2
}
