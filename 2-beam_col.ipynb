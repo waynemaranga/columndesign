{
 "cells": [
  {
   "cell_type": "markdown",
   "metadata": {},
   "source": [
    "# Beam-Column"
   ]
  },
  {
   "cell_type": "markdown",
   "metadata": {},
   "source": [
    "TODO: Uniaxial vs Biaxial"
   ]
  },
  {
   "cell_type": "markdown",
   "metadata": {},
   "source": [
    "## Setup"
   ]
  },
  {
   "cell_type": "markdown",
   "metadata": {},
   "source": [
    "### Imports & Env. Settings"
   ]
  },
  {
   "cell_type": "code",
   "execution_count": 1,
   "metadata": {},
   "outputs": [],
   "source": [
    "# Imports\n",
    "import handcalcs # https://github.com/connorferster/handcalcs/wiki\n",
    "from handcalcs import render # https://github.com/connorferster/handcalcs?tab=readme-ov-file#basic-usage-1-as-a-jupyter-cell-magic-render\n",
    "import forallpeople as si # https://connorferster.github.io/forallpeople/basic_usage.html\n",
    "from modules.section import UniversalColumn\n",
    "from modules.strength import design_strength"
   ]
  },
  {
   "cell_type": "code",
   "execution_count": 2,
   "metadata": {},
   "outputs": [],
   "source": [
    "# Environment config.\n",
    "# --> SI units structural env ( https://connorferster.github.io/forallpeople/environments.html#Environments )\n",
    "si.environment(\"structural\", top_level=True) # load SI units for structural eng. into the environment, top_level=True defines them in the top-level namespace (as vars)\n",
    "# -> Handcalcs environment settings for TeX rendering\n",
    "handcalcs.set_option(\"latex_block_start\", \"$\")\n",
    "handcalcs.set_option(\"latex_block_end\", \"$\")\n",
    "handcalcs.set_option(\"math_environment_start\", \"aligned\")\n",
    "handcalcs.set_option(\"math_environment_end\", \"aligned\")"
   ]
  },
  {
   "cell_type": "markdown",
   "metadata": {},
   "source": [
    "### Question Data"
   ]
  },
  {
   "cell_type": "code",
   "execution_count": 3,
   "metadata": {},
   "outputs": [
    {
     "data": {
      "text/latex": [
       "$\n",
       "\\begin{aligned}\n",
       "F_{c} &= 2.00\\ \\mathrm{MN} \\; \n",
       " &M_{x} &= 100.00\\ \\mathrm{kN} \\cdot \\mathrm{m} \\; \n",
       " &M_{y} &= 20.00\\ \\mathrm{kN} \\cdot \\mathrm{m} \\; \n",
       "\\\\[10pt]\n",
       " L &= 10.00\\ \\mathrm{m} \\; \n",
       " &p_{y} &= 265.00\\ \\mathrm{MPa} \\; \\;\\textrm{(📝)}\n",
       "\\end{aligned}\n",
       "$"
      ],
      "text/plain": [
       "<IPython.core.display.Latex object>"
      ]
     },
     "metadata": {},
     "output_type": "display_data"
    }
   ],
   "source": [
    "%%render params 2 # Loads/Moments, lengths, qn. params\n",
    "# Actions\n",
    "F_c = 2000 * kN\n",
    "M_x = 100 * kN * m\n",
    "M_y = 20 * kN * m\n",
    "\n",
    "# Dimensions\n",
    "L = 10 * m\n",
    "\n",
    "# Strengths\n",
    "p_y = 265 * MPa # 📝"
   ]
  },
  {
   "cell_type": "markdown",
   "metadata": {},
   "source": [
    "### Trial Section"
   ]
  },
  {
   "cell_type": "code",
   "execution_count": 4,
   "metadata": {},
   "outputs": [],
   "source": [
    "trial_section = UniversalColumn.create(designation=\"305x305x118\")\n",
    "# ... UB not implemented, should be in rework of sections module"
   ]
  },
  {
   "cell_type": "code",
   "execution_count": 5,
   "metadata": {},
   "outputs": [
    {
     "data": {
      "text/latex": [
       "$\n",
       "\\begin{aligned}\n",
       "D &= 314.5\\ \\mathrm{mm} \\; \n",
       " &B &= 307.4\\ \\mathrm{mm} \\; \n",
       " &d &= 246.7\\ \\mathrm{mm} \\; \n",
       "\\\\[10pt]\n",
       " t &= 12.0\\ \\mathrm{mm} \\; \n",
       " &T &= 18.7\\ \\mathrm{mm} \\; \n",
       " &S_{xx} &= 1960000.0\\ \\mathrm{mm}^{3} \\; \n",
       "\\\\[10pt]\n",
       " S_{yy} &= 895000.0\\ \\mathrm{mm}^{3} \\; \n",
       " &Z_{xx} &= 1760000.0\\ \\mathrm{mm}^{3} \\; \n",
       " &Z_{yy} &= 589000.0\\ \\mathrm{mm}^{3} \\; \n",
       "\\\\[10pt]\n",
       " r_{xx} &= 136.0\\ \\mathrm{mm} \\; \n",
       " &r_{yy} &= 77.7\\ \\mathrm{mm} \\; \n",
       " &u &= 0.9 \\; \n",
       "\\\\[10pt]\n",
       " x &= 16.1 \\; \n",
       " &A &= 15000.0\\ \\mathrm{mm}^{2} \\;\n",
       "\\end{aligned}\n",
       "$"
      ],
      "text/plain": [
       "<IPython.core.display.Latex object>"
      ]
     },
     "metadata": {},
     "output_type": "display_data"
    }
   ],
   "source": [
    "%%render params 1 # BS Notation\n",
    "D = trial_section.D * mm\n",
    "B = trial_section.B * mm\n",
    "d = trial_section.d * mm\n",
    "t = trial_section.t * mm\n",
    "T = trial_section.T * mm\n",
    "\n",
    "S_xx = trial_section.S_xx * 1000*mm**3\n",
    "S_yy = trial_section.S_yy * 1000*mm**3\n",
    "Z_xx = trial_section.Z_xx * 1000*mm**3\n",
    "Z_yy = trial_section.Z_yy * 1000*mm**3\n",
    "r_xx = trial_section.r_xx * 10*mm\n",
    "r_yy = trial_section.r_yy * 10*mm\n",
    "u = trial_section.u\n",
    "x = trial_section.x\n",
    "A = trial_section.A * 100*mm**2"
   ]
  },
  {
   "cell_type": "markdown",
   "metadata": {},
   "source": [
    "<!-- ### Classification -->"
   ]
  },
  {
   "cell_type": "markdown",
   "metadata": {},
   "source": [
    "### Effective Length $L_{\\text{E}}$ / $L_{\\text{Cr}}$"
   ]
  },
  {
   "cell_type": "markdown",
   "metadata": {},
   "source": [
    "Table 22 BS 5950\n",
    "_ENV 1993-1-1:2004_"
   ]
  },
  {
   "cell_type": "code",
   "execution_count": 6,
   "metadata": {},
   "outputs": [
    {
     "data": {
      "text/latex": [
       "$\n",
       "\\begin{aligned}\n",
       "L_{E} &= 0.7 \\cdot L \\\\&= 0.7 \\cdot 10.00\\ \\mathrm{m} \\\\&= 7.00\\ \\mathrm{m} \\; \\;\\textrm{(📝)}\\\\[10pt]\n",
       "\\end{aligned}\n",
       "$"
      ],
      "text/plain": [
       "<IPython.core.display.Latex object>"
      ]
     },
     "metadata": {},
     "output_type": "display_data"
    }
   ],
   "source": [
    "%%render short 2 # Uncomment correct value, defaults to 1.0 L\n",
    "L_E = 0.7 * L # 📝\n",
    "# L_E = 0.85 * L\n",
    "# L_E = 1.0 * L\n",
    "# L_E = 1.2 * L\n",
    "# L_E = 1.5 * L\n",
    "# L_E = 2.0 * L\n",
    "\n",
    "# L_Cr = L_E"
   ]
  },
  {
   "cell_type": "markdown",
   "metadata": {},
   "source": [
    "## BS 5950"
   ]
  },
  {
   "cell_type": "markdown",
   "metadata": {},
   "source": [
    "### Classification"
   ]
  },
  {
   "cell_type": "code",
   "execution_count": 7,
   "metadata": {},
   "outputs": [],
   "source": [
    "# Strength class (Defaults to S275) Table 9 BS\n",
    "# thickest = max(trial_section.t, trial_section.T)\n",
    "# p_yd = design_strength(thickness=thickest, steel_grade=275)\n",
    "# print(f\"Thickness: {thickest} mm\")\n",
    "# print(f\"Design strength: {p_yd} MPa\")"
   ]
  },
  {
   "cell_type": "code",
   "execution_count": 8,
   "metadata": {},
   "outputs": [],
   "source": [
    "# Section Class Table 11 BS"
   ]
  },
  {
   "cell_type": "markdown",
   "metadata": {},
   "source": [
    "### Local Capacity"
   ]
  },
  {
   "cell_type": "code",
   "execution_count": 9,
   "metadata": {},
   "outputs": [
    {
     "data": {
      "text/latex": [
       "$\n",
       "\\begin{aligned}\n",
       "P_{c} &= A \\cdot p_{y}  = 15000.000\\ \\mathrm{mm}^{2} \\cdot 265.000\\ \\mathrm{MPa} &= 3.975\\ \\mathrm{MN}  \n",
       "\\\\[10pt]\n",
       "M_{cx} &= S_{xx} \\cdot p_{y}  = 1960000.000\\ \\mathrm{mm}^{3} \\cdot 265.000\\ \\mathrm{MPa} &= 519.400\\ \\mathrm{kN} \\cdot \\mathrm{m}  \n",
       "\\\\[10pt]\n",
       "M_{cy} &= S_{yy} \\cdot p_{y}  = 895000.000\\ \\mathrm{mm}^{3} \\cdot 265.000\\ \\mathrm{MPa} &= 237.175\\ \\mathrm{kN} \\cdot \\mathrm{m}  \n",
       "\\end{aligned}\n",
       "$"
      ],
      "text/plain": [
       "<IPython.core.display.Latex object>"
      ]
     },
     "metadata": {},
     "output_type": "display_data"
    }
   ],
   "source": [
    "%%render short 3 # Capacities Pc, Mcx and Mcy\n",
    "P_c = A * p_y\n",
    "M_cx = S_xx * p_y\n",
    "M_cy = S_yy * p_y"
   ]
  },
  {
   "cell_type": "code",
   "execution_count": 10,
   "metadata": {},
   "outputs": [
    {
     "data": {
      "text/latex": [
       "$\n",
       "\\begin{aligned}\n",
       "\\mathrm{util} &= \\frac{ F_{c} }{ P_{c} } + \\frac{ M_{x} }{ M_{cx} } + \\frac{ M_{y} }{ M_{cy} }  = \\frac{ 2.00\\ \\mathrm{MN} }{ 3.98\\ \\mathrm{MN} } + \\frac{ 100.00\\ \\mathrm{kN} \\cdot \\mathrm{m} }{ 519.40\\ \\mathrm{kN} \\cdot \\mathrm{m} } + \\frac{ 20.00\\ \\mathrm{kN} \\cdot \\mathrm{m} }{ 237.18\\ \\mathrm{kN} \\cdot \\mathrm{m} } &= 0.78  \n",
       "\\\\[10pt]\n",
       "&\\text{Since, } \\mathrm{util} \\lt 1 \\rightarrow \\left( 0.78 \\lt 1 \\right) :   \\\\[10pt]\n",
       "\\mathrm{LocalCapacity} &= \\mathrm{OK✅} \\; \n",
       "\\end{aligned}\n",
       "$"
      ],
      "text/plain": [
       "<IPython.core.display.Latex object>"
      ]
     },
     "metadata": {},
     "output_type": "display_data"
    }
   ],
   "source": [
    "%%render short 2 # Local Capacity Check, Cl. 4.8.3.2\n",
    "# util is utilisation ratio\n",
    "util = F_c/P_c + M_x/M_cx + M_y/M_cy\n",
    "# util = (F_c/P_c) + (M_x/M_cx) + (M_y/M_cy)\n",
    "\n",
    "if util < 1: LocalCapacity = \"OK✅\"\n",
    "elif util >= 1: LocalCapacity = \"INADEQUATE🚫\"\n",
    "\n",
    "# ... raw\n",
    "# if F_c/P_c + M_x/M_cx + M_y/M_cy < 1: LocalCapacity = \"OK✅\"\n",
    "# elif F_c/P_c + M_x/M_cx + M_y/M_cy >= 1: LocalCapacity = \"INADEQUATE🚫\""
   ]
  },
  {
   "cell_type": "markdown",
   "metadata": {},
   "source": [
    "### In-Plane (Flexural) Buckling"
   ]
  },
  {
   "cell_type": "markdown",
   "metadata": {},
   "source": [
    "#### $\\lambda$, Strut Curve and $p_{\\text{cx}}$ & $p_{\\text{cy}}$"
   ]
  },
  {
   "cell_type": "code",
   "execution_count": 11,
   "metadata": {},
   "outputs": [
    {
     "data": {
      "text/latex": [
       "$\n",
       "\\begin{aligned}\n",
       "L_{E} &= 7.00\\ \\mathrm{m} \\; \n",
       " &r_{yy} &= 77.70\\ \\mathrm{mm} \\; \n",
       " &\\lambda &= 90.09 \\; \n",
       "\\\\[10pt]\n",
       " p_{c} &= 139.00\\ \\mathrm{MPa} \\; \\;\\textrm{(📝)}\n",
       "\\end{aligned}\n",
       "$"
      ],
      "text/plain": [
       "<IPython.core.display.Latex object>"
      ]
     },
     "metadata": {},
     "output_type": "display_data"
    }
   ],
   "source": [
    "%%render params 2\n",
    "L_E\n",
    "r_yy\n",
    "lamb = L_E / r_yy\n",
    "\n",
    "# ... read off pc from table 24\n",
    "p_c = 139 * MPa # 📝"
   ]
  },
  {
   "cell_type": "markdown",
   "metadata": {},
   "source": [
    "#### $P_{\\text{c}}$"
   ]
  },
  {
   "cell_type": "code",
   "execution_count": 12,
   "metadata": {},
   "outputs": [
    {
     "data": {
      "text/latex": [
       "$\n",
       "\\begin{aligned}\n",
       "P_{c} &= A \\cdot p_{c}  = 15000.000\\ \\mathrm{mm}^{2} \\cdot 139.000\\ \\mathrm{MPa} &= 2.085\\ \\mathrm{MN}  \n",
       "\\end{aligned}\n",
       "$"
      ],
      "text/plain": [
       "<IPython.core.display.Latex object>"
      ]
     },
     "metadata": {},
     "output_type": "display_data"
    }
   ],
   "source": [
    "%%render short 3\n",
    "P_c = A * p_c"
   ]
  },
  {
   "cell_type": "markdown",
   "metadata": {},
   "source": [
    "#### $m$"
   ]
  },
  {
   "cell_type": "code",
   "execution_count": 13,
   "metadata": {},
   "outputs": [
    {
     "data": {
      "text/latex": [
       "$\n",
       "\\begin{aligned}\n",
       "m &= 1.0 \\; \\;\\textrm{(📝)}\n",
       " &m_{x} &= 1.0 \\; \\;\\textrm{(📝)}\n",
       " &m_{y} &= 1.0 \\; \\;\\textrm{(📝)}\n",
       "\\\\[10pt]\n",
       "\\end{aligned}\n",
       "$"
      ],
      "text/plain": [
       "<IPython.core.display.Latex object>"
      ]
     },
     "metadata": {},
     "output_type": "display_data"
    }
   ],
   "source": [
    "%%render params 2 # r.... defaults to 1\n",
    "m = 1.0 # 📝\n",
    "m_x = m # 📝\n",
    "m_y = m # 📝"
   ]
  },
  {
   "cell_type": "markdown",
   "metadata": {},
   "source": [
    "#### $M_{\\text{cx}}$ and $M_{\\text{cy}}$"
   ]
  },
  {
   "cell_type": "code",
   "execution_count": 14,
   "metadata": {},
   "outputs": [
    {
     "data": {
      "text/latex": [
       "$\n",
       "\\begin{aligned}\n",
       "M_{cx_{ip}} &= p_{y} \\cdot Z_{xx}  = 265.00\\ \\mathrm{MPa} \\cdot 1760000.00\\ \\mathrm{mm}^{3} &= 466.40\\ \\mathrm{kN} \\cdot \\mathrm{m}  \n",
       "\\\\[10pt]\n",
       "M_{cy_{ip}} &= p_{y} \\cdot Z_{yy}  = 265.00\\ \\mathrm{MPa} \\cdot 589000.00\\ \\mathrm{mm}^{3} &= 156.09\\ \\mathrm{kN} \\cdot \\mathrm{m}  \n",
       "\\end{aligned}\n",
       "$"
      ],
      "text/plain": [
       "<IPython.core.display.Latex object>"
      ]
     },
     "metadata": {},
     "output_type": "display_data"
    }
   ],
   "source": [
    "%%render short 2 # unnec. for check; check calcs. products\n",
    "# M_cx_ip viz. in-plane, != M_cx (local) i.e plastic vs elastic moduli\n",
    "M_cx_ip = p_y * Z_xx\n",
    "M_cy_ip = p_y * Z_yy"
   ]
  },
  {
   "cell_type": "markdown",
   "metadata": {},
   "source": [
    "#### Check"
   ]
  },
  {
   "cell_type": "code",
   "execution_count": 15,
   "metadata": {},
   "outputs": [
    {
     "data": {
      "text/latex": [
       "$\n",
       "\\begin{aligned}\n",
       "\\mathrm{util}_{ipb} &= \\frac{ F_{c} }{ P_{c} } + \\frac{ m_{x} \\cdot M_{x} }{ p_{y} \\cdot Z_{xx} } + \\frac{ m_{y} \\cdot M_{y} }{ p_{y} \\cdot Z_{yy} }  = \\frac{ 2.00\\ \\mathrm{MN} }{ 2.08\\ \\mathrm{MN} } + \\frac{ 1.00 \\cdot 100.00\\ \\mathrm{kN} \\cdot \\mathrm{m} }{ 265.00\\ \\mathrm{MPa} \\cdot 1760000.00\\ \\mathrm{mm}^{3} } + \\frac{ 1.00 \\cdot 20.00\\ \\mathrm{kN} \\cdot \\mathrm{m} }{ 265.00\\ \\mathrm{MPa} \\cdot 589000.00\\ \\mathrm{mm}^{3} } &= 1.30  \n",
       "\\\\[10pt]\n",
       "&\\text{Since, } \\mathrm{util}_{ipb} \\geq 1 \\rightarrow \\left( 1.30 \\geq 1 \\right) :   \\\\[10pt]\n",
       "\\mathrm{InPlaneBucklingCapacity} &= \\mathrm{INADEQUATE🚫} \\; \n",
       "\\end{aligned}\n",
       "$"
      ],
      "text/plain": [
       "<IPython.core.display.Latex object>"
      ]
     },
     "metadata": {},
     "output_type": "display_data"
    }
   ],
   "source": [
    "%%render short 2 # In-Plane Buckling Check, Cl. 4.\n",
    "# util_ipb is utilisation ratio for in-plane buckling\n",
    "util_ipb = F_c/P_c + (m_x*M_x)/(p_y*Z_xx) + (m_y*M_y)/(p_y*Z_yy)\n",
    "# util_ipb = (F_c/P_c) + ((m_x*M_x)/(p_y*Z_xx)) + ((m_y*M_y)/(p_y*Z_yy))\n",
    "\n",
    "if util_ipb < 1: InPlaneBucklingCapacity = \"OK✅\"\n",
    "elif util_ipb >= 1: InPlaneBucklingCapacity = \"INADEQUATE🚫\"\n",
    "\n",
    "# ... raw\n",
    "# if F_c/P_c + (m_x*M_x)/(p_y*Z_xx) + (m_y*M_y)/(p_y*Z_yy) < 1: InPlaneBucklingCapacity = \"OK✅\"\n",
    "# elif F_c/P_c + M_x/(p_y*Z_xx) + M_y/(p_y*Z_yy) >= 1: InPlaneBucklingCapacity = \"INADEQUATE🚫\""
   ]
  },
  {
   "cell_type": "markdown",
   "metadata": {},
   "source": [
    "### Lateral-Torsional Buckling"
   ]
  },
  {
   "cell_type": "markdown",
   "metadata": {},
   "source": [
    "#### $\\nu$ and $\\lambda_{\\text{LT}}$"
   ]
  },
  {
   "cell_type": "code",
   "execution_count": 16,
   "metadata": {},
   "outputs": [
    {
     "data": {
      "text/latex": [
       "$\n",
       "\\begin{aligned}\n",
       "\\beta &= 1.00 \\; \n",
       " &u &= 0.85 \\;\n",
       "\\end{aligned}\n",
       "$"
      ],
      "text/plain": [
       "<IPython.core.display.Latex object>"
      ]
     },
     "metadata": {},
     "output_type": "display_data"
    }
   ],
   "source": [
    "%%render params 2\n",
    "beta = 1.0 \n",
    "u"
   ]
  },
  {
   "cell_type": "code",
   "execution_count": 17,
   "metadata": {},
   "outputs": [
    {
     "data": {
      "text/latex": [
       "$\n",
       "\\begin{aligned}\n",
       "\\nu &= \\frac{ 1 }{ \\left( 1 + 0.05 \\cdot \\left( \\frac{ \\lambda }{ x } \\right) ^{ 2 } \\right) ^{ 0.25 } }  = \\frac{ 1 }{ \\left( 1 + 0.05 \\cdot \\left( \\frac{ 90.090 }{ 16.100 } \\right) ^{ 2 } \\right) ^{ 0.25 } } &= 0.790  \n",
       "\\\\[10pt]\n",
       "\\lambda_{LT} &= u \\cdot \\nu \\cdot \\lambda \\cdot \\left( \\beta \\right) ^{ 0.5 }  = 0.852 \\cdot 0.790 \\cdot 90.090 \\cdot \\left( 1.000 \\right) ^{ 0.5 } &= 60.649  \n",
       "\\end{aligned}\n",
       "$"
      ],
      "text/plain": [
       "<IPython.core.display.Latex object>"
      ]
     },
     "metadata": {},
     "output_type": "display_data"
    }
   ],
   "source": [
    "%%render short 3\n",
    "nu = 1/( (1 + 0.05 * (lamb/x)**2)**(0.25) )\n",
    "lamb_LT = u * nu * lamb * beta**0.5"
   ]
  },
  {
   "cell_type": "markdown",
   "metadata": {},
   "source": [
    "#### $p_{\\text{b}}$"
   ]
  },
  {
   "cell_type": "code",
   "execution_count": 18,
   "metadata": {},
   "outputs": [
    {
     "data": {
      "text/latex": [
       "$\n",
       "\\begin{aligned}\n",
       "p_{b} &= 196.00\\ \\mathrm{MPa} \\; \\;\\textrm{(📝)}\n",
       "\\end{aligned}\n",
       "$"
      ],
      "text/plain": [
       "<IPython.core.display.Latex object>"
      ]
     },
     "metadata": {},
     "output_type": "display_data"
    }
   ],
   "source": [
    "%%render params 2\n",
    "p_b = 196 * MPa # 📝"
   ]
  },
  {
   "cell_type": "markdown",
   "metadata": {},
   "source": [
    "#### $m_{\\text{LT}}$ and $M_{\\text{LT}}$"
   ]
  },
  {
   "cell_type": "code",
   "execution_count": 19,
   "metadata": {},
   "outputs": [
    {
     "data": {
      "text/latex": [
       "$\n",
       "\\begin{aligned}\n",
       "m_{LT} &= 1.00 \\; \\;\\textrm{(📝)}\n",
       "\\\\[10pt]\n",
       "M_{LT} &= 100.00\\ \\mathrm{kN} \\cdot \\mathrm{m} \\; \n",
       "\\end{aligned}\n",
       "$"
      ],
      "text/plain": [
       "<IPython.core.display.Latex object>"
      ]
     },
     "metadata": {},
     "output_type": "display_data"
    }
   ],
   "source": [
    "%%render params 2 # m_LT read from table 18; M_LT is either Mx or max(Mx, My)\n",
    "m_LT = 1.0 # 📝\n",
    "M_LT = M_x\n",
    "# M_LT = max(M_x, M_y)"
   ]
  },
  {
   "cell_type": "markdown",
   "metadata": {},
   "source": [
    "#### $M_{\\text{b}}$"
   ]
  },
  {
   "cell_type": "code",
   "execution_count": 20,
   "metadata": {},
   "outputs": [
    {
     "data": {
      "text/latex": [
       "$\n",
       "\\begin{aligned}\n",
       "M_{b} &= S_{xx} \\cdot p_{b}  = 1960000.00\\ \\mathrm{mm}^{3} \\cdot 196.00\\ \\mathrm{MPa} &= 384.16\\ \\mathrm{kN} \\cdot \\mathrm{m}  \n",
       "\\end{aligned}\n",
       "$"
      ],
      "text/plain": [
       "<IPython.core.display.Latex object>"
      ]
     },
     "metadata": {},
     "output_type": "display_data"
    }
   ],
   "source": [
    "%%render short 2\n",
    "M_b = S_xx * p_b"
   ]
  },
  {
   "cell_type": "markdown",
   "metadata": {},
   "source": [
    "### Check..."
   ]
  },
  {
   "cell_type": "code",
   "execution_count": 21,
   "metadata": {},
   "outputs": [
    {
     "data": {
      "text/latex": [
       "$\n",
       "\\begin{aligned}\n",
       "\\mathrm{util}_{ltb} &= \\frac{ F_{c} }{ P_{c} } + \\frac{ m_{LT} \\cdot M_{LT} }{ M_{b} } + \\frac{ M_{y} }{ p_{y} \\cdot Z_{yy} }  = \\frac{ 2.00\\ \\mathrm{MN} }{ 2.08\\ \\mathrm{MN} } + \\frac{ 1.00 \\cdot 100.00\\ \\mathrm{kN} \\cdot \\mathrm{m} }{ 384.16\\ \\mathrm{kN} \\cdot \\mathrm{m} } + \\frac{ 20.00\\ \\mathrm{kN} \\cdot \\mathrm{m} }{ 265.00\\ \\mathrm{MPa} \\cdot 589000.00\\ \\mathrm{mm}^{3} } &= 1.35  \n",
       "\\\\[10pt]\n",
       "&\\text{Since, } \\mathrm{util}_{ltb} \\geq 1 \\rightarrow \\left( 1.35 \\geq 1 \\right) :   \\\\[10pt]\n",
       "\\mathrm{LTBucklingCapacity} &= \\mathrm{INADEQUATE🚫} \\; \n",
       "\\end{aligned}\n",
       "$"
      ],
      "text/plain": [
       "<IPython.core.display.Latex object>"
      ]
     },
     "metadata": {},
     "output_type": "display_data"
    }
   ],
   "source": [
    "%%render short 2 # LTB Capacity Check, Cl. 4.8.3.2\n",
    "# util_ltb is utilisation ratio\n",
    "util_ltb = F_c/P_c + (m_LT*M_LT)/M_b + M_y/(p_y*Z_yy)\n",
    "# util_ltb = (F_c/P_c) + ((m_LT*M_LT)/M_b) + (M_y/(p_y*Z_yy))\n",
    "\n",
    "if util_ltb < 1: LTBucklingCapacity = \"OK✅\"\n",
    "elif util_ltb >= 1: LTBucklingCapacity = \"INADEQUATE🚫\"\n",
    "\n",
    "# ... raw\n",
    "# if F_c/P_c + (m_LT*M_LT)/M_b + M_y/(p_y*Z_yy)< 1: LTBucklingCapacity = \"OK✅\"\n",
    "# elif F_c/P_c + (m_LT*M_LT)/M_b + M_y/(p_y*Z_yy) >= 1: LTBucklingCapacity = \"INADEQUATE🚫\""
   ]
  },
  {
   "cell_type": "markdown",
   "metadata": {},
   "source": [
    "## Eurocode 3"
   ]
  },
  {
   "cell_type": "markdown",
   "metadata": {},
   "source": [
    "### Params"
   ]
  },
  {
   "cell_type": "code",
   "execution_count": 22,
   "metadata": {},
   "outputs": [
    {
     "data": {
      "text/latex": [
       "$\n",
       "\\begin{aligned}\n",
       "h &= 314.5\\ \\mathrm{mm} \\; \n",
       " &b &= 307.4\\ \\mathrm{mm} \\; \n",
       " &t_{w} &= 12.0\\ \\mathrm{mm} \\; \n",
       "\\\\[10pt]\n",
       " t_{f} &= 18.7\\ \\mathrm{mm} \\; \n",
       " &W_{ply} &= 1960000.0\\ \\mathrm{mm}^{3} \\; \n",
       " &W_{plz} &= 895000.0\\ \\mathrm{mm}^{3} \\; \n",
       "\\\\[10pt]\n",
       " W_{ely} &= 1760000.0\\ \\mathrm{mm}^{3} \\; \n",
       " &W_{elz} &= 589000.0\\ \\mathrm{mm}^{3} \\; \n",
       " &i_{yy} &= 136.0\\ \\mathrm{mm} \\; \n",
       "\\\\[10pt]\n",
       " i_{zz} &= 77.7\\ \\mathrm{mm} \\; \n",
       " &U &= 0.9 \\; \n",
       " &X &= 16.1 \\; \n",
       "\\\\[10pt]\n",
       " A &= 15000.0\\ \\mathrm{mm}^{2} \\; \n",
       " &I_{yy} &= 277000000.0\\ \\mathrm{mm}^{4} \\; \n",
       " &I_{zz} &= 90600000.0\\ \\mathrm{mm}^{4} \\; \n",
       "\\\\[10pt]\n",
       "\\end{aligned}\n",
       "$"
      ],
      "text/plain": [
       "<IPython.core.display.Latex object>"
      ]
     },
     "metadata": {},
     "output_type": "display_data"
    }
   ],
   "source": [
    "%%render params 1 # EC3 Notation\n",
    "h = D\n",
    "b = B\n",
    "t_w = t\n",
    "t_f = T\n",
    "\n",
    "W_ply = S_xx\n",
    "W_plz = S_yy\n",
    "W_ely = Z_xx\n",
    "W_elz = Z_yy\n",
    "i_yy = r_xx\n",
    "i_zz = r_yy\n",
    "U = u\n",
    "X = x\n",
    "A = trial_section.A * 100*mm**2\n",
    "I_yy = trial_section.I_xx * 10000*mm**4\n",
    "I_zz = trial_section.I_yy * 10000*mm**4"
   ]
  },
  {
   "cell_type": "code",
   "execution_count": 23,
   "metadata": {},
   "outputs": [
    {
     "data": {
      "text/latex": [
       "$\n",
       "\\begin{aligned}\n",
       "N_{Ed} &= 2.00\\ \\mathrm{MN} \\; \n",
       " &M_{yEd} &= 100.00\\ \\mathrm{kN} \\cdot \\mathrm{m} \\; \n",
       " &M_{zEd} &= 20.00\\ \\mathrm{kN} \\cdot \\mathrm{m} \\; \n",
       "\\\\[10pt]\n",
       " f_{y} &= 265.00\\ \\mathrm{MPa} \\; \n",
       " &E &= 210.00\\ \\mathrm{GPa} \\; \n",
       " &\\gamma_{m_{0}} &= 1.00 \\; \n",
       "\\\\[10pt]\n",
       " \\gamma_{m_{1}} &= 1.00 \\; \n",
       " &\\pi &= 3.14 \\;\n",
       "\\end{aligned}\n",
       "$"
      ],
      "text/plain": [
       "<IPython.core.display.Latex object>"
      ]
     },
     "metadata": {},
     "output_type": "display_data"
    }
   ],
   "source": [
    "%%render params 2 # ...TODO: check, incl. fy\n",
    "N_Ed = F_c\n",
    "M_yEd = M_x\n",
    "M_zEd = M_y\n",
    "f_y = p_y\n",
    "\n",
    "# --\n",
    "E = 210 * GPa\n",
    "gamma_m_0 = 1.0\n",
    "gamma_m_1 = 1.0\n",
    "pi = 3.14159265359"
   ]
  },
  {
   "cell_type": "markdown",
   "metadata": {},
   "source": [
    "### $M_{\\text{N,Rd}}$"
   ]
  },
  {
   "cell_type": "markdown",
   "metadata": {},
   "source": [
    "#### $N_{\\text{Ed}}$ vs $0.25N_{\\text{pl,Rd}}$ & $0.5h_{\\text{w}}t_{\\text{w}}f_{\\text{y}}$"
   ]
  },
  {
   "cell_type": "code",
   "execution_count": 24,
   "metadata": {},
   "outputs": [
    {
     "data": {
      "text/latex": [
       "$\n",
       "\\begin{aligned}\n",
       "N_{plRd} &= A \\cdot \\frac{ f_{y} }{ \\gamma_{m_{0}} }  = 15000.00\\ \\mathrm{mm}^{2} \\cdot \\frac{ 265.00\\ \\mathrm{MPa} }{ 1.00 } &= 3.98\\ \\mathrm{MN}  \n",
       "\\\\[10pt]\n",
       "h_{w} &= h - 2 \\cdot t_{f}  = 314.50\\ \\mathrm{mm} - 2 \\cdot 18.70\\ \\mathrm{mm} &= 277.10\\ \\mathrm{mm}  \n",
       "\\\\[10pt]\n",
       "N_{webaxial} &= h_{w} \\cdot t_{w} \\cdot \\frac{ f_{y} }{ \\gamma_{m_{0}} }  = 277.10\\ \\mathrm{mm} \\cdot 12.00\\ \\mathrm{mm} \\cdot \\frac{ 265.00\\ \\mathrm{MPa} }{ 1.00 } &= 881.18\\ \\mathrm{kN}  \n",
       "\\\\[10pt]\n",
       "N' &= \\operatorname{min} { \\left( 0.25 \\cdot N_{plRd} ,\\  0.5 \\cdot h_{w} \\cdot t_{w} \\cdot f_{y} \\right) }  = \\operatorname{min} { \\left( 0.25 \\cdot 3.98\\ \\mathrm{MN} ,\\  0.5 \\cdot 277.10\\ \\mathrm{mm} \\cdot 12.00\\ \\mathrm{mm} \\cdot 265.00\\ \\mathrm{MPa} \\right) } &= 440.59\\ \\mathrm{kN}  \n",
       "\\end{aligned}\n",
       "$"
      ],
      "text/plain": [
       "<IPython.core.display.Latex object>"
      ]
     },
     "metadata": {},
     "output_type": "display_data"
    }
   ],
   "source": [
    "%%render  2 # reduce NEd is less than the smaller of 0.25NplRd or half the web's plastic tension resistance\n",
    "N_plRd = A * f_y / gamma_m_0\n",
    "h_w = h - 2*t_f\n",
    "N_webaxial = h_w * t_w * f_y / gamma_m_0\n",
    "\n",
    "# ... safer\n",
    "# N_prime_prime_1 = 0.25 * N_plRd\n",
    "# N_prime_prime_2 = 0.5 * N_webaxial\n",
    "# # N_prime = min(N_prime_prime_1, N_prime_prime_2)\n",
    "\n",
    "# ... raw\n",
    "N_prime = min(0.25*N_plRd, 0.5*h_w*t_w*f_y)"
   ]
  },
  {
   "cell_type": "markdown",
   "metadata": {},
   "source": [
    "#### $n$, $a$, $M_{\\text{pl,y,Rd}}$ and $M_{\\text{pl,z,Rd}}$"
   ]
  },
  {
   "cell_type": "code",
   "execution_count": 25,
   "metadata": {},
   "outputs": [
    {
     "data": {
      "text/latex": [
       "$\n",
       "\\begin{aligned}\n",
       "n &= \\frac{ N_{Ed} }{ N_{plRd} }  = \\frac{ 2.000\\ \\mathrm{MN} }{ 3.975\\ \\mathrm{MN} } &= 0.503  \n",
       "\\\\[10pt]\n",
       "a &= \\frac{ A - 2 \\cdot b \\cdot t_{f} }{ A }  = \\frac{ 15000.000\\ \\mathrm{mm}^{2} - 2 \\cdot 307.400\\ \\mathrm{mm} \\cdot 18.700\\ \\mathrm{mm} }{ 15000.000\\ \\mathrm{mm}^{2} } &= 0.234 \\; \\;\\textrm{(📝 or ifelse for a<=0.5)}\n",
       "\\\\[10pt]\n",
       "M_{plyRd} &= W_{ply} \\cdot \\frac{ f_{y} }{ \\gamma_{m_{0}} }  = 1960000.000\\ \\mathrm{mm}^{3} \\cdot \\frac{ 265.000\\ \\mathrm{MPa} }{ 1.000 } &= 519.400\\ \\mathrm{kN} \\cdot \\mathrm{m}  \n",
       "\\\\[10pt]\n",
       "M_{plzRd} &= W_{plz} \\cdot \\frac{ f_{y} }{ \\gamma_{m_{0}} }  = 895000.000\\ \\mathrm{mm}^{3} \\cdot \\frac{ 265.000\\ \\mathrm{MPa} }{ 1.000 } &= 237.175\\ \\mathrm{kN} \\cdot \\mathrm{m}  \n",
       "\\end{aligned}\n",
       "$"
      ],
      "text/plain": [
       "<IPython.core.display.Latex object>"
      ]
     },
     "metadata": {},
     "output_type": "display_data"
    }
   ],
   "source": [
    "%%render short 3\n",
    "n = N_Ed / N_plRd\n",
    "a = (A - 2 * b * t_f)/A # 📝 or ifelse for a<=0.5\n",
    "M_plyRd = W_ply * f_y / gamma_m_0\n",
    "M_plzRd = W_plz * f_y / gamma_m_0"
   ]
  },
  {
   "cell_type": "markdown",
   "metadata": {},
   "source": [
    "#### $M_{\\text{N,y,Rd}}$ and $M_{\\text{N,z,Rd}}$"
   ]
  },
  {
   "cell_type": "code",
   "execution_count": 26,
   "metadata": {},
   "outputs": [
    {
     "data": {
      "text/latex": [
       "$\n",
       "\\begin{aligned}\n",
       "&\\text{Since, } N_{Ed} \\geq N' \\rightarrow \\left( 2.00\\ \\mathrm{MN} \\geq 440.59\\ \\mathrm{kN} \\right) :   \\\\[10pt]\n",
       "M_{NyRd} &= M_{plyRd} \\cdot \\frac{ 1 - n }{ 1 - 0.5 \\cdot a }  = 519.40\\ \\mathrm{kN} \\cdot \\mathrm{m} \\cdot \\frac{ 1 - 0.50 }{ 1 - 0.5 \\cdot 0.23 } &= 292.19\\ \\mathrm{kN} \\cdot \\mathrm{m}  \n",
       "\\end{aligned}\n",
       "$"
      ],
      "text/plain": [
       "<IPython.core.display.Latex object>"
      ]
     },
     "metadata": {},
     "output_type": "display_data"
    }
   ],
   "source": [
    "%%render short 2 # \n",
    "if N_Ed < N_prime: M_NyRd = M_plyRd\n",
    "elif N_Ed >= N_prime: M_NyRd = M_plyRd * (1 - n)/(1 - 0.5*a)"
   ]
  },
  {
   "cell_type": "code",
   "execution_count": 27,
   "metadata": {},
   "outputs": [],
   "source": [
    "# %%render short 2 #! INCOMPLETE check logic for N_Ed > Nweb\n",
    "# # if N_Ed <= (h_w * t_w * f_y): M_NzRd = M_plzRd #! KeyError\n",
    "# if N_Ed < N_webaxial: M_NzRd = M_plzRd"
   ]
  },
  {
   "cell_type": "code",
   "execution_count": 28,
   "metadata": {},
   "outputs": [
    {
     "data": {
      "text/latex": [
       "$\n",
       "\\begin{aligned}\n",
       "&\\text{Since, } N_{Ed} \\geq N_{webaxial} \\rightarrow \\left( 2.00\\ \\mathrm{MN} \\geq 881.18\\ \\mathrm{kN} \\right) :   \\\\[10pt]\n",
       "\\mathrm{check}_{n_{a}} &= True \\; \n",
       "\\\\[10pt]\n",
       "&\\text{Since, } n \\gt a \\rightarrow \\left( 0.50 \\gt 0.23 \\right) :   \\\\[10pt]\n",
       "M_{NzRd} &= M_{plzRd} \\cdot \\left( 1 - \\left( \\frac{ n - a }{ 1 - a } \\right) ^{ 2 } \\right)  = 237.18\\ \\mathrm{kN} \\cdot \\mathrm{m} \\cdot \\left( 1 - \\left( \\frac{ 0.50 - 0.23 }{ 1 - 0.23 } \\right) ^{ 2 } \\right) &= 207.83\\ \\mathrm{kN} \\cdot \\mathrm{m}  \n",
       "\\end{aligned}\n",
       "$"
      ],
      "text/plain": [
       "<IPython.core.display.Latex object>"
      ]
     },
     "metadata": {},
     "output_type": "display_data"
    }
   ],
   "source": [
    "%%render short 2  #! INCOMPLETE check logic for N_Ed > Nweb and M_NzRd < MplRd as max. val.\n",
    "# # if N_Ed <= (h_w * t_w * f_y): M_NzRd = M_plzRd\n",
    "# M_NzRd = 1 # 🩹 hotfix for KeyError, quite weird...\n",
    "if N_Ed < N_webaxial: M_NzRd = M_plzRd \n",
    "elif N_Ed >= N_webaxial: check_n_a = True\n",
    "\n",
    "if n <= a: M_NzRd = M_plzRd\n",
    "elif n > a: M_NzRd = M_plzRd * (1 - ( (n-a)/(1-a) )**2)"
   ]
  },
  {
   "cell_type": "markdown",
   "metadata": {},
   "source": [
    "### $M_{\\text{b,Rd}}$"
   ]
  },
  {
   "cell_type": "markdown",
   "metadata": {},
   "source": [
    "#### $N_{\\text{Cr}}$ and $\\lambda_{\\text{y}}$"
   ]
  },
  {
   "cell_type": "code",
   "execution_count": 29,
   "metadata": {},
   "outputs": [
    {
     "data": {
      "text/latex": [
       "$\n",
       "\\begin{aligned}\n",
       "L_{Cr} &= L_{E} \\cdot m  = 7.00\\ \\mathrm{m} \\cdot 1.00 &= 7.00\\ \\mathrm{m} \\; \\;\\textrm{(📝)}\n",
       "\\\\[10pt]\n",
       "L_{Cry} &= 7.00\\ \\mathrm{m} \\; \\;\\textrm{(📝)}\n",
       "\\\\[10pt]\n",
       "L_{Crz} &= 7.00\\ \\mathrm{m} \\; \\;\\textrm{(📝)}\n",
       "\\\\[10pt]\n",
       "N_{Cry} &= \\frac{ \\left( \\pi \\right) ^{ 2 } \\cdot E \\cdot I_{yy} }{ \\left( L_{Cry} \\right) ^{ 2 } }  = \\frac{ \\left( 3.14 \\right) ^{ 2 } \\cdot 210.00\\ \\mathrm{GPa} \\cdot 277000000.00\\ \\mathrm{mm}^{4} }{ \\left( 7.00\\ \\mathrm{m} \\right) ^{ 2 } } &= 11.72\\ \\mathrm{MN}  \n",
       "\\\\[10pt]\n",
       "\\lambda_{y} &= \\left( \\frac{ A \\cdot f_{y} }{ N_{Cry} } \\right) ^{ 0.5 }  = \\left( \\frac{ 15000.00\\ \\mathrm{mm}^{2} \\cdot 265.00\\ \\mathrm{MPa} }{ 11.72\\ \\mathrm{MN} } \\right) ^{ 0.5 } &= 0.58  \n",
       "\\end{aligned}\n",
       "$"
      ],
      "text/plain": [
       "<IPython.core.display.Latex object>"
      ]
     },
     "metadata": {},
     "output_type": "display_data"
    }
   ],
   "source": [
    "%%render short 2\n",
    "L_Cr = L_E * m # 📝 # FIXME\n",
    "L_Cry = L_Cr # 📝\n",
    "L_Crz = L_Cr # 📝\n",
    "N_Cry = (pi**2 * E * I_yy)/(L_Cry**2)\n",
    "lamb_y = ( (A*f_y)/N_Cry )**0.5"
   ]
  },
  {
   "cell_type": "markdown",
   "metadata": {},
   "source": [
    "### $\\Phi_{\\text{y}}$ and $\\chi_{\\text{y}}$"
   ]
  },
  {
   "cell_type": "code",
   "execution_count": null,
   "metadata": {},
   "outputs": [],
   "source": [
    "%%render short 2 # having selected alpha from ...\n",
    "alpha = 0.49\n",
    "Phi = 0.5 * (1 + alpha*(lamb_z -0.2) + lamb_z**2)\n",
    "chi = 1 / (Phi + (Phi**2 - lamb_z**2)**0.5)"
   ]
  }
 ],
 "metadata": {
  "kernelspec": {
   "display_name": "tf",
   "language": "python",
   "name": "python3"
  },
  "language_info": {
   "codemirror_mode": {
    "name": "ipython",
    "version": 3
   },
   "file_extension": ".py",
   "mimetype": "text/x-python",
   "name": "python",
   "nbconvert_exporter": "python",
   "pygments_lexer": "ipython3",
   "version": "3.12.2"
  }
 },
 "nbformat": 4,
 "nbformat_minor": 2
}
