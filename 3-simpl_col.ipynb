{
 "cells": [
  {
   "cell_type": "markdown",
   "metadata": {},
   "source": [
    "# Column in Simple Construction"
   ]
  },
  {
   "cell_type": "markdown",
   "metadata": {},
   "source": [
    "Subtitle"
   ]
  },
  {
   "cell_type": "markdown",
   "metadata": {},
   "source": [
    "## Setup"
   ]
  },
  {
   "cell_type": "markdown",
   "metadata": {},
   "source": [
    "### Imports & Env. Settings"
   ]
  },
  {
   "cell_type": "code",
   "execution_count": 1,
   "metadata": {},
   "outputs": [],
   "source": [
    "# Imports\n",
    "import handcalcs # https://github.com/connorferster/handcalcs/wiki\n",
    "from handcalcs import render # https://github.com/connorferster/handcalcs?tab=readme-ov-file#basic-usage-1-as-a-jupyter-cell-magic-render\n",
    "import forallpeople as si # https://connorferster.github.io/forallpeople/basic_usage.html\n",
    "from modules.section import UniversalColumn\n",
    "from modules.strength import design_strength"
   ]
  },
  {
   "cell_type": "code",
   "execution_count": 2,
   "metadata": {},
   "outputs": [],
   "source": [
    "# Environment config.\n",
    "# --> SI units structural env ( https://connorferster.github.io/forallpeople/environments.html#Environments )\n",
    "si.environment(\"structural\", top_level=True) # load SI units for structural eng. into the environment, top_level=True defines them in the top-level namespace (as vars)\n",
    "# -> Handcalcs environment settings for TeX rendering\n",
    "handcalcs.set_option(\"latex_block_start\", \"$\")\n",
    "handcalcs.set_option(\"latex_block_end\", \"$\")\n",
    "handcalcs.set_option(\"math_environment_start\", \"aligned\")\n",
    "handcalcs.set_option(\"math_environment_end\", \"aligned\")"
   ]
  },
  {
   "cell_type": "markdown",
   "metadata": {},
   "source": [
    "### Question Data"
   ]
  },
  {
   "cell_type": "code",
   "execution_count": 26,
   "metadata": {},
   "outputs": [
    {
     "data": {
      "text/latex": [
       "$\n",
       "\\begin{aligned}\n",
       "R_{A} &= 200.00\\ \\mathrm{kN} \\; \n",
       " &R_{B} &= 75.00\\ \\mathrm{kN} \\; \n",
       " &F_{swt} &= 5.00\\ \\mathrm{kN} \\; \n",
       "\\\\[10pt]\n",
       " L &= 7.00\\ \\mathrm{m} \\;\n",
       "\\end{aligned}\n",
       "$"
      ],
      "text/plain": [
       "<IPython.core.display.Latex object>"
      ]
     },
     "metadata": {},
     "output_type": "display_data"
    }
   ],
   "source": [
    "%%render params 2 # Reactions from beams, and length\n",
    "# Actions\n",
    "# F_c = 1 * kN\n",
    "R_A = 200 * kN\n",
    "R_B = 75 * kN\n",
    "F_swt = 5 * kN\n",
    "\n",
    "# Dimensions\n",
    "L = 7 * m\n",
    "\n"
   ]
  },
  {
   "cell_type": "markdown",
   "metadata": {},
   "source": [
    "### Trial Section"
   ]
  },
  {
   "cell_type": "code",
   "execution_count": 4,
   "metadata": {},
   "outputs": [],
   "source": [
    "trial_section = UniversalColumn.create(designation=\"203x203x52\")\n",
    "# ... UB not implemented, should be in rework of sections module"
   ]
  },
  {
   "cell_type": "code",
   "execution_count": 5,
   "metadata": {},
   "outputs": [
    {
     "data": {
      "text/latex": [
       "$\n",
       "\\begin{aligned}\n",
       "D &= 206.2\\ \\mathrm{mm} \\; \n",
       " &B &= 204.3\\ \\mathrm{mm} \\; \n",
       " &d &= 160.8\\ \\mathrm{mm} \\; \n",
       "\\\\[10pt]\n",
       " t &= 7.9\\ \\mathrm{mm} \\; \n",
       " &T &= 12.5\\ \\mathrm{mm} \\; \n",
       " &S_{xx} &= 567000.0\\ \\mathrm{mm}^{3} \\; \n",
       "\\\\[10pt]\n",
       " S_{yy} &= 264000.0\\ \\mathrm{mm}^{3} \\; \n",
       " &Z_{xx} &= 510000.0\\ \\mathrm{mm}^{3} \\; \n",
       " &Z_{yy} &= 174000.0\\ \\mathrm{mm}^{3} \\; \n",
       "\\\\[10pt]\n",
       " r_{xx} &= 89.1\\ \\mathrm{mm} \\; \n",
       " &r_{yy} &= 51.8\\ \\mathrm{mm} \\; \n",
       " &A &= 6630.0\\ \\mathrm{mm}^{2} \\; \n",
       "\\\\[10pt]\n",
       "\\end{aligned}\n",
       "$"
      ],
      "text/plain": [
       "<IPython.core.display.Latex object>"
      ]
     },
     "metadata": {},
     "output_type": "display_data"
    }
   ],
   "source": [
    "%%render params 1 # BS Notation\n",
    "D = trial_section.D * mm\n",
    "B = trial_section.B * mm\n",
    "d = trial_section.d * mm\n",
    "t = trial_section.t * mm\n",
    "T = trial_section.T * mm\n",
    "\n",
    "S_xx = trial_section.S_xx * 1000*mm**3\n",
    "S_yy = trial_section.S_yy * 1000*mm**3\n",
    "Z_xx = trial_section.Z_xx * 1000*mm**3\n",
    "Z_yy = trial_section.Z_yy * 1000*mm**3\n",
    "r_xx = trial_section.r_xx * 10*mm\n",
    "r_yy = trial_section.r_yy * 10*mm\n",
    "A = trial_section.A * 100*mm**2"
   ]
  },
  {
   "cell_type": "markdown",
   "metadata": {},
   "source": [
    "### Loading and Moments"
   ]
  },
  {
   "cell_type": "code",
   "execution_count": 6,
   "metadata": {},
   "outputs": [
    {
     "data": {
      "text/latex": [
       "$\n",
       "\\begin{aligned}\n",
       "F &= R_{A} + R_{B} + F_{swt}  = 200.000\\ \\mathrm{kN} + 75.000\\ \\mathrm{kN} + 5.000\\ \\mathrm{kN} &= 280.000\\ \\mathrm{kN}  \n",
       "\\\\[10pt]\n",
       "e_{x} &= \\frac{ D }{ 2 } + 100 \\cdot \\mathrm{mm}  = \\frac{ 206.200\\ \\mathrm{mm} }{ 2 } + 100 \\cdot mm &= 203.100\\ \\mathrm{mm}  \n",
       "\\\\[10pt]\n",
       "e_{y} &= \\frac{ t }{ 2 } + 100 \\cdot \\mathrm{mm}  = \\frac{ 7.900\\ \\mathrm{mm} }{ 2 } + 100 \\cdot mm &= 103.950\\ \\mathrm{mm}  \n",
       "\\\\[10pt]\n",
       "M_{x} &= R_{A} \\cdot e_{x}  = 200.000\\ \\mathrm{kN} \\cdot 203.100\\ \\mathrm{mm} &= 40.620\\ \\mathrm{kN} \\cdot \\mathrm{m}  \n",
       "\\\\[10pt]\n",
       "M_{y} &= R_{B} \\cdot e_{y}  = 75.000\\ \\mathrm{kN} \\cdot 103.950\\ \\mathrm{mm} &= 7.796\\ \\mathrm{kN} \\cdot \\mathrm{m}  \n",
       "\\end{aligned}\n",
       "$"
      ],
      "text/plain": [
       "<IPython.core.display.Latex object>"
      ]
     },
     "metadata": {},
     "output_type": "display_data"
    }
   ],
   "source": [
    "%%render short\n",
    "F = R_A + R_B + F_swt\n",
    "e_x = D/2 + 100 * mm\n",
    "e_y = t/2 + 100 * mm\n",
    "M_x = R_A * e_x\n",
    "M_y = R_B * e_y\n"
   ]
  },
  {
   "cell_type": "markdown",
   "metadata": {},
   "source": [
    "<!-- ### Classification -->"
   ]
  },
  {
   "cell_type": "markdown",
   "metadata": {},
   "source": [
    "### Effective Length $L_{\\text{E}}$ (and $L_{\\text{Cr}}$)"
   ]
  },
  {
   "cell_type": "markdown",
   "metadata": {},
   "source": [
    "Table 22 BS 5950\n",
    "_ENV 1993-1-1:2004_"
   ]
  },
  {
   "cell_type": "code",
   "execution_count": 7,
   "metadata": {},
   "outputs": [
    {
     "data": {
      "text/latex": [
       "$\n",
       "\\begin{aligned}\n",
       "L_{E} &= 0.85 \\cdot L \\\\&= 0.85 \\cdot 7.00\\ \\mathrm{m} \\\\&= 5.95\\ \\mathrm{m} \\; \\;\\textrm{(📝)}\\\\[10pt]\n",
       "\\\\[10pt]\n",
       "L_{Cr} &= 5.95\\ \\mathrm{m} \\; \n",
       "\\end{aligned}\n",
       "$"
      ],
      "text/plain": [
       "<IPython.core.display.Latex object>"
      ]
     },
     "metadata": {},
     "output_type": "display_data"
    }
   ],
   "source": [
    "%%render short 2 # Uncomment correct value, defaults to 1.0 L\n",
    "# L_E = 0.7 * L\n",
    "L_E = 0.85 * L # 📝\n",
    "# L_E = 1.0 * L\n",
    "# L_E = 1.2 * L\n",
    "# L_E = 1.5 * L\n",
    "# L_E = 2.0 * L\n",
    "\n",
    "L_Cr = L_E"
   ]
  },
  {
   "cell_type": "markdown",
   "metadata": {},
   "source": [
    "## BS 5950"
   ]
  },
  {
   "cell_type": "markdown",
   "metadata": {},
   "source": [
    "### Classification"
   ]
  },
  {
   "cell_type": "code",
   "execution_count": 8,
   "metadata": {},
   "outputs": [
    {
     "data": {
      "text/latex": [
       "$\n",
       "\\begin{aligned}\n",
       "T &= 12.50\\ \\mathrm{mm} \\; \n",
       "\\\\[10pt]\n",
       "p_{y} &= 265 \\cdot \\mathrm{MPa}  = 265 \\cdot MPa &= 265.00\\ \\mathrm{MPa} \\; \\;\\textrm{(📝)}\n",
       "\\end{aligned}\n",
       "$"
      ],
      "text/plain": [
       "<IPython.core.display.Latex object>"
      ]
     },
     "metadata": {},
     "output_type": "display_data"
    }
   ],
   "source": [
    "%%render short 2\n",
    "T\n",
    "p_y = 265 * MPa # 📝"
   ]
  },
  {
   "cell_type": "code",
   "execution_count": 9,
   "metadata": {},
   "outputs": [],
   "source": [
    "# Section Class Table 11 BS"
   ]
  },
  {
   "cell_type": "code",
   "execution_count": 10,
   "metadata": {},
   "outputs": [
    {
     "data": {
      "text/latex": [
       "$\n",
       "\\begin{aligned}\n",
       "\\lambda_{x} &= \\frac{ L_{E} }{ r_{xx} }  = \\frac{ 5.95\\ \\mathrm{m} }{ 89.10\\ \\mathrm{mm} } &= 66.78  \n",
       "\\\\[10pt]\n",
       "\\lambda_{y} &= \\frac{ L_{E} }{ r_{yy} }  = \\frac{ 5.95\\ \\mathrm{m} }{ 51.80\\ \\mathrm{mm} } &= 114.86  \n",
       "\\\\[10pt]\n",
       "\\lambda_{c} &= \\operatorname{min} { \\left( \\lambda_{x} ,\\  \\lambda_{y} \\right) }  = \\operatorname{min} { \\left( 66.78 ,\\  114.86 \\right) } &= 66.78  \n",
       "\\\\[10pt]\n",
       "p_{c} &= 103 \\cdot \\mathrm{MPa}  = 103 \\cdot MPa &= 103.00\\ \\mathrm{MPa} \\; \\;\\textrm{(📝)}\n",
       "\\end{aligned}\n",
       "$"
      ],
      "text/plain": [
       "<IPython.core.display.Latex object>"
      ]
     },
     "metadata": {},
     "output_type": "display_data"
    }
   ],
   "source": [
    "%%render short 2\n",
    "lamb_x = L_E / r_xx\n",
    "lamb_y = L_E / r_yy\n",
    "\n",
    "lamb_c = min(lamb_x, lamb_y) \n",
    "p_c = 103 * MPa # 📝"
   ]
  },
  {
   "cell_type": "code",
   "execution_count": 11,
   "metadata": {},
   "outputs": [
    {
     "data": {
      "text/latex": [
       "$\n",
       "\\begin{aligned}\n",
       "\\lambda_{LT} &= 0.5 \\cdot \\frac{ L }{ r_{yy} }  = 0.5 \\cdot \\frac{ 7.00\\ \\mathrm{m} }{ 51.80\\ \\mathrm{mm} } &= 67.57  \n",
       "\\\\[10pt]\n",
       "p_{b} &= 193 \\cdot \\mathrm{MPa}  = 193 \\cdot MPa &= 193.00\\ \\mathrm{MPa} \\; \\;\\textrm{(📝)}\n",
       "\\\\[10pt]\n",
       "M_{bs} &= p_{b} \\cdot S_{xx}  = 193.00\\ \\mathrm{MPa} \\cdot 567000.00\\ \\mathrm{mm}^{3} &= 109.43\\ \\mathrm{kN} \\cdot \\mathrm{m}  \n",
       "\\end{aligned}\n",
       "$"
      ],
      "text/plain": [
       "<IPython.core.display.Latex object>"
      ]
     },
     "metadata": {},
     "output_type": "display_data"
    }
   ],
   "source": [
    "%%render short 2\n",
    "lamb_LT = 0.5 * L / r_yy \n",
    "\n",
    "p_b = 193 * MPa # 📝\n",
    "M_bs = p_b * S_xx"
   ]
  },
  {
   "cell_type": "markdown",
   "metadata": {},
   "source": [
    "### Stability Check"
   ]
  },
  {
   "cell_type": "code",
   "execution_count": 12,
   "metadata": {},
   "outputs": [
    {
     "data": {
      "text/latex": [
       "$\n",
       "\\begin{aligned}\n",
       "P_{c} &= p_{c} \\cdot A  = 103.00\\ \\mathrm{MPa} \\cdot 6630.00\\ \\mathrm{mm}^{2} &= 682.89\\ \\mathrm{kN}  \n",
       "\\\\[10pt]\n",
       "\\mathrm{util}_{st} &= \\frac{ F }{ P_{c} } + \\frac{ M_{x} }{ M_{bs} } + \\frac{ M_{y} }{ p_{y} \\cdot Z_{yy} }  = \\frac{ 280.00\\ \\mathrm{kN} }{ 682.89\\ \\mathrm{kN} } + \\frac{ 40.62\\ \\mathrm{kN} \\cdot \\mathrm{m} }{ 109.43\\ \\mathrm{kN} \\cdot \\mathrm{m} } + \\frac{ 7.80\\ \\mathrm{kN} \\cdot \\mathrm{m} }{ 265.00\\ \\mathrm{MPa} \\cdot 174000.00\\ \\mathrm{mm}^{3} } &= 0.95  \n",
       "\\end{aligned}\n",
       "$"
      ],
      "text/plain": [
       "<IPython.core.display.Latex object>"
      ]
     },
     "metadata": {},
     "output_type": "display_data"
    }
   ],
   "source": [
    "%%render short 2\n",
    "P_c = p_c * A\n",
    "util_st = F/P_c + M_x/M_bs + M_y/(p_y * Z_yy)\n"
   ]
  },
  {
   "cell_type": "markdown",
   "metadata": {},
   "source": [
    "## Eurocode 3"
   ]
  },
  {
   "cell_type": "code",
   "execution_count": 13,
   "metadata": {},
   "outputs": [
    {
     "data": {
      "text/latex": [
       "$\n",
       "\\begin{aligned}\n",
       "\\mathrm{designation} &= \\mathrm{203x203x52} \\; \n",
       " &h &= 206.2\\ \\mathrm{mm} \\; \n",
       " &b &= 204.3\\ \\mathrm{mm} \\; \n",
       "\\\\[10pt]\n",
       " t_{w} &= 7.9\\ \\mathrm{mm} \\; \n",
       " &t_{f} &= 12.5\\ \\mathrm{mm} \\; \n",
       " &W_{ply} &= 567000.0\\ \\mathrm{mm}^{3} \\; \n",
       "\\\\[10pt]\n",
       " W_{plz} &= 264000.0\\ \\mathrm{mm}^{3} \\; \n",
       " &W_{ely} &= 510000.0\\ \\mathrm{mm}^{3} \\; \n",
       " &W_{elz} &= 174000.0\\ \\mathrm{mm}^{3} \\; \n",
       "\\\\[10pt]\n",
       " i_{yy} &= 89.1\\ \\mathrm{mm} \\; \n",
       " &i_{zz} &= 51.8\\ \\mathrm{mm} \\; \n",
       " &A &= 6630.0\\ \\mathrm{mm}^{2} \\; \n",
       "\\\\[10pt]\n",
       "\\end{aligned}\n",
       "$"
      ],
      "text/plain": [
       "<IPython.core.display.Latex object>"
      ]
     },
     "metadata": {},
     "output_type": "display_data"
    }
   ],
   "source": [
    "%%render params 1 # EC3 Notation\n",
    "designation = trial_section.designation\n",
    "h = trial_section.D * mm\n",
    "b = trial_section.B * mm\n",
    "t_w = trial_section.t * mm\n",
    "t_f = trial_section.T * mm\n",
    "\n",
    "W_ply = S_xx\n",
    "W_plz = S_yy\n",
    "W_ely = Z_xx\n",
    "W_elz = Z_yy\n",
    "i_yy = r_xx\n",
    "i_zz = r_yy\n",
    "A = trial_section.A * 100*mm**2"
   ]
  },
  {
   "cell_type": "code",
   "execution_count": 14,
   "metadata": {},
   "outputs": [
    {
     "data": {
      "text/latex": [
       "$\n",
       "\\begin{aligned}\n",
       "N_{Ed} &= R_{A} + R_{B} + F_{swt}  = 200.000\\ \\mathrm{kN} + 75.000\\ \\mathrm{kN} + 5.000\\ \\mathrm{kN} &= 280.000\\ \\mathrm{kN}  \n",
       "\\\\[10pt]\n",
       "e_{y} &= \\frac{ h }{ 2 } + 100 \\cdot \\mathrm{mm}  = \\frac{ 206.200\\ \\mathrm{mm} }{ 2 } + 100 \\cdot mm &= 203.100\\ \\mathrm{mm}  \n",
       "\\\\[10pt]\n",
       "e_{z} &= \\frac{ t_{w} }{ 2 } + 100 \\cdot \\mathrm{mm}  = \\frac{ 7.900\\ \\mathrm{mm} }{ 2 } + 100 \\cdot mm &= 103.950\\ \\mathrm{mm}  \n",
       "\\\\[10pt]\n",
       "M_{y} &= R_{A} \\cdot e_{y}  = 200.000\\ \\mathrm{kN} \\cdot 203.100\\ \\mathrm{mm} &= 40.620\\ \\mathrm{kN} \\cdot \\mathrm{m}  \n",
       "\\\\[10pt]\n",
       "M_{z} &= R_{B} \\cdot e_{z}  = 75.000\\ \\mathrm{kN} \\cdot 103.950\\ \\mathrm{mm} &= 7.796\\ \\mathrm{kN} \\cdot \\mathrm{m}  \n",
       "\\end{aligned}\n",
       "$"
      ],
      "text/plain": [
       "<IPython.core.display.Latex object>"
      ]
     },
     "metadata": {},
     "output_type": "display_data"
    }
   ],
   "source": [
    "%%render short 3\n",
    "N_Ed = R_A + R_B + F_swt\n",
    "e_y = h / 2 + 100*mm\n",
    "e_z = t_w / 2 + 100*mm\n",
    "M_y = R_A * e_y\n",
    "M_z = R_B * e_z"
   ]
  },
  {
   "cell_type": "code",
   "execution_count": 15,
   "metadata": {},
   "outputs": [
    {
     "data": {
      "text/latex": [
       "$\n",
       "\\begin{aligned}\n",
       "t_{f} &= 12.500\\ \\mathrm{mm} \\; \n",
       "\\\\[10pt]\n",
       "f_{y} &= 265.000\\ \\mathrm{MPa} \\; \n",
       "\\\\[10pt]\n",
       "\\epsilon &= \\left( 235 \\cdot \\frac{ \\mathrm{MPa} }{ f_{y} } \\right) ^{ 0.5 }  = \\left( 235 \\cdot \\frac{ MPa }{ 265.000\\ \\mathrm{MPa} } \\right) ^{ 0.5 } &= 0.942  \n",
       "\\end{aligned}\n",
       "$"
      ],
      "text/plain": [
       "<IPython.core.display.Latex object>"
      ]
     },
     "metadata": {},
     "output_type": "display_data"
    }
   ],
   "source": [
    "%%render short 3\n",
    "t_f \n",
    "f_y = p_y\n",
    "epsilon = (235*MPa/f_y)**0.5"
   ]
  },
  {
   "cell_type": "code",
   "execution_count": 16,
   "metadata": {},
   "outputs": [
    {
     "data": {
      "text/latex": [
       "$\n",
       "\\begin{aligned}\n",
       "\\pi &= 3.14 \\; \n",
       " &E &= 210.00\\ \\mathrm{GPa} \\; \n",
       " &G &= 81.00\\ \\mathrm{GPa} \\; \n",
       "\\\\[10pt]\n",
       " \\gamma_{m_{0}} &= 1.00 \\; \n",
       " &\\gamma_{m_{1}} &= 1.00 \\;\n",
       "\\end{aligned}\n",
       "$"
      ],
      "text/plain": [
       "<IPython.core.display.Latex object>"
      ]
     },
     "metadata": {},
     "output_type": "display_data"
    }
   ],
   "source": [
    "%%render params 2\n",
    "pi = 3.14159265359\n",
    "E = 210 * GPa\n",
    "G = 81 * GPa\n",
    "gamma_m_0 = 1.0\n",
    "gamma_m_1 = 1.0\n"
   ]
  },
  {
   "cell_type": "code",
   "execution_count": 17,
   "metadata": {},
   "outputs": [
    {
     "data": {
      "text/latex": [
       "$\n",
       "\\begin{aligned}\n",
       "\\lambda_{1} &= \\pi \\cdot \\left( \\frac{ E }{ f_{y} } \\right) ^{ 0.5 }  = 3.142 \\cdot \\left( \\frac{ 210.000\\ \\mathrm{GPa} }{ 265.000\\ \\mathrm{MPa} } \\right) ^{ 0.5 } &= 88.438  \n",
       "\\\\[10pt]\n",
       "L_{Crz} &= 5.950\\ \\mathrm{m} \\; \n",
       "\\\\[10pt]\n",
       "\\lambda_{z} &= \\frac{ L_{Crz} }{ i_{zz} }  = \\frac{ 5.950\\ \\mathrm{m} }{ 51.800\\ \\mathrm{mm} } &= 114.865  \n",
       "\\\\[10pt]\n",
       "\\lambda'_{z} &= \\frac{ \\lambda_{z} }{ \\lambda_{1} }  = \\frac{ 114.865 }{ 88.438 } &= 1.299  \n",
       "\\\\[10pt]\n",
       "\\mathrm{hoverb} &= \\frac{ h }{ b }  = \\frac{ 206.200\\ \\mathrm{mm} }{ 204.300\\ \\mathrm{mm} } &= 1.009  \n",
       "\\end{aligned}\n",
       "$"
      ],
      "text/plain": [
       "<IPython.core.display.Latex object>"
      ]
     },
     "metadata": {},
     "output_type": "display_data"
    }
   ],
   "source": [
    "%%render short 3\n",
    "lamb_1 = pi * (E/f_y)**0.5\n",
    "L_Crz = L_E\n",
    "lamb_z = L_Crz / i_zz\n",
    "lamb_prime_z = lamb_z/lamb_1 \n",
    "hoverb = h/b"
   ]
  },
  {
   "cell_type": "code",
   "execution_count": 18,
   "metadata": {},
   "outputs": [
    {
     "data": {
      "text/latex": [
       "$\n",
       "\\begin{aligned}\n",
       "\\alpha &= 0.490 \\; \\;\\textrm{(📝)}\n",
       "\\\\[10pt]\n",
       "\\Phi &= 0.5 \\cdot \\left( 1 + \\alpha \\cdot \\left( \\lambda'_{z} - 0.2 \\right) + \\left( \\lambda'_{z} \\right) ^{ 2 } \\right)  = 0.5 \\cdot \\left( 1 + 0.490 \\cdot \\left( 1.299 - 0.2 \\right) + \\left( 1.299 \\right) ^{ 2 } \\right) &= 1.613  \n",
       "\\\\[10pt]\n",
       "\\chi_{z} &= \\left( \\Phi + \\left( \\left( \\Phi \\right) ^{ 2 } - \\left( \\lambda'_{z} \\right) ^{ 2 } \\right) ^{ 0.5 } \\right) ^{ -1 }  = \\left( 1.613 + \\left( \\left( 1.613 \\right) ^{ 2 } - \\left( 1.299 \\right) ^{ 2 } \\right) ^{ 0.5 } \\right) ^{ -1 } &= 0.389  \n",
       "\\\\[10pt]\n",
       "N_{bzRd} &= \\chi_{z} \\cdot A \\cdot \\frac{ f_{y} }{ \\gamma_{m_{1}} }  = 0.389 \\cdot 6630.000\\ \\mathrm{mm}^{2} \\cdot \\frac{ 265.000\\ \\mathrm{MPa} }{ 1.000 } &= 684.006\\ \\mathrm{kN}  \n",
       "\\end{aligned}\n",
       "$"
      ],
      "text/plain": [
       "<IPython.core.display.Latex object>"
      ]
     },
     "metadata": {},
     "output_type": "display_data"
    }
   ],
   "source": [
    "%%render short 3\n",
    "# read alpha from table\n",
    "alpha = 0.49 # 📝\n",
    "Phi = 0.5 * (1 + alpha * (lamb_prime_z - 0.2) +  lamb_prime_z**2)\n",
    "chi_z =  (Phi + (Phi**2 - lamb_prime_z**2)**0.5)**-1\n",
    "N_bzRd = chi_z * A * f_y/gamma_m_1\n"
   ]
  },
  {
   "cell_type": "code",
   "execution_count": 19,
   "metadata": {},
   "outputs": [
    {
     "data": {
      "text/latex": [
       "$\n",
       "\\begin{aligned}\n",
       "I_{zz} &= 17800000.00\\ \\mathrm{mm}^{4} \\; \n",
       " &L_{cr} &= 5.95\\ \\mathrm{m} \\; \\;\\textrm{(📝)}\n",
       " &I_{w} &= 167000.00\\ \\mathrm{mm}^{6} \\; \n",
       "\\\\[10pt]\n",
       " I_{T} &= 318000.00\\ \\mathrm{mm}^{4} \\; \n",
       " &f_{y} &= 275.00\\ \\mathrm{MPa} \\;\n",
       "\\end{aligned}\n",
       "$"
      ],
      "text/plain": [
       "<IPython.core.display.Latex object>"
      ]
     },
     "metadata": {},
     "output_type": "display_data"
    }
   ],
   "source": [
    "%%render params 2\n",
    "I_zz = trial_section.I_yy * 10000*mm**4\n",
    "L_cr = 5.95 * m # 📝\n",
    "I_w = trial_section.H *1000000 * mm**6\n",
    "I_T = trial_section.J * 10000 *mm**4\n",
    "\n",
    "f_y = 275 * MPa\n",
    "\n"
   ]
  },
  {
   "cell_type": "markdown",
   "metadata": {},
   "source": [
    "M_cr"
   ]
  },
  {
   "cell_type": "code",
   "execution_count": 20,
   "metadata": {},
   "outputs": [
    {
     "data": {
      "text/latex": [
       "$\n",
       "\\begin{aligned}\n",
       "M_{cr} &= \\left( \\frac{ \\left( \\pi \\right) ^{ 2 } \\cdot E \\cdot I_{zz} }{ \\left( L_{cr} \\right) ^{ 2 } } \\right) \\cdot \\left( \\left( \\frac{ I_{w} }{ I_{zz} } \\right) + \\left( \\frac{ G \\cdot I_{T} \\cdot \\left( L_{cr} \\right) ^{ 2 } }{ E \\cdot I_{zz} \\cdot \\left( \\pi \\right) ^{ 2 } } \\right) \\right) ^{ 0.5 } \\\\&= \\left( \\frac{ \\left( 3.14 \\right) ^{ 2 } \\cdot 210.00\\ \\mathrm{GPa} \\cdot 17800000.00\\ \\mathrm{mm}^{4} }{ \\left( 5.95\\ \\mathrm{m} \\right) ^{ 2 } } \\right) \\cdot \\left( \\left( \\frac{ 167000.00\\ \\mathrm{mm}^{6} }{ 17800000.00\\ \\mathrm{mm}^{4} } \\right) + \\left( \\frac{ 81.00\\ \\mathrm{GPa} \\cdot 318000.00\\ \\mathrm{mm}^{4} \\cdot \\left( 5.95\\ \\mathrm{m} \\right) ^{ 2 } }{ 210.00\\ \\mathrm{GPa} \\cdot 17800000.00\\ \\mathrm{mm}^{4} \\cdot \\left( 3.14 \\right) ^{ 2 } } \\right) \\right) ^{ 0.5 } \\\\&= 163.84\\ \\mathrm{kN} \\cdot \\mathrm{m}  \\\\[10pt]\n",
       "\\end{aligned}\n",
       "$"
      ],
      "text/plain": [
       "<IPython.core.display.Latex object>"
      ]
     },
     "metadata": {},
     "output_type": "display_data"
    }
   ],
   "source": [
    "%%render long 2\n",
    "M_cr = ( (pi**2 * E * I_zz)/L_cr**2 ) * ( ((I_w)/(I_zz)) + ((G * I_T* L_cr**2)/(E * I_zz * pi**2)) )**0.5"
   ]
  },
  {
   "cell_type": "code",
   "execution_count": 21,
   "metadata": {},
   "outputs": [
    {
     "data": {
      "text/latex": [
       "$\n",
       "\\begin{aligned}\n",
       "\\lambda_{LT} &= \\left( W_{ply} \\cdot \\frac{ f_{y} }{ M_{cr} } \\right) ^{ 0.5 }  = \\left( 567000.00\\ \\mathrm{mm}^{3} \\cdot \\frac{ 275.00\\ \\mathrm{MPa} }{ 163.84\\ \\mathrm{kN} \\cdot \\mathrm{m} } \\right) ^{ 0.5 } &= 0.98  \n",
       "\\end{aligned}\n",
       "$"
      ],
      "text/plain": [
       "<IPython.core.display.Latex object>"
      ]
     },
     "metadata": {},
     "output_type": "display_data"
    }
   ],
   "source": [
    "%%render short 2\n",
    "lamb_LT = (W_ply * f_y / M_cr)**0.5\n"
   ]
  },
  {
   "cell_type": "code",
   "execution_count": 22,
   "metadata": {},
   "outputs": [
    {
     "data": {
      "text/latex": [
       "$\n",
       "\\begin{aligned}\n",
       "\\alpha_{LT} &= 0.340 \\; \\;\\textrm{(📝)}\n",
       "\\\\[10pt]\n",
       "\\beta &= 0.700 \\; \n",
       "\\\\[10pt]\n",
       "\\lambda_{LT_{0}} &= 0.400 \\; \n",
       "\\\\[10pt]\n",
       "\\Phi_{LT} &= 0.5 \\cdot \\left( 1 + \\alpha_{LT} \\cdot \\left( \\lambda_{LT} - \\lambda_{LT_{0}} \\right) + \\beta \\cdot \\left( \\lambda_{LT} \\right) ^{ 2 } \\right)  = 0.5 \\cdot \\left( 1 + 0.340 \\cdot \\left( 0.976 - 0.400 \\right) + 0.700 \\cdot \\left( 0.976 \\right) ^{ 2 } \\right) &= 0.931  \n",
       "\\\\[10pt]\n",
       "\\chi_{LT} &= \\left( \\Phi_{LT} + \\left( \\left( \\Phi_{LT} \\right) ^{ 2 } - \\beta \\cdot \\left( \\lambda_{LT} \\right) ^{ 2 } \\right) ^{ 0.5 } \\right) ^{ -1 }  = \\left( 0.931 + \\left( \\left( 0.931 \\right) ^{ 2 } - 0.700 \\cdot \\left( 0.976 \\right) ^{ 2 } \\right) ^{ 0.5 } \\right) ^{ -1 } &= 0.725  \n",
       "\\\\[10pt]\n",
       "\\chi_{LT_{limit}} &= \\frac{ 1 }{ \\lambda_{LT} }  = \\frac{ 1 }{ 0.976 } &= 1.025  \n",
       "\\end{aligned}\n",
       "$"
      ],
      "text/plain": [
       "<IPython.core.display.Latex object>"
      ]
     },
     "metadata": {},
     "output_type": "display_data"
    }
   ],
   "source": [
    "%%render short 3\n",
    "# read alpha_LT from table\n",
    "alpha_LT = 0.34 # 📝\n",
    "beta = 0.7\n",
    "lamb_LT_0 = 0.4\n",
    "Phi_LT = 0.5 * (1 + alpha_LT * (lamb_LT - lamb_LT_0) + beta * lamb_LT**2)\n",
    "chi_LT =  (Phi_LT + (Phi_LT**2 - beta*lamb_LT**2)**0.5)**-1\n",
    "chi_LT_limit = 1 / lamb_LT\n",
    "\n"
   ]
  },
  {
   "cell_type": "code",
   "execution_count": 23,
   "metadata": {},
   "outputs": [
    {
     "data": {
      "text/latex": [
       "$\n",
       "\\begin{aligned}\n",
       "M_{bRd} &= \\chi_{LT} \\cdot W_{ply} \\cdot \\frac{ f_{y} }{ \\gamma_{m_{1}} }  = 0.725 \\cdot 567000.000\\ \\mathrm{mm}^{3} \\cdot \\frac{ 275.000\\ \\mathrm{MPa} }{ 1.000 } &= 113.098\\ \\mathrm{kN} \\cdot \\mathrm{m}  \n",
       "\\end{aligned}\n",
       "$"
      ],
      "text/plain": [
       "<IPython.core.display.Latex object>"
      ]
     },
     "metadata": {},
     "output_type": "display_data"
    }
   ],
   "source": [
    "%%render 3\n",
    "M_bRd = chi_LT * W_ply * f_y / gamma_m_1\n"
   ]
  },
  {
   "cell_type": "code",
   "execution_count": 24,
   "metadata": {},
   "outputs": [
    {
     "data": {
      "text/latex": [
       "$\n",
       "\\begin{aligned}\n",
       "M_{zRd} &= W_{elz} \\cdot \\frac{ f_{y} }{ \\gamma_{m_{1}} }  = 174000.000\\ \\mathrm{mm}^{3} \\cdot \\frac{ 275.000\\ \\mathrm{MPa} }{ 1.000 } &= 47.850\\ \\mathrm{kN} \\cdot \\mathrm{m}  \n",
       "\\end{aligned}\n",
       "$"
      ],
      "text/plain": [
       "<IPython.core.display.Latex object>"
      ]
     },
     "metadata": {},
     "output_type": "display_data"
    }
   ],
   "source": [
    "%%render short 3\n",
    "M_zRd = W_elz * f_y / gamma_m_1"
   ]
  },
  {
   "cell_type": "code",
   "execution_count": 25,
   "metadata": {},
   "outputs": [
    {
     "data": {
      "text/latex": [
       "$\n",
       "\\begin{aligned}\n",
       "\\mathrm{util}_{int} &= \\frac{ N_{Ed} }{ N_{bzRd} } + \\frac{ M_{y} }{ M_{bRd} } + 1.5 \\cdot \\left( \\frac{ M_{z} }{ M_{zRd} } \\right)  = \\frac{ 280.000\\ \\mathrm{kN} }{ 684.006\\ \\mathrm{kN} } + \\frac{ 40.620\\ \\mathrm{kN} \\cdot \\mathrm{m} }{ 113.098\\ \\mathrm{kN} \\cdot \\mathrm{m} } + 1.5 \\cdot \\left( \\frac{ 7.796\\ \\mathrm{kN} \\cdot \\mathrm{m} }{ 47.850\\ \\mathrm{kN} \\cdot \\mathrm{m} } \\right) &= 1.013  \n",
       "\\end{aligned}\n",
       "$"
      ],
      "text/plain": [
       "<IPython.core.display.Latex object>"
      ]
     },
     "metadata": {},
     "output_type": "display_data"
    }
   ],
   "source": [
    "%%render short 3\n",
    "util_int = N_Ed/N_bzRd + M_y/M_bRd + 1.5*(M_z/M_zRd)"
   ]
  },
  {
   "cell_type": "code",
   "execution_count": null,
   "metadata": {},
   "outputs": [],
   "source": []
  }
 ],
 "metadata": {
  "kernelspec": {
   "display_name": "Python 3 (ipykernel)",
   "language": "python",
   "name": "python3"
  },
  "language_info": {
   "codemirror_mode": {
    "name": "ipython",
    "version": 3
   },
   "file_extension": ".py",
   "mimetype": "text/x-python",
   "name": "python",
   "nbconvert_exporter": "python",
   "pygments_lexer": "ipython3",
   "version": "3.12.2"
  }
 },
 "nbformat": 4,
 "nbformat_minor": 4
}
