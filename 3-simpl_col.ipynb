{
 "cells": [
  {
   "cell_type": "markdown",
   "metadata": {},
   "source": [
    "# Title"
   ]
  },
  {
   "cell_type": "markdown",
   "metadata": {},
   "source": [
    "Subtitle"
   ]
  },
  {
   "cell_type": "markdown",
   "metadata": {},
   "source": [
    "## Setup"
   ]
  },
  {
   "cell_type": "markdown",
   "metadata": {},
   "source": [
    "### Imports & Env. Settings"
   ]
  },
  {
   "cell_type": "code",
   "execution_count": 1,
   "metadata": {},
   "outputs": [],
   "source": [
    "# Imports\n",
    "import handcalcs # https://github.com/connorferster/handcalcs/wiki\n",
    "from handcalcs import render # https://github.com/connorferster/handcalcs?tab=readme-ov-file#basic-usage-1-as-a-jupyter-cell-magic-render\n",
    "import forallpeople as si # https://connorferster.github.io/forallpeople/basic_usage.html\n",
    "from modules.section import UniversalColumn\n",
    "from modules.strength import design_strength"
   ]
  },
  {
   "cell_type": "code",
   "execution_count": 2,
   "metadata": {},
   "outputs": [],
   "source": [
    "# Environment config.\n",
    "# --> SI units structural env ( https://connorferster.github.io/forallpeople/environments.html#Environments )\n",
    "si.environment(\"structural\", top_level=True) # load SI units for structural eng. into the environment, top_level=True defines them in the top-level namespace (as vars)\n",
    "# -> Handcalcs environment settings for TeX rendering\n",
    "handcalcs.set_option(\"latex_block_start\", \"$\")\n",
    "handcalcs.set_option(\"latex_block_end\", \"$\")\n",
    "handcalcs.set_option(\"math_environment_start\", \"aligned\")\n",
    "handcalcs.set_option(\"math_environment_end\", \"aligned\")"
   ]
  },
  {
   "cell_type": "markdown",
   "metadata": {},
   "source": [
    "### Question Data"
   ]
  },
  {
   "cell_type": "code",
   "execution_count": 3,
   "metadata": {},
   "outputs": [
    {
     "data": {
      "text/latex": [
       "$\n",
       "\\begin{aligned}\n",
       "F_{c} &= 1.00\\ \\mathrm{kN} \\; \n",
       " &M_{x} &= 1.00\\ \\mathrm{kN} \\cdot \\mathrm{m} \\; \n",
       " &L &= 1.00\\ \\mathrm{m} \\; \n",
       "\\\\[10pt]\n",
       " p_{y} &= 275.00\\ \\mathrm{MPa} \\;\n",
       "\\end{aligned}\n",
       "$"
      ],
      "text/plain": [
       "<IPython.core.display.Latex object>"
      ]
     },
     "metadata": {},
     "output_type": "display_data"
    }
   ],
   "source": [
    "%%render params 2 # Loads/Moments, lengths, qn. params\n",
    "# Actions\n",
    "F_c = 1 * kN\n",
    "M_x = 1 * kN * m\n",
    "\n",
    "# Dimensions\n",
    "L = 1 * m\n",
    "\n",
    "# Strengths\n",
    "p_y = 275 * MPa"
   ]
  },
  {
   "cell_type": "markdown",
   "metadata": {},
   "source": [
    "### Trial Section"
   ]
  },
  {
   "cell_type": "code",
   "execution_count": 4,
   "metadata": {},
   "outputs": [],
   "source": [
    "trial_section = UniversalColumn.create(designation=\"356x368x129\")\n",
    "# ... UB not implemented, should be in rework of sections module"
   ]
  },
  {
   "cell_type": "code",
   "execution_count": 5,
   "metadata": {},
   "outputs": [
    {
     "data": {
      "text/latex": [
       "$\n",
       "\\begin{aligned}\n",
       "D &= 355.6\\ \\mathrm{mm} \\; \n",
       " &B &= 368.6\\ \\mathrm{mm} \\; \n",
       " &d &= 290.2\\ \\mathrm{mm} \\; \n",
       "\\\\[10pt]\n",
       " t &= 10.4\\ \\mathrm{mm} \\; \n",
       " &T &= 17.5\\ \\mathrm{mm} \\; \n",
       " &S_{xx} &= 2480000.0\\ \\mathrm{mm}^{3} \\; \n",
       "\\\\[10pt]\n",
       " S_{yy} &= 1200000.0\\ \\mathrm{mm}^{3} \\; \n",
       " &Z_{xx} &= 2260000.0\\ \\mathrm{mm}^{3} \\; \n",
       " &Z_{yy} &= 793000.0\\ \\mathrm{mm}^{3} \\; \n",
       "\\\\[10pt]\n",
       " r_{xx} &= 156.0\\ \\mathrm{mm} \\; \n",
       " &r_{yy} &= 94.3\\ \\mathrm{mm} \\; \n",
       " &A &= 16400.0\\ \\mathrm{mm}^{2} \\; \n",
       "\\\\[10pt]\n",
       "\\end{aligned}\n",
       "$"
      ],
      "text/plain": [
       "<IPython.core.display.Latex object>"
      ]
     },
     "metadata": {},
     "output_type": "display_data"
    }
   ],
   "source": [
    "%%render params 1 # BS Notation\n",
    "D = trial_section.D * mm\n",
    "B = trial_section.B * mm\n",
    "d = trial_section.d * mm\n",
    "t = trial_section.t * mm\n",
    "T = trial_section.T * mm\n",
    "\n",
    "S_xx = trial_section.S_xx * 1000*mm**3\n",
    "S_yy = trial_section.S_yy * 1000*mm**3\n",
    "Z_xx = trial_section.Z_xx * 1000*mm**3\n",
    "Z_yy = trial_section.Z_yy * 1000*mm**3\n",
    "r_xx = trial_section.r_xx * 10*mm\n",
    "r_yy = trial_section.r_yy * 10*mm\n",
    "A = trial_section.A * 100*mm**2"
   ]
  },
  {
   "cell_type": "code",
   "execution_count": 6,
   "metadata": {},
   "outputs": [
    {
     "data": {
      "text/latex": [
       "$\n",
       "\\begin{aligned}\n",
       "h &= 355.6\\ \\mathrm{mm} \\; \n",
       " &b &= 368.6\\ \\mathrm{mm} \\; \n",
       " &t_{w} &= 10.4\\ \\mathrm{mm} \\; \n",
       "\\\\[10pt]\n",
       " t_{f} &= 17.5\\ \\mathrm{mm} \\; \n",
       " &W_{ply} &= 2480000.0\\ \\mathrm{mm}^{3} \\; \n",
       " &W_{plz} &= 1200000.0\\ \\mathrm{mm}^{3} \\; \n",
       "\\\\[10pt]\n",
       " W_{ely} &= 2260000.0\\ \\mathrm{mm}^{3} \\; \n",
       " &W_{elz} &= 793000.0\\ \\mathrm{mm}^{3} \\; \n",
       " &i_{yy} &= 156.0\\ \\mathrm{mm} \\; \n",
       "\\\\[10pt]\n",
       " i_{zz} &= 94.3\\ \\mathrm{mm} \\; \n",
       " &A &= 16400.0\\ \\mathrm{mm}^{2} \\;\n",
       "\\end{aligned}\n",
       "$"
      ],
      "text/plain": [
       "<IPython.core.display.Latex object>"
      ]
     },
     "metadata": {},
     "output_type": "display_data"
    }
   ],
   "source": [
    "%%render params 1 # EC3 Notation\n",
    "h = D\n",
    "b = B\n",
    "t_w = t\n",
    "t_f = T\n",
    "\n",
    "W_ply = S_xx\n",
    "W_plz = S_yy\n",
    "W_ely = Z_xx\n",
    "W_elz = Z_yy\n",
    "i_yy = r_xx\n",
    "i_zz = r_yy\n",
    "A = trial_section.A * 100*mm**2"
   ]
  },
  {
   "cell_type": "markdown",
   "metadata": {},
   "source": [
    "<!-- ### Classification -->"
   ]
  },
  {
   "cell_type": "markdown",
   "metadata": {},
   "source": [
    "### Effective Length $L_{\\text{E}}$ / $L_{\\text{Cr}}$"
   ]
  },
  {
   "cell_type": "markdown",
   "metadata": {},
   "source": [
    "Table 22 BS 5950\n",
    "_ENV 1993-1-1:2004_"
   ]
  },
  {
   "cell_type": "code",
   "execution_count": 13,
   "metadata": {},
   "outputs": [
    {
     "data": {
      "text/latex": [
       "$\n",
       "\\begin{aligned}\n",
       "L_{E} &= 1.0 \\cdot L \\\\&= 1.0 \\cdot 1.00\\ \\mathrm{m} \\\\&= 1.00\\ \\mathrm{m}  \\\\[10pt]\n",
       "\\\\[10pt]\n",
       "L_{Cr} &= 1.00\\ \\mathrm{m} \\; \n",
       "\\end{aligned}\n",
       "$"
      ],
      "text/plain": [
       "<IPython.core.display.Latex object>"
      ]
     },
     "metadata": {},
     "output_type": "display_data"
    }
   ],
   "source": [
    "%%render short 2 # Uncomment correct value, defaults to 1.0 L\n",
    "# L_E = 0.7 * L\n",
    "# L_E = 0.85 * L\n",
    "L_E = 1.0 * L\n",
    "# L_E = 1.2 * L\n",
    "# L_E = 1.5 * L\n",
    "# L_E = 2.0 * L\n",
    "\n",
    "L_Cr = L_E"
   ]
  },
  {
   "cell_type": "markdown",
   "metadata": {},
   "source": []
  },
  {
   "cell_type": "markdown",
   "metadata": {},
   "source": [
    "## BS 5950"
   ]
  },
  {
   "cell_type": "markdown",
   "metadata": {},
   "source": [
    "### Classification"
   ]
  },
  {
   "cell_type": "code",
   "execution_count": 14,
   "metadata": {},
   "outputs": [
    {
     "name": "stdout",
     "output_type": "stream",
     "text": [
      "Thickness: 17.5 mm\n",
      "Design strength: 265 MPa\n"
     ]
    }
   ],
   "source": [
    "# Strength class (Defaults to S275) Table 9 BS\n",
    "thickest = max(trial_section.t, trial_section.T)\n",
    "p_y = design_strength(thickness=thickest, steel_grade=275)\n",
    "print(f\"Thickness: {thickest} mm\")\n",
    "print(f\"Design strength: {p_y} MPa\")"
   ]
  },
  {
   "cell_type": "code",
   "execution_count": 15,
   "metadata": {},
   "outputs": [],
   "source": [
    "# Section Class Table 11 BS"
   ]
  },
  {
   "cell_type": "markdown",
   "metadata": {},
   "source": [
    "## Eurocode 3"
   ]
  },
  {
   "cell_type": "markdown",
   "metadata": {},
   "source": []
  }
 ],
 "metadata": {
  "kernelspec": {
   "display_name": "tf",
   "language": "python",
   "name": "python3"
  },
  "language_info": {
   "codemirror_mode": {
    "name": "ipython",
    "version": 3
   },
   "file_extension": ".py",
   "mimetype": "text/x-python",
   "name": "python",
   "nbconvert_exporter": "python",
   "pygments_lexer": "ipython3",
   "version": "3.12.2"
  }
 },
 "nbformat": 4,
 "nbformat_minor": 2
}
